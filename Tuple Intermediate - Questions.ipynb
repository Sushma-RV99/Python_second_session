{
 "cells": [
  {
   "cell_type": "code",
   "execution_count": 1,
   "metadata": {},
   "outputs": [],
   "source": [
    "1. Write a Python program to unzip a list of tuples into individual lists.\n",
    "    Data:\n",
    "        x = [(1,2), (3,4), (8,9)]\n",
    "    Expected Output:\n",
    "        [(1, 3, 8), (2, 4, 9)]\n",
    "        \n",
    "        "
   ]
  },
  {
   "cell_type": "code",
   "execution_count": 1,
   "metadata": {},
   "outputs": [
    {
     "name": "stdout",
     "output_type": "stream",
     "text": [
      "[(1, 3, 8), (2, 4, 9)]\n"
     ]
    }
   ],
   "source": [
    "x = [(1,2), (3,4), (8,9)]\n",
    "result=list(zip(*x))\n",
    "print(result)"
   ]
  },
  {
   "cell_type": "code",
   "execution_count": 2,
   "metadata": {},
   "outputs": [],
   "source": [
    "2. Write a Python program to print a tuple with string formatting.\n",
    "    Data:\n",
    "        x = (10, 20, 30)\n",
    "    Expected Output:\n",
    "        This is a tuple (10, 20, 30)\n",
    "        \n",
    "        "
   ]
  },
  {
   "cell_type": "code",
   "execution_count": 2,
   "metadata": {},
   "outputs": [
    {
     "name": "stdout",
     "output_type": "stream",
     "text": [
      "This is a tuple (10, 20, 30)\n"
     ]
    }
   ],
   "source": [
    "x = (10, 20, 30)\n",
    "print(f\"This is a tuple {x}\")"
   ]
  },
  {
   "cell_type": "code",
   "execution_count": 3,
   "metadata": {},
   "outputs": [],
   "source": [
    "3. Write a Python program to replace last values of tuples in a list.\n",
    "    Data:\n",
    "        x= [(80, 60, 40), (40, 90, 60), (20, 40, 90)]\n",
    "    Expected Output:\n",
    "        [(80, 60, 100), (40, 90, 100), (20, 40, 100)]\n",
    "        \n",
    "        "
   ]
  },
  {
   "cell_type": "code",
   "execution_count": 3,
   "metadata": {},
   "outputs": [
    {
     "name": "stdout",
     "output_type": "stream",
     "text": [
      "[(80, 60, 100), (40, 90, 100), (20, 40, 100)]\n"
     ]
    }
   ],
   "source": [
    "x = [(80, 60, 40), (40, 90, 60), (20, 40, 90)]\n",
    "result = [t[:-1] + (100,) for t in x]\n",
    "print(result)"
   ]
  },
  {
   "cell_type": "code",
   "execution_count": 4,
   "metadata": {},
   "outputs": [],
   "source": [
    "4. Write a Python program to remove an empty tuple(s) from a list of tuples.\n",
    "    Data:\n",
    "        X = [(), (), ('',), ('a', 'b'), ('c', 'd', 'e'), ('f')] \n",
    "    Expected Output:\n",
    "        [('',), ('a', 'b'), ('c', 'd', 'e'), 'f']        \n",
    "        \n",
    "        "
   ]
  },
  {
   "cell_type": "code",
   "execution_count": 4,
   "metadata": {},
   "outputs": [
    {
     "name": "stdout",
     "output_type": "stream",
     "text": [
      "[('',), ('a', 'b'), ('c', 'd', 'e'), 'f']\n"
     ]
    }
   ],
   "source": [
    "X = [(), (), ('',), ('a', 'b'), ('c', 'd', 'e'), ('f')] \n",
    "result = [item for item in X if item != ()]\n",
    "print(result)"
   ]
  },
  {
   "cell_type": "code",
   "execution_count": 5,
   "metadata": {},
   "outputs": [],
   "source": [
    "5. Write a Python program to sort a tuple by its element specified in float.\n",
    "    Data:\n",
    "        x = [('item1', '29.20'), ('item2', '49.10'), ('item3', '33.5')]\n",
    "    Expected Output:\n",
    "        [('item2', '49.10'), ('item3', '33.5'), ('item1', '29.20')]\n",
    "        \n",
    "        "
   ]
  },
  {
   "cell_type": "code",
   "execution_count": 5,
   "metadata": {},
   "outputs": [
    {
     "name": "stdout",
     "output_type": "stream",
     "text": [
      "[('item2', '49.10'), ('item3', '33.5'), ('item1', '29.20')]\n"
     ]
    }
   ],
   "source": [
    "x = [('item1', '29.20'), ('item2', '49.10'), ('item3', '33.5')]\n",
    "result = sorted(x, key=lambda item: float(item[1]), reverse=True)\n",
    "print(result)"
   ]
  },
  {
   "cell_type": "code",
   "execution_count": 2,
   "metadata": {},
   "outputs": [],
   "source": [
    "6. Write a Python program to count the elements in a list until an element is a tuple.\n",
    "    Data:\n",
    "        x = [10,20,30,(10,20),40]\n",
    "        y = 0\n",
    "    Expected Output:\n",
    "        3\n",
    "        \n",
    "        "
   ]
  },
  {
   "cell_type": "code",
   "execution_count": 6,
   "metadata": {},
   "outputs": [
    {
     "name": "stdout",
     "output_type": "stream",
     "text": [
      "3\n"
     ]
    }
   ],
   "source": [
    "x = [10, 20, 30, (10, 20), 40]\n",
    "y = 0\n",
    "for item in x:\n",
    "    if isinstance(item, tuple):\n",
    "        break\n",
    "    y += 1\n",
    "print(y)"
   ]
  },
  {
   "cell_type": "code",
   "execution_count": 3,
   "metadata": {},
   "outputs": [],
   "source": [
    "7. Write a Python program to Sort a tuple of tuples by 2nd item.\n",
    "    Data:\n",
    "        x = (('a', 23),('b', 37),('c', 11), ('d',29))\n",
    "    Expected Output:\n",
    "        (('c', 11), ('a', 23), ('d', 29), ('b', 37))\n",
    "        \n",
    "        "
   ]
  },
  {
   "cell_type": "code",
   "execution_count": 7,
   "metadata": {},
   "outputs": [
    {
     "name": "stdout",
     "output_type": "stream",
     "text": [
      "(('c', 11), ('a', 23), ('d', 29), ('b', 37))\n"
     ]
    }
   ],
   "source": [
    "x = (('a', 23), ('b', 37), ('c', 11), ('d', 29))\n",
    "sorted_x=tuple(sorted(x, key=lambda item: item[1]))\n",
    "print(sorted_x)"
   ]
  },
  {
   "cell_type": "code",
   "execution_count": 4,
   "metadata": {},
   "outputs": [],
   "source": [
    "8. Write a Python program to Check whether all items in a tuple are the same.\n",
    "    Data:\n",
    "        y = (45, 45, 45, 45)\n",
    "    Expected Output:\n",
    "        True\n",
    "        \n",
    "        "
   ]
  },
  {
   "cell_type": "code",
   "execution_count": 8,
   "metadata": {},
   "outputs": [
    {
     "name": "stdout",
     "output_type": "stream",
     "text": [
      "True\n"
     ]
    }
   ],
   "source": [
    "y = (45, 45, 45, 45)\n",
    "result = len(set(y)) == 1\n",
    "print(result)"
   ]
  },
  {
   "cell_type": "code",
   "execution_count": 5,
   "metadata": {},
   "outputs": [],
   "source": [
    "9. Write a Python program to calculate the area of a circle by sending the value of radius in a tuple.\n",
    "    Data:\n",
    "        a = (5)\n",
    "    Expected Output:\n",
    "        78.57142857142857\n",
    "        \n",
    "        "
   ]
  },
  {
   "cell_type": "code",
   "execution_count": 10,
   "metadata": {},
   "outputs": [
    {
     "name": "stdout",
     "output_type": "stream",
     "text": [
      "78.57142857142857\n"
     ]
    }
   ],
   "source": [
    "a = (5,) \n",
    "radius=a[0]\n",
    "area=(22/7)*radius*radius\n",
    "print(area)"
   ]
  },
  {
   "cell_type": "code",
   "execution_count": 6,
   "metadata": {},
   "outputs": [],
   "source": [
    "10. Write a Python program to calculate the circumference of a circle by sending the value of radius in a tuple.\n",
    "    Data:\n",
    "        a = (2)\n",
    "    Expected Output:\n",
    "        12.571428571428571        \n",
    "        \n",
    "        "
   ]
  },
  {
   "cell_type": "code",
   "execution_count": 11,
   "metadata": {},
   "outputs": [
    {
     "name": "stdout",
     "output_type": "stream",
     "text": [
      "12.571428571428571\n"
     ]
    }
   ],
   "source": [
    "a = (2,) \n",
    "radius = a[0]\n",
    "circumference = 2 * (22/7) * radius\n",
    "print(circumference)"
   ]
  },
  {
   "cell_type": "code",
   "execution_count": 7,
   "metadata": {},
   "outputs": [],
   "source": [
    "11. Write a Python program to calculate the perimeter of a square by sending the value of side in a tuple.\n",
    "    Data:\n",
    "        a = (3)\n",
    "    Expected Output:\n",
    "        12\n",
    "        \n",
    "        "
   ]
  },
  {
   "cell_type": "code",
   "execution_count": 12,
   "metadata": {},
   "outputs": [
    {
     "name": "stdout",
     "output_type": "stream",
     "text": [
      "12\n"
     ]
    }
   ],
   "source": [
    "a = (3,)\n",
    "side = a[0]\n",
    "perimeter = 4 * side\n",
    "print(perimeter)"
   ]
  },
  {
   "cell_type": "code",
   "execution_count": 8,
   "metadata": {},
   "outputs": [],
   "source": [
    "12. Write a Python program to calculate the area of a traingle by sending the value of height and base in a tuple.\n",
    "    Data:\n",
    "        h = (23)\n",
    "        b = (34)\n",
    "    Expected Output:\n",
    "        391.0\n",
    "        \n",
    "        "
   ]
  },
  {
   "cell_type": "code",
   "execution_count": 13,
   "metadata": {},
   "outputs": [
    {
     "name": "stdout",
     "output_type": "stream",
     "text": [
      "391.0\n"
     ]
    }
   ],
   "source": [
    "h = (23,)  \n",
    "b = (34,)\n",
    "height = h[0]\n",
    "base = b[0]\n",
    "area = 0.5 * base * height\n",
    "print(area)"
   ]
  },
  {
   "cell_type": "code",
   "execution_count": 9,
   "metadata": {},
   "outputs": [],
   "source": [
    "13. Write a Python program to create a tuple with elements of different data types.\n",
    "    Expected Output:\n",
    "        ()\n",
    "        (1, 2, 3)\n",
    "        (1, 'Hello', 3.4)\n",
    "        ('HI', [8, 4, 6], (1, 2, 3))\n",
    "        \n",
    "        "
   ]
  },
  {
   "cell_type": "code",
   "execution_count": 14,
   "metadata": {},
   "outputs": [
    {
     "name": "stdout",
     "output_type": "stream",
     "text": [
      "()\n",
      "(1, 2, 3)\n",
      "(1, 'Hello', 3.4)\n",
      "('HI', [8, 4, 6], (1, 2, 3))\n"
     ]
    }
   ],
   "source": [
    "t1 = ()\n",
    "print(t1)\n",
    "t2 = (1, 2, 3)\n",
    "print(t2)\n",
    "t3 = (1, 'Hello', 3.4)\n",
    "print(t3)\n",
    "t4 = ('HI', [8, 4, 6], (1, 2, 3))\n",
    "print(t4)"
   ]
  },
  {
   "cell_type": "code",
   "execution_count": 10,
   "metadata": {},
   "outputs": [],
   "source": [
    "14. Write a Python program to unpack a tuple in several variables.\n",
    "    Data:\n",
    "        x = 3, 4.6, \"dog\"\n",
    "    Expected Output:\n",
    "        (3, 4.6, 'dog')\n",
    "        3\n",
    "        4.6\n",
    "        dog\n",
    "        \n",
    "        "
   ]
  },
  {
   "cell_type": "code",
   "execution_count": 15,
   "metadata": {},
   "outputs": [
    {
     "name": "stdout",
     "output_type": "stream",
     "text": [
      "(3, 4.6, 'dog')\n",
      "3\n",
      "4.6\n",
      "dog\n"
     ]
    }
   ],
   "source": [
    "x = 3, 4.6, \"dog\"\n",
    "a, b, c = x\n",
    "print(x)\n",
    "print(a)\n",
    "print(b)\n",
    "print(c)"
   ]
  },
  {
   "cell_type": "code",
   "execution_count": 1,
   "metadata": {},
   "outputs": [],
   "source": [
    "15. Write a Python program to update the value \"6\" to \"9\" which is present in a tuple using index. \n",
    "    Data:\n",
    "        x = (4, 2, 3, [6, 5])\n",
    "    Expected Output:\n",
    "        (4, 2, 3, [9, 5])\n",
    "        \n",
    "        "
   ]
  },
  {
   "cell_type": "code",
   "execution_count": 16,
   "metadata": {},
   "outputs": [
    {
     "name": "stdout",
     "output_type": "stream",
     "text": [
      "(4, 2, 3, [9, 5])\n"
     ]
    }
   ],
   "source": [
    "x = (4, 2, 3, [6, 5])\n",
    "lst = x[3]\n",
    "for i, val in enumerate(lst):\n",
    "    if val == 6:\n",
    "        lst[i] = 9\n",
    "        break\n",
    "print(x)"
   ]
  },
  {
   "cell_type": "code",
   "execution_count": 2,
   "metadata": {},
   "outputs": [],
   "source": [
    "16. Write a Python program to check whether an element is present in a given tuple using the keyword in. Print the elements of a tuple one by one.\n",
    "    Data:\n",
    "        x = (\"Bihar\", \"Odisha\", \"Assam\") \n",
    "    Expected Output:\n",
    "        yes Bihar is present in the given tuple\n",
    "\n",
    "        Bihar\n",
    "        Odisha\n",
    "        Assam\n",
    "        \n",
    "        "
   ]
  },
  {
   "cell_type": "code",
   "execution_count": 3,
   "metadata": {},
   "outputs": [],
   "source": [
    "17. Write a Python program to check whether an element is not present in a given tuple using the keyword not in. Print the elements of a tuple one by one.\n",
    "    Data:\n",
    "        x = (\"Bihar\", \"Odisha\", \"Assam\")\n",
    "    Expected Output:\n",
    "        False\n",
    "        True        \n",
    "        \n",
    "        "
   ]
  },
  {
   "cell_type": "code",
   "execution_count": 17,
   "metadata": {},
   "outputs": [
    {
     "name": "stdout",
     "output_type": "stream",
     "text": [
      "yes Bihar is present in the given tuple\n",
      "\n",
      "Bihar\n",
      "Odisha\n",
      "Assam\n"
     ]
    }
   ],
   "source": [
    "x = (\"Bihar\", \"Odisha\", \"Assam\")\n",
    "if \"Bihar\" in x:\n",
    "    print(\"yes Bihar is present in the given tuple\\n\")\n",
    "for state in x:\n",
    "    print(state)"
   ]
  },
  {
   "cell_type": "code",
   "execution_count": 4,
   "metadata": {},
   "outputs": [],
   "source": [
    "''' 18. Write a Python program to print the following output from given tuple (5 > 3 and 5 < 10 )and (5 > 3 or 5 > 10) is True or False.\n",
    "    Expected Output:\n",
    "        Both statements are True\n",
    "        any one statements are True '''\n",
    "\n",
    "        "
   ]
  },
  {
   "cell_type": "code",
   "execution_count": 18,
   "metadata": {},
   "outputs": [
    {
     "name": "stdout",
     "output_type": "stream",
     "text": [
      "Both statements are True\n"
     ]
    }
   ],
   "source": [
    "statement1 = (5 > 3 and 5 < 10)\n",
    "statement2 = (5 > 3 or 5 > 10)\n",
    "if statement1 and statement2:\n",
    "    print(\"Both statements are True\")\n",
    "elif statement1 or statement2:\n",
    "    print(\"any one statements are True\")\n",
    "else:\n",
    "    print(\"Both statements are False\")"
   ]
  },
  {
   "cell_type": "code",
   "execution_count": 5,
   "metadata": {},
   "outputs": [],
   "source": [
    "19. Write a Python program to print an element from a given tuple using index and negative index.\n",
    "    Data:\n",
    "        x = (\"boss\", \"bala\", \"suresh\")\n",
    "    Expected Output:\n",
    "        bala\n",
    "        suresh\n",
    "        \n",
    "        "
   ]
  },
  {
   "cell_type": "code",
   "execution_count": 19,
   "metadata": {},
   "outputs": [
    {
     "name": "stdout",
     "output_type": "stream",
     "text": [
      "bala\n",
      "suresh\n"
     ]
    }
   ],
   "source": [
    "x = (\"boss\", \"bala\", \"suresh\")\n",
    "print(x[1])\n",
    "print(x[-1])"
   ]
  },
  {
   "cell_type": "code",
   "execution_count": null,
   "metadata": {},
   "outputs": [],
   "source": [
    "20. Write a Python program to print the elements of a given tuple using range of indices and range of negative indices.\n",
    "    Data:\n",
    "        x = (\"Magnum\", \"Pistah\", \"Strawberry\", \"Vennila\", \"Chocobar\", \"Blackberry\", \"Salad\")\n",
    "    Range of Indexes,Range of Negative Indexes.\n",
    "    Expected Output:\n",
    "        ('Strawberry', 'Vennila', 'Chocobar', 'Blackberry', 'Salad')\n",
    "        ('Vennila', 'Chocobar', 'Blackberry')        \n",
    "        \n",
    "        "
   ]
  },
  {
   "cell_type": "code",
   "execution_count": 20,
   "metadata": {},
   "outputs": [
    {
     "name": "stdout",
     "output_type": "stream",
     "text": [
      "('Strawberry', 'Vennila', 'Chocobar', 'Blackberry', 'Salad')\n",
      "('Strawberry', 'Vennila', 'Chocobar')\n"
     ]
    }
   ],
   "source": [
    "x = (\"Magnum\", \"Pistah\", \"Strawberry\", \"Vennila\", \"Chocobar\", \"Blackberry\", \"Salad\")\n",
    "print(x[2:])\n",
    "print(x[-5:-2])"
   ]
  },
  {
   "cell_type": "code",
   "execution_count": null,
   "metadata": {},
   "outputs": [],
   "source": []
  }
 ],
 "metadata": {
  "kernelspec": {
   "display_name": "Python 3 (ipykernel)",
   "language": "python",
   "name": "python3"
  },
  "language_info": {
   "codemirror_mode": {
    "name": "ipython",
    "version": 3
   },
   "file_extension": ".py",
   "mimetype": "text/x-python",
   "name": "python",
   "nbconvert_exporter": "python",
   "pygments_lexer": "ipython3",
   "version": "3.13.5"
  }
 },
 "nbformat": 4,
 "nbformat_minor": 4
}
