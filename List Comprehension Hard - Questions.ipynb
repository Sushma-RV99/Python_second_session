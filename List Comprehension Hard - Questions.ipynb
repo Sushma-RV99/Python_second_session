{
 "cells": [
  {
   "cell_type": "markdown",
   "metadata": {},
   "source": [
    "# List Comprehension Hard Questions"
   ]
  },
  {
   "cell_type": "code",
   "execution_count": 1,
   "metadata": {},
   "outputs": [],
   "source": [
    "1. Write a Python program to remove key values pairs from a list of dictionaries.\n",
    "    Data:\n",
    "        Original List:  [{'key1': 'value1', 'key2': 'value2'}, {'key1': 'value3', 'key2': 'value4'}]\n",
    "        New List:  [{'key2': 'value2'}, {'key2': 'value4'}]\n",
    "        \n",
    "        "
   ]
  },
  {
   "cell_type": "code",
   "execution_count": 1,
   "metadata": {},
   "outputs": [
    {
     "name": "stdout",
     "output_type": "stream",
     "text": [
      "Original List:  [{'key1': 'value1', 'key2': 'value2'}, {'key1': 'value3', 'key2': 'value4'}]\n",
      "New List:  [{'key2': 'value2'}, {'key2': 'value4'}]\n"
     ]
    }
   ],
   "source": [
    "original_list = [{'key1': 'value1', 'key2': 'value2'}, {'key1': 'value3', 'key2': 'value4'}]\n",
    "new_list = [{k: v for k, v in d.items() if k != 'key1'} for d in original_list]\n",
    "print(\"Original List: \", original_list)\n",
    "print(\"New List: \", new_list)"
   ]
  },
  {
   "cell_type": "code",
   "execution_count": null,
   "metadata": {},
   "outputs": [],
   "source": [
    "2. Write a Python program to get the values starting with a specified letter from the list.\n",
    "    Data:\n",
    "        lists:['neutron', 'iron', 'proton', 'neuron', 'photon', 'photosynthesis', 'calcium', 'copper', 'carbon'] \n",
    "    Expected Output:\n",
    "        Original list: ['neutron', 'iron', 'proton', 'neuron', 'photon', 'photosynthesis', 'calcium', 'copper', 'carbon']\n",
    "        Items start with c from the said list: ['calcium', 'copper', 'carbon']\n",
    "        Items start with p from the said list: ['proton', 'photon', 'photosynthesis']\n",
    "        Items start with m from the said list: []       \n",
    "        \n",
    "        \n",
    "        "
   ]
  },
  {
   "cell_type": "code",
   "execution_count": 2,
   "metadata": {},
   "outputs": [
    {
     "name": "stdout",
     "output_type": "stream",
     "text": [
      "Original list: ['neutron', 'iron', 'proton', 'neuron', 'photon', 'photosynthesis', 'calcium', 'copper', 'carbon']\n",
      "Items start with c from the said list: ['calcium', 'copper', 'carbon']\n",
      "Items start with p from the said list: ['proton', 'photon', 'photosynthesis']\n",
      "Items start with m from the said list: []\n"
     ]
    }
   ],
   "source": [
    "lists = ['neutron', 'iron', 'proton', 'neuron', 'photon', 'photosynthesis', 'calcium', 'copper', 'carbon']\n",
    "\n",
    "def items_start_with(lst, letter):\n",
    "    return [item for item in lst if item.startswith(letter)]\n",
    "\n",
    "print(\"Original list:\", lists)\n",
    "print(\"Items start with c from the said list:\", items_start_with(lists, 'c'))\n",
    "print(\"Items start with p from the said list:\", items_start_with(lists, 'p'))\n",
    "print(\"Items start with m from the said list:\", items_start_with(lists, 'm'))"
   ]
  },
  {
   "cell_type": "code",
   "execution_count": null,
   "metadata": {},
   "outputs": [],
   "source": [
    "3. Write a Python program to pack consecutive duplicates of a given list elements into sublists.\n",
    "    Data:\n",
    "        list:[10, 0, 11, 2, 3, 4, 44, 5, 6, 6, 6, 7, 8, 9, 4, 4]\n",
    "    Expected Output:\n",
    "        After packing consecutive duplicates of the said list elements into sublists:\n",
    "        [[10], [0], [11], [2], [3], [4], [44], [5], [6, 6, 6], [7], [8], [9], [4, 4]]\n",
    "        \n",
    "        \n",
    "        \n",
    "        "
   ]
  },
  {
   "cell_type": "code",
   "execution_count": 3,
   "metadata": {},
   "outputs": [
    {
     "name": "stdout",
     "output_type": "stream",
     "text": [
      "After packing consecutive duplicates of the said list elements into sublists:\n",
      "[[10], [0], [11], [2], [3], [4], [44], [5], [6, 6, 6], [7], [8], [9], [4, 4]]\n"
     ]
    }
   ],
   "source": [
    "lst = [10, 0, 11, 2, 3, 4, 44, 5, 6, 6, 6, 7, 8, 9, 4, 4]\n",
    "\n",
    "if not lst:\n",
    "    packed = []\n",
    "else:\n",
    "    packed = []\n",
    "    current = [lst[0]]\n",
    "    for item in lst[1:]:\n",
    "        if item == current[-1]:\n",
    "            current.append(item)\n",
    "        else:\n",
    "            packed.append(current)\n",
    "            current = [item]\n",
    "    packed.append(current) \n",
    "\n",
    "print(\"After packing consecutive duplicates of the said list elements into sublists:\")\n",
    "print(packed)"
   ]
  },
  {
   "cell_type": "code",
   "execution_count": null,
   "metadata": {},
   "outputs": [],
   "source": [
    "4. Write a Python program to create a list reflecting the run-length encoding from a given list of integers or characters. \n",
    "    Data:\n",
    "        list:[9, 1, 2, 4, 3, 4.3, 5, 1]\n",
    "        String: \"marvelboss\"\n",
    "    Expected Output:\n",
    "        List reflecting the run-length encoding from the said:\n",
    "        [[1, 9], [1, 1], [1, 2], [1, 4], [1, 3], [1, 4.3], [1, 5], [1, 1]]\n",
    "        [[1, 'M'], [1, 'a'], [1, 'r'], [1, 'v'], [1, 'e'], [1, 'l'], [1, 'b'], [1, 'o'], [2, 's']]\n",
    "        \n",
    "        \n",
    "        \n",
    "        "
   ]
  },
  {
   "cell_type": "code",
   "execution_count": 4,
   "metadata": {},
   "outputs": [
    {
     "name": "stdout",
     "output_type": "stream",
     "text": [
      "List reflecting the run-length encoding from the said:\n",
      "[[1, 9], [1, 1], [1, 2], [1, 4], [1, 3], [1, 4.3], [1, 5], [1, 1]]\n",
      "[[1, 'M'], [1, 'a'], [1, 'r'], [1, 'v'], [1, 'e'], [1, 'l'], [1, 'b'], [1, 'o'], [2, 's']]\n"
     ]
    }
   ],
   "source": [
    "def run_length_encode(seq):\n",
    "    if not seq:\n",
    "        return []\n",
    "    result = []\n",
    "    count = 1\n",
    "    prev = seq[0]\n",
    "    for item in seq[1:]:\n",
    "        if item == prev:\n",
    "            count += 1\n",
    "        else:\n",
    "            result.append([count, prev])\n",
    "            prev = item\n",
    "            count = 1\n",
    "    result.append([count, prev])\n",
    "    return result\n",
    "lst = [9, 1, 2, 4, 3, 4.3, 5, 1]\n",
    "s = \"marvelboss\"\n",
    "print(\"List reflecting the run-length encoding from the said:\")\n",
    "print(run_length_encode(lst))\n",
    "print(run_length_encode(s.capitalize())) "
   ]
  },
  {
   "cell_type": "code",
   "execution_count": null,
   "metadata": {},
   "outputs": [],
   "source": [
    "5. Write a Python program to decode a run-length encoded given list. \n",
    "    Data:\n",
    "        list:[[2, 1], 2, 3, [2, 4], 5, 1]\n",
    "    Expected Output:\n",
    "        Decode a run-length encoded said list:\n",
    "        [1, 1, 2, 3, 4, 4, 5, 1]\n",
    "        \n",
    "        \n",
    "        \n",
    "        "
   ]
  },
  {
   "cell_type": "code",
   "execution_count": 5,
   "metadata": {},
   "outputs": [
    {
     "name": "stdout",
     "output_type": "stream",
     "text": [
      "List reflecting the run-length encoding from the said:\n",
      "[[1, 9], [1, 1], [1, 2], [1, 4], [1, 3], [1, 4.3], [1, 5], [1, 1]]\n",
      "[[1, 'M'], [1, 'a'], [1, 'r'], [1, 'v'], [1, 'e'], [1, 'l'], [1, 'b'], [1, 'o'], [2, 's']]\n"
     ]
    }
   ],
   "source": [
    "def run_length_encode(seq):\n",
    "    if not seq:\n",
    "        return []\n",
    "    result = []\n",
    "    count = 1\n",
    "    prev = seq[0]\n",
    "    for item in seq[1:]:\n",
    "        if item == prev:\n",
    "            count += 1\n",
    "        else:\n",
    "            result.append([count, prev])\n",
    "            prev = item\n",
    "            count = 1\n",
    "    result.append([count, prev])\n",
    "    return result\n",
    "\n",
    "lst = [9, 1, 2, 4, 3, 4.3, 5, 1]\n",
    "s = \"marvelboss\"\n",
    "\n",
    "print(\"List reflecting the run-length encoding from the said:\")\n",
    "print(run_length_encode(lst))\n",
    "print(run_length_encode(s.capitalize()))"
   ]
  },
  {
   "cell_type": "code",
   "execution_count": null,
   "metadata": {},
   "outputs": [],
   "source": [
    "6. Write a Python program to remove sublists from a given list of lists, which contains an element outside a given range.\n",
    "    Data:\n",
    "        list:[[4], [10], [1, 4, 3], [0, 1, 5, 3, 6, 7], [9, 11], [13, 14, 15, 17]]\n",
    "    Expected Output:\n",
    "        Original list: [[2], [0], [1, 2, 3], [0, 1, 2, 3, 6, 7], [9, 11], [13, 14, 15, 17]]\n",
    "        After removing sublists which contains an element outside the range ( 13 , 17 ) : [[13, 14, 15, 17]]\n",
    "        \n",
    "        \n",
    "        "
   ]
  },
  {
   "cell_type": "code",
   "execution_count": 6,
   "metadata": {},
   "outputs": [
    {
     "name": "stdout",
     "output_type": "stream",
     "text": [
      "Original list: [[4], [10], [1, 4, 3], [0, 1, 5, 3, 6, 7], [9, 11], [13, 14, 15, 17]]\n",
      "After removing sublists which contains an element outside the range ( 13 , 17 ) : [[13, 14, 15, 17]]\n"
     ]
    }
   ],
   "source": [
    "lst = [[4], [10], [1, 4, 3], [0, 1, 5, 3, 6, 7], [9, 11], [13, 14, 15, 17]]\n",
    "min_val, max_val = 13, 17\n",
    "print(\"Original list:\", lst)\n",
    "filtered = [sublist for sublist in lst if all(min_val <= x <= max_val for x in sublist)]\n",
    "print(f\"After removing sublists which contains an element outside the range ( {min_val} , {max_val} ) :\", filtered)"
   ]
  },
  {
   "cell_type": "code",
   "execution_count": null,
   "metadata": {},
   "outputs": [],
   "source": [
    "7. Write a Python program to find the maximum and minimum values in a given heterogeneous list. \n",
    "    Data:\n",
    "        list:['boss', 3, 2, 4, 5, 'kumar']\n",
    "    Expected Output:\n",
    "        Maximum and Minimum values in the said list:\n",
    "        (5, 2)\n",
    "        \n",
    "        \n",
    "        \n",
    "        "
   ]
  },
  {
   "cell_type": "code",
   "execution_count": 7,
   "metadata": {},
   "outputs": [
    {
     "name": "stdout",
     "output_type": "stream",
     "text": [
      "Maximum and Minimum values in the said list:\n",
      "(5, 2)\n"
     ]
    }
   ],
   "source": [
    "lst = ['boss', 3, 2, 4, 5, 'kumar']\n",
    "nums = [x for x in lst if isinstance(x, (int, float))]\n",
    "max_val = max(nums)\n",
    "min_val = min(nums)\n",
    "print(\"Maximum and Minimum values in the said list:\")\n",
    "print((max_val, min_val))"
   ]
  },
  {
   "cell_type": "code",
   "execution_count": null,
   "metadata": {},
   "outputs": [],
   "source": [
    "8. Write a Python program to extract the strings from the list whose length is exactly equal to 8. \n",
    "    Data:\n",
    "        list:['string', 'list', 'exercises', 'practice', 'solution']\n",
    "    Expected Output:\n",
    "        length of the string to extract:\n",
    "            8\n",
    "        After extracting strings of specified length from the said list:\n",
    "        ['practice', 'solution']\n",
    "        \n",
    "        \n",
    "        \n",
    "        "
   ]
  },
  {
   "cell_type": "code",
   "execution_count": 8,
   "metadata": {},
   "outputs": [
    {
     "name": "stdout",
     "output_type": "stream",
     "text": [
      "length of the string to extract:\n",
      "8\n",
      "After extracting strings of specified length from the said list:\n",
      "['practice', 'solution']\n"
     ]
    }
   ],
   "source": [
    "lst = ['string', 'list', 'exercises', 'practice', 'solution']\n",
    "length = 8\n",
    "print(\"length of the string to extract:\")\n",
    "print(length)\n",
    "result = [s for s in lst if len(s) == length]\n",
    "print(\"After extracting strings of specified length from the said list:\")\n",
    "print(result)"
   ]
  },
  {
   "cell_type": "code",
   "execution_count": null,
   "metadata": {},
   "outputs": [],
   "source": [
    "9. Write a Python program to extract specified number of elements from a given list, which follows each other continuously. \n",
    "    Data:\n",
    "        nums = [1, 1, 3, 4, 4, 5, 6, 6, 7]\n",
    "        nums = [1, 2, 3, 4, 4, 4, 4, 5, 7, 7, 7, 7]\n",
    "    Expected Output:\n",
    "        lists1: [1, 1, 3, 4, 4, 5, 6, 6, 7]\n",
    "        Extract 2 number of elements from the said list which follows each other continuously: [1, 4, 6]\n",
    "        lists2: [1, 2, 3, 4, 4, 4, 4, 5, 7, 7, 7, 7]\n",
    "        Extract 4 number of elements from the said list which follows each other continuously: [4, 7]\n",
    "        \n",
    "        \n",
    "        "
   ]
  },
  {
   "cell_type": "code",
   "execution_count": 9,
   "metadata": {},
   "outputs": [
    {
     "name": "stdout",
     "output_type": "stream",
     "text": [
      "lists1: [1, 1, 3, 4, 4, 5, 6, 6, 7]\n",
      "Extract 2 number of elements from the said list which follows each other continuously: [1, 4, 6]\n",
      "lists2: [1, 2, 3, 4, 4, 4, 4, 5, 7, 7, 7, 7]\n",
      "Extract 4 number of elements from the said list which follows each other continuously: [4, 7]\n"
     ]
    }
   ],
   "source": [
    "def extract_consecutive(nums, n):\n",
    "    result = []\n",
    "    i = 0\n",
    "    while i <= len(nums) - n:\n",
    "        # Check if the next n elements are the same\n",
    "        if all(nums[i] == nums[i+j] for j in range(n)):\n",
    "            # Only add if not already in result\n",
    "            if nums[i] not in result:\n",
    "                result.append(nums[i])\n",
    "            # Skip past this run\n",
    "            i += n\n",
    "            # Also skip any further consecutive duplicates\n",
    "            while i < len(nums) and nums[i] == nums[i-1]:\n",
    "                i += 1\n",
    "        else:\n",
    "            i += 1\n",
    "    return result\n",
    "nums1 = [1, 1, 3, 4, 4, 5, 6, 6, 7]\n",
    "nums2 = [1, 2, 3, 4, 4, 4, 4, 5, 7, 7, 7, 7]\n",
    "print(\"lists1:\", nums1)\n",
    "print(\"Extract 2 number of elements from the said list which follows each other continuously:\", extract_consecutive(nums1, 2))\n",
    "print(\"lists2:\", nums2)\n",
    "print(\"Extract 4 number of elements from the said list which follows each other continuously:\", extract_consecutive(nums2, 4))"
   ]
  },
  {
   "cell_type": "code",
   "execution_count": null,
   "metadata": {},
   "outputs": [],
   "source": [
    "10. Write a Python program to find the difference between consecutive numbers in a given list. \n",
    "    Data:\n",
    "        lists1:[1, 1, 3, 4, 4, 5, 6, 7]\n",
    "        lists2:[4, 5, 8, 9, 6, 10]\n",
    "    Expected Output:\n",
    "        Difference between consecutive numbers of the said list:\n",
    "        [0, 2, 1, 0, 1, 1, 1]\n",
    "        [1, 3, 1, -3, 4]\n",
    "        \n",
    "        \n",
    "        \n",
    "        "
   ]
  },
  {
   "cell_type": "code",
   "execution_count": 10,
   "metadata": {},
   "outputs": [
    {
     "name": "stdout",
     "output_type": "stream",
     "text": [
      "Difference between consecutive numbers of the said list:\n",
      "[0, 2, 1, 0, 1, 1, 1]\n",
      "[1, 3, 1, -3, 4]\n"
     ]
    }
   ],
   "source": [
    "def consecutive_differences(lst):\n",
    "    return [lst[i+1] - lst[i] for i in range(len(lst)-1)]\n",
    "lists1 = [1, 1, 3, 4, 4, 5, 6, 7]\n",
    "lists2 = [4, 5, 8, 9, 6, 10]\n",
    "print(\"Difference between consecutive numbers of the said list:\")\n",
    "print(consecutive_differences(lists1))\n",
    "print(consecutive_differences(lists2))"
   ]
  },
  {
   "cell_type": "code",
   "execution_count": null,
   "metadata": {},
   "outputs": [],
   "source": [
    "11. Write a Python program to extract a specified column from a given nested list. \n",
    "    Data:\n",
    "        Nested list1:[[1, 2, 3], [2, 4, 5], [1, 1, 1]]\n",
    "        Nested list2:[[1, 2, 3], [-2, 4, -5], [1, -1, 1]]\n",
    "    Expected Output:\n",
    "        Extract 1st column:\n",
    "        [1, 2, 1]\n",
    "        Extract 3rd column:\n",
    "        [3, -5, 1]\n",
    "        \n",
    "        \n",
    "        \n",
    "        "
   ]
  },
  {
   "cell_type": "code",
   "execution_count": 11,
   "metadata": {},
   "outputs": [
    {
     "name": "stdout",
     "output_type": "stream",
     "text": [
      "Extract 1st column:\n",
      "[1, 2, 1]\n",
      "Extract 3rd column:\n",
      "[3, -5, 1]\n"
     ]
    }
   ],
   "source": [
    "nested_list1 = [[1, 2, 3], [2, 4, 5], [1, 1, 1]]\n",
    "nested_list2 = [[1, 2, 3], [-2, 4, -5], [1, -1, 1]]\n",
    "col1 = [row[0] for row in nested_list1]\n",
    "print(\"Extract 1st column:\")\n",
    "print(col1)\n",
    "col3 = [row[2] for row in nested_list2]\n",
    "print(\"Extract 3rd column:\")\n",
    "print(col3)"
   ]
  },
  {
   "cell_type": "code",
   "execution_count": null,
   "metadata": {},
   "outputs": [],
   "source": [
    "12. Write a Python program to print the values of specified indices from a given list. \n",
    "    Data:\n",
    "        list:[2, 3, 8, 4, 7, 9, 8, 2, 6, 5, 1, 6, 1, 2, 3, 4, 6, 9, 1, 2]\n",
    "    Expected Output:\n",
    "        List: [2, 3, 8, 4, 7, 9, 8, 2, 6, 5, 1, 6, 1, 2, 3, 4, 6, 9, 1, 2]\n",
    "        Indices: [0, 3, 5, 7, 10]\n",
    "        Values of given indices from the list are : [2, 4, 9, 2, 1]\n",
    "        \n",
    "        \n",
    "        "
   ]
  },
  {
   "cell_type": "code",
   "execution_count": 12,
   "metadata": {},
   "outputs": [
    {
     "name": "stdout",
     "output_type": "stream",
     "text": [
      "List: [2, 3, 8, 4, 7, 9, 8, 2, 6, 5, 1, 6, 1, 2, 3, 4, 6, 9, 1, 2]\n",
      "Indices: [0, 3, 5, 7, 10]\n",
      "Values of given indices from the list are : [2, 4, 9, 2, 1]\n"
     ]
    }
   ],
   "source": [
    "lst = [2, 3, 8, 4, 7, 9, 8, 2, 6, 5, 1, 6, 1, 2, 3, 4, 6, 9, 1, 2]\n",
    "indices = [0, 3, 5, 7, 10]\n",
    "print(\"List:\", lst)\n",
    "print(\"Indices:\", indices)\n",
    "values = [lst[i] for i in indices]\n",
    "print(\"Values of given indices from the list are :\", values)"
   ]
  },
  {
   "cell_type": "code",
   "execution_count": null,
   "metadata": {},
   "outputs": [],
   "source": [
    "13. Write a Python program to remove all elements from a given list present in another list. \n",
    "    Data:\n",
    "        x = [1, 2, 3, 4, 5, 6, 7, 8, 9, 10]\n",
    "        y = [2, 4, 6, 8]\n",
    "    Expected Output:\n",
    "        Remove all elements from 'x' present in 'y:\n",
    "        [1, 3, 5, 7, 9, 10]\n",
    "        \n",
    "        \n",
    "        \n",
    "        "
   ]
  },
  {
   "cell_type": "code",
   "execution_count": 13,
   "metadata": {},
   "outputs": [
    {
     "name": "stdout",
     "output_type": "stream",
     "text": [
      "Remove all elements from 'x' present in 'y:\n",
      "[1, 3, 5, 7, 9, 10]\n"
     ]
    }
   ],
   "source": [
    "x = [1, 2, 3, 4, 5, 6, 7, 8, 9, 10]\n",
    "y = [2, 4, 6, 8]\n",
    "y_set = set(y)\n",
    "result = [item for item in x if item not in y_set]\n",
    "print(\"Remove all elements from 'x' present in 'y:\")\n",
    "print(result)"
   ]
  },
  {
   "cell_type": "code",
   "execution_count": null,
   "metadata": {},
   "outputs": [],
   "source": [
    "14. Write a Python program to find the difference between elements (n+1th - nth) of a given list of numeric values. \n",
    "    Data:\n",
    "        list1:[1, 2, 3, 4, 5, 6, 7, 8, 9, 10]\n",
    "        list2:[3, 6, 9, 12]\n",
    "    Expected Output:\n",
    "        Dfference between elements (n+1th – nth) of the said list :\n",
    "        [1, 1, 1, 1, 1, 1, 1, 1, 1]\n",
    "        [3, 3, 3]\n",
    "        \n",
    "        \n",
    "        \n",
    "        "
   ]
  },
  {
   "cell_type": "code",
   "execution_count": 14,
   "metadata": {},
   "outputs": [
    {
     "name": "stdout",
     "output_type": "stream",
     "text": [
      "Dfference between elements (n+1th – nth) of the said list :\n",
      "[1, 1, 1, 1, 1, 1, 1, 1, 1]\n",
      "[3, 3, 3]\n"
     ]
    }
   ],
   "source": [
    "def consecutive_differences(lst):\n",
    "    return [lst[i+1] - lst[i] for i in range(len(lst)-1)]\n",
    "list1 = [1, 2, 3, 4, 5, 6, 7, 8, 9, 10]\n",
    "list2 = [3, 6, 9, 12]\n",
    "print(\"Dfference between elements (n+1th – nth) of the said list :\")\n",
    "print(consecutive_differences(list1))\n",
    "print(consecutive_differences(list2))"
   ]
  },
  {
   "cell_type": "code",
   "execution_count": null,
   "metadata": {},
   "outputs": [],
   "source": [
    "15. Write a Python program to print only those elements from the nested list y, which are present in the another list x. \n",
    "    Data:\n",
    "        x = [1, 2, 3, 4, 5, 6, 7, 8, 9, 10, 11, 12, 13, 14]\n",
    "        y = [[12, 18, 23, 25, 45], [7, 11, 19, 24, 28], [1, 5, 8, 18, 15, 16]]\n",
    "    Expected Output:\n",
    "        Intersection of said nested lists:\n",
    "        [[12], [7, 11], [1, 5, 8]]\n",
    "        \n",
    "        \n",
    "        \n",
    "        "
   ]
  },
  {
   "cell_type": "code",
   "execution_count": 15,
   "metadata": {},
   "outputs": [
    {
     "name": "stdout",
     "output_type": "stream",
     "text": [
      "Intersection of said nested lists:\n",
      "[[12], [7, 11], [1, 5, 8]]\n"
     ]
    }
   ],
   "source": [
    "x = [1, 2, 3, 4, 5, 6, 7, 8, 9, 10, 11, 12, 13, 14]\n",
    "y = [[12, 18, 23, 25, 45], [7, 11, 19, 24, 28], [1, 5, 8, 18, 15, 16]]\n",
    "x_set = set(x)\n",
    "result = [[item for item in sublist if item in x_set] for sublist in y]\n",
    "print(\"Intersection of said nested lists:\")\n",
    "print(result)"
   ]
  },
  {
   "cell_type": "code",
   "execution_count": null,
   "metadata": {},
   "outputs": [],
   "source": [
    "16. Write a Python program to interleave multiple lists of the same length. \n",
    "    Data:\n",
    "        lists:\n",
    "        x = [1, 2, 3, 4, 5, 6, 7]\n",
    "        y = [10, 20, 30, 40, 50, 60, 70]\n",
    "        z = [100, 200, 300, 400, 500, 600, 700]\n",
    "    Expected Output:\n",
    "        Interleave multiple lists:\n",
    "        [1, 10, 100, 2, 20, 200, 3, 30, 300, 4, 40, 400, 5, 50, 500, 6, 60, 600, 7, 70, 700]\n",
    "        \n",
    "        \n",
    "        \n",
    "        "
   ]
  },
  {
   "cell_type": "code",
   "execution_count": 16,
   "metadata": {},
   "outputs": [
    {
     "name": "stdout",
     "output_type": "stream",
     "text": [
      "Interleave multiple lists:\n",
      "[1, 10, 100, 2, 20, 200, 3, 30, 300, 4, 40, 400, 5, 50, 500, 6, 60, 600, 7, 70, 700]\n"
     ]
    }
   ],
   "source": [
    "x = [1, 2, 3, 4, 5, 6, 7]\n",
    "y = [10, 20, 30, 40, 50, 60, 70]\n",
    "z = [100, 200, 300, 400, 500, 600, 700]\n",
    "interleaved = [item for group in zip(x, y, z) for item in group]\n",
    "print(\"Interleave multiple lists:\")\n",
    "print(interleaved)"
   ]
  },
  {
   "cell_type": "code",
   "execution_count": null,
   "metadata": {},
   "outputs": [],
   "source": [
    "17. Write a Python program to interleave two given list into another list randomly. \n",
    "    Data:\n",
    "        lists:\n",
    "        x = [1, 2, 7, 8, 3, 7]\n",
    "        y = [4, 3, 8, 9, 4, 3, 8, 9]\n",
    "    Expected Output:\n",
    "        Interleave two given list into another list randomly:\n",
    "        [4, 3, 1, 8, 2, 9, 4, 7, 3, 8, 3, 8, 9, 7]\n",
    "        \n",
    "        \n",
    "        \n",
    "        "
   ]
  },
  {
   "cell_type": "code",
   "execution_count": 17,
   "metadata": {},
   "outputs": [
    {
     "name": "stdout",
     "output_type": "stream",
     "text": [
      "Interleave two given list into another list randomly:\n",
      "[4, 3, 8, 9, 1, 4, 2, 3, 7, 8, 8, 3, 9, 7]\n"
     ]
    }
   ],
   "source": [
    "import random\n",
    "x = [1, 2, 7, 8, 3, 7]\n",
    "y = [4, 3, 8, 9, 4, 3, 8, 9]\n",
    "x_copy = x[:]\n",
    "y_copy = y[:]\n",
    "result = []\n",
    "while x_copy or y_copy:\n",
    "    choices = []\n",
    "    if x_copy:\n",
    "        choices.append('x')\n",
    "    if y_copy:\n",
    "        choices.append('y')\n",
    "    pick = random.choice(choices)\n",
    "    if pick == 'x':\n",
    "        result.append(x_copy.pop(0))\n",
    "    else:\n",
    "        result.append(y_copy.pop(0))\n",
    "print(\"Interleave two given list into another list randomly:\")\n",
    "print(result)"
   ]
  },
  {
   "cell_type": "code",
   "execution_count": null,
   "metadata": {},
   "outputs": [],
   "source": [
    "18. Write a Python program to get the frequency of the elements in a given list of lists. \n",
    "    Data:\n",
    "        lists:[[1, 2, 3, 2], [4, 5, 6, 2], [7, 8, 9, 5]]\n",
    "    Expected Output:\n",
    "        Frequency of the elements in the said list of lists:\n",
    "        {1: 1, 2: 3, 3: 1, 4: 1, 5: 2, 6: 1, 7: 1, 8: 1, 9: 1}\n",
    "        \n",
    "        \n",
    "        \n",
    "        "
   ]
  },
  {
   "cell_type": "code",
   "execution_count": 18,
   "metadata": {},
   "outputs": [
    {
     "name": "stdout",
     "output_type": "stream",
     "text": [
      "Frequency of the elements in the said list of lists:\n",
      "{1: 1, 2: 3, 3: 1, 4: 1, 5: 2, 6: 1, 7: 1, 8: 1, 9: 1}\n"
     ]
    }
   ],
   "source": [
    "from collections import Counter\n",
    "lists = [[1, 2, 3, 2], [4, 5, 6, 2], [7, 8, 9, 5]]\n",
    "flat_list = [item for sublist in lists for item in sublist]\n",
    "freq = Counter(flat_list)\n",
    "print(\"Frequency of the elements in the said list of lists:\")\n",
    "print(dict(freq))"
   ]
  },
  {
   "cell_type": "code",
   "execution_count": null,
   "metadata": {},
   "outputs": [],
   "source": [
    "19. Write a Python program to sort a given list. \n",
    "    Data:\n",
    "        lists:['4', '12', '45', '7', '0', '100', '200', '-12', '-500']\n",
    "    Expected Output:\n",
    "        lists: ['4', '12', '45', '7', '0', '100', '200', '-12', '-500']\n",
    "        Sorted list : [-500, -12, 0, 4, 7, 12, 45, 100, 200]\n",
    "        \n",
    "        \n",
    "        "
   ]
  },
  {
   "cell_type": "code",
   "execution_count": 19,
   "metadata": {},
   "outputs": [
    {
     "name": "stdout",
     "output_type": "stream",
     "text": [
      "lists: ['4', '12', '45', '7', '0', '100', '200', '-12', '-500']\n",
      "Sorted list : [-500, -12, 0, 4, 7, 12, 45, 100, 200]\n"
     ]
    }
   ],
   "source": [
    "lists = ['4', '12', '45', '7', '0', '100', '200', '-12', '-500']\n",
    "print(\"lists:\", lists)\n",
    "sorted_list = sorted(int(x) for x in lists)\n",
    "print(\"Sorted list :\", sorted_list)"
   ]
  },
  {
   "cell_type": "code",
   "execution_count": null,
   "metadata": {},
   "outputs": [],
   "source": [
    "20. Write a Python program to find the first even and odd numbers from the given list. \n",
    "    Data:\n",
    "        list:[1, 3, 5, 7, 4, 1, 6, 8]\n",
    "    Expected Output:\n",
    "        First even and odd number of the said list of numbers:\n",
    "        (4, 1)\n",
    "        \n",
    "        "
   ]
  },
  {
   "cell_type": "code",
   "execution_count": 20,
   "metadata": {},
   "outputs": [
    {
     "name": "stdout",
     "output_type": "stream",
     "text": [
      "First even and odd number of the said list of numbers:\n",
      "(4, 1)\n"
     ]
    }
   ],
   "source": [
    "lst = [1, 3, 5, 7, 4, 1, 6, 8]\n",
    "first_even = next((x for x in lst if x % 2 == 0), None)\n",
    "first_odd = next((x for x in lst if x % 2 != 0), None)\n",
    "print(\"First even and odd number of the said list of numbers:\")\n",
    "print((first_even, first_odd))"
   ]
  },
  {
   "cell_type": "code",
   "execution_count": null,
   "metadata": {},
   "outputs": [],
   "source": []
  }
 ],
 "metadata": {
  "kernelspec": {
   "display_name": "Python 3 (ipykernel)",
   "language": "python",
   "name": "python3"
  },
  "language_info": {
   "codemirror_mode": {
    "name": "ipython",
    "version": 3
   },
   "file_extension": ".py",
   "mimetype": "text/x-python",
   "name": "python",
   "nbconvert_exporter": "python",
   "pygments_lexer": "ipython3",
   "version": "3.13.5"
  }
 },
 "nbformat": 4,
 "nbformat_minor": 4
}
