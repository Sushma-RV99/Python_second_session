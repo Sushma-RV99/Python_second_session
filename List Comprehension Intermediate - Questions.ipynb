{
 "cells": [
  {
   "cell_type": "markdown",
   "metadata": {},
   "source": [
    "# List Comprehension Intermediate Questions"
   ]
  },
  {
   "cell_type": "code",
   "execution_count": 1,
   "metadata": {},
   "outputs": [],
   "source": [
    "1. Write a Python program to print the double of each items in the given lists.\n",
    "    Data:\n",
    "        comp=[1, 4, 9, 16]\n",
    "    Expected Output:\n",
    "        [2, 8, 18, 32]\n",
    "        \n",
    "        "
   ]
  },
  {
   "cell_type": "code",
   "execution_count": 1,
   "metadata": {},
   "outputs": [
    {
     "name": "stdout",
     "output_type": "stream",
     "text": [
      "[2, 8, 18, 32]\n"
     ]
    }
   ],
   "source": [
    "comp = [1, 4, 9, 16]\n",
    "doubled = [x * 2 for x in comp]\n",
    "print(doubled)"
   ]
  },
  {
   "cell_type": "code",
   "execution_count": 2,
   "metadata": {},
   "outputs": [],
   "source": [
    "2. Write a python program to find cumulative sum of a list using list comprehension.\n",
    "    Data:\n",
    "        x = [1, 4, 9, 16]\n",
    "    Expected Output:\n",
    "        [1, 5, 14, 30]\n",
    "        \n",
    "        \n",
    "        "
   ]
  },
  {
   "cell_type": "code",
   "execution_count": 2,
   "metadata": {},
   "outputs": [
    {
     "name": "stdout",
     "output_type": "stream",
     "text": [
      "[1, 5, 14, 30]\n"
     ]
    }
   ],
   "source": [
    "x = [1, 4, 9, 16]\n",
    "cumulative_sum = [sum(x[:i+1]) for i in range(len(x))]\n",
    "print(cumulative_sum)"
   ]
  },
  {
   "cell_type": "code",
   "execution_count": 3,
   "metadata": {},
   "outputs": [],
   "source": [
    "3. result = [x**2 for x in range(1, 11) if x % 2 != 0]\n",
    "print(result)   \n",
    "        \n",
    "        "
   ]
  },
  {
   "cell_type": "code",
   "execution_count": 3,
   "metadata": {},
   "outputs": [
    {
     "name": "stdout",
     "output_type": "stream",
     "text": [
      "[1, 9, 25, 49, 81]\n"
     ]
    }
   ],
   "source": [
    "result = [x**2 for x in range(1, 11) if x % 2 != 0]\n",
    "print(result)"
   ]
  },
  {
   "cell_type": "code",
   "execution_count": 4,
   "metadata": {},
   "outputs": [],
   "source": [
    "4. Write a Python program to print a list which contains the power of 2 from 1 to 8.\n",
    "    Expected Output:\n",
    "        [2, 4, 8, 16, 32, 64, 128, 256]         \n",
    "        \n",
    "        \n",
    "        "
   ]
  },
  {
   "cell_type": "code",
   "execution_count": 4,
   "metadata": {},
   "outputs": [
    {
     "name": "stdout",
     "output_type": "stream",
     "text": [
      "[2, 4, 8, 16, 32, 64, 128, 256]\n"
     ]
    }
   ],
   "source": [
    "result = [2**x for x in range(1, 9)]\n",
    "print(result)"
   ]
  },
  {
   "cell_type": "code",
   "execution_count": 5,
   "metadata": {},
   "outputs": [],
   "source": [
    "5. Write a Python program to print a list contains prime and non-prime numbers from 1 to 50. \n",
    "    Expected Output:\n",
    "        [2, 3, 5, 7, 11, 13, 17, 19, 23, 29, 31, 37, 41, 43, 47]\n",
    "        \n",
    "        \n",
    "        "
   ]
  },
  {
   "cell_type": "code",
   "execution_count": 5,
   "metadata": {},
   "outputs": [
    {
     "name": "stdout",
     "output_type": "stream",
     "text": [
      "[2, 3, 5, 7, 11, 13, 17, 19, 23, 29, 31, 37, 41, 43, 47]\n"
     ]
    }
   ],
   "source": [
    "def is_prime(n):\n",
    "    if n < 2:\n",
    "        return False\n",
    "    for i in range(2, int(n**0.5)+1):\n",
    "        if n % i == 0:\n",
    "            return False\n",
    "    return True\n",
    "primes = [x for x in range(1, 51) if is_prime(x)]\n",
    "print(primes)"
   ]
  },
  {
   "cell_type": "code",
   "execution_count": 6,
   "metadata": {},
   "outputs": [],
   "source": [
    "6. Write a Python program to print multiplication table of 5 upto 10 using list comprehension.\n",
    "    Expected Output:\n",
    "        Multiplication Table\n",
    "        [5, 1, 5]\n",
    "        [5, 2, 10]\n",
    "        [5, 3, 15]\n",
    "        [5, 4, 20]\n",
    "        [5, 5, 25]\n",
    "        [5, 6, 30]\n",
    "        [5, 7, 35]\n",
    "        [5, 8, 40]\n",
    "        [5, 9, 45]\n",
    "        [5, 10, 50]\n",
    "        \n",
    "        \n",
    "        "
   ]
  },
  {
   "cell_type": "code",
   "execution_count": 6,
   "metadata": {},
   "outputs": [
    {
     "name": "stdout",
     "output_type": "stream",
     "text": [
      "Multiplication Table\n",
      "[5, 1, 5]\n",
      "[5, 2, 10]\n",
      "[5, 3, 15]\n",
      "[5, 4, 20]\n",
      "[5, 5, 25]\n",
      "[5, 6, 30]\n",
      "[5, 7, 35]\n",
      "[5, 8, 40]\n",
      "[5, 9, 45]\n",
      "[5, 10, 50]\n"
     ]
    }
   ],
   "source": [
    "table = [[5, i, 5*i] for i in range(1, 11)]\n",
    "print(\"Multiplication Table\")\n",
    "for row in table:\n",
    "    print(row)"
   ]
  },
  {
   "cell_type": "code",
   "execution_count": null,
   "metadata": {},
   "outputs": [],
   "source": [
    "7. Write a Python program to create a matrix as displayed in expected output.\n",
    "    Expected Output:\n",
    "        matrixs =[[0, 1, 2, 3, 4],\n",
    "                 [0, 1, 2, 3, 4],\n",
    "                 [0, 1, 2, 3, 4],\n",
    "                 [0, 1, 2, 3, 4],\n",
    "                 [0, 1, 2, 3, 4]]    \n",
    "        \n",
    "        \n",
    "        "
   ]
  },
  {
   "cell_type": "code",
   "execution_count": 7,
   "metadata": {},
   "outputs": [
    {
     "name": "stdout",
     "output_type": "stream",
     "text": [
      "matrixs = [[0, 1, 2, 3, 4], [0, 1, 2, 3, 4], [0, 1, 2, 3, 4], [0, 1, 2, 3, 4], [0, 1, 2, 3, 4]]\n"
     ]
    }
   ],
   "source": [
    "matrixs = [[i for i in range(5)] for _ in range(5)]\n",
    "print(\"matrixs =\", matrixs)"
   ]
  },
  {
   "cell_type": "code",
   "execution_count": null,
   "metadata": {},
   "outputs": [],
   "source": [
    "8. Write a Python program to flatten a given 2-D list.\n",
    "    Data:\n",
    "        matrixs = [[1, 7, 3], [4, 9, 6], [7, 10, 9]]   \n",
    "    Expected Output:\n",
    "        [1, 7, 3, 4, 9, 6, 7, 10, 9]\n",
    "        \n",
    "        \n",
    "        \n",
    "        "
   ]
  },
  {
   "cell_type": "code",
   "execution_count": 8,
   "metadata": {},
   "outputs": [
    {
     "name": "stdout",
     "output_type": "stream",
     "text": [
      "[1, 7, 3, 4, 9, 6, 7, 10, 9]\n"
     ]
    }
   ],
   "source": [
    "matrixs = [[1, 7, 3], [4, 9, 6], [7, 10, 9]]\n",
    "flattened = [item for sublist in matrixs for item in sublist]\n",
    "print(flattened)"
   ]
  },
  {
   "cell_type": "code",
   "execution_count": null,
   "metadata": {},
   "outputs": [],
   "source": [
    "9. Write a Python program to print the items whose length are < 6 from the given nested list using list comprehension.\n",
    "    Data:\n",
    "        lists= [['Mars', 'Jupiter', 'Saturn'],['Mercury', 'Venus', 'Earth'] ,['Uranus', 'Neptune', 'Pluto']]   \n",
    "    Expected Output:\n",
    "        ['Mars', 'Venus', 'Earth', 'Pluto']\n",
    "        \n",
    "        \n",
    "        \n",
    "        "
   ]
  },
  {
   "cell_type": "code",
   "execution_count": 9,
   "metadata": {},
   "outputs": [
    {
     "name": "stdout",
     "output_type": "stream",
     "text": [
      "['Mars', 'Venus', 'Earth', 'Pluto']\n"
     ]
    }
   ],
   "source": [
    "lists = [['Mars', 'Jupiter', 'Saturn'],\n",
    "         ['Mercury', 'Venus', 'Earth'],\n",
    "         ['Uranus', 'Neptune', 'Pluto']]\n",
    "\n",
    "result = [item for sublist in lists for item in sublist if len(item) < 6]\n",
    "print(result)"
   ]
  },
  {
   "cell_type": "code",
   "execution_count": 7,
   "metadata": {},
   "outputs": [],
   "source": [
    "'''10. Write a Python program to form a list of all even numbers upto 10**7.\n",
    "    Expected Output:\n",
    "        Execution time =  2.050727367401123 '''\n",
    "\n",
    "\n",
    "        "
   ]
  },
  {
   "cell_type": "code",
   "execution_count": 10,
   "metadata": {},
   "outputs": [
    {
     "name": "stdout",
     "output_type": "stream",
     "text": [
      "Execution time =  0.10928750038146973\n"
     ]
    }
   ],
   "source": [
    "import time\n",
    "start = time.time()\n",
    "evens = list(range(0, 10**7 + 1, 2))\n",
    "end = time.time()\n",
    "print(\"Execution time = \", end - start)"
   ]
  },
  {
   "cell_type": "code",
   "execution_count": 8,
   "metadata": {},
   "outputs": [],
   "source": [
    "11, Write a Python program to form difference between Generator Expressions and List Comprehensions.\n",
    "    Data:\n",
    "        range(10000)\n",
    "    Expected Output:\n",
    "        Comprehensions = 87616\n",
    "        Generator =  112\n",
    "             \n",
    "        "
   ]
  },
  {
   "cell_type": "code",
   "execution_count": 11,
   "metadata": {},
   "outputs": [
    {
     "name": "stdout",
     "output_type": "stream",
     "text": [
      "Comprehensions = 85176\n",
      "Generator =  200\n"
     ]
    }
   ],
   "source": [
    "import sys\n",
    "comp = [x*x for x in range(10000)]\n",
    "print(\"Comprehensions =\", sys.getsizeof(comp))\n",
    "gen = (x*x for x in range(10000))\n",
    "print(\"Generator = \", sys.getsizeof(gen))"
   ]
  },
  {
   "cell_type": "code",
   "execution_count": null,
   "metadata": {},
   "outputs": [],
   "source": [
    "12. Write a Python program to insert a given string at the beginning of each item in a list.\n",
    "    Data:\n",
    "        lists : [1,2,3,4,5,6,4,3,5,67,8,9]\n",
    "        string : \"sun\"\n",
    "    Expected Output:\n",
    "        ['sun1', 'sun2', 'sun3', 'sun4', 'sun5', 'sun6', 'sun4', 'sun3', 'sun5', 'sun67', 'sun8', 'sun9']\n",
    "        \n",
    "        \n",
    "        \n",
    "        "
   ]
  },
  {
   "cell_type": "code",
   "execution_count": 12,
   "metadata": {},
   "outputs": [
    {
     "name": "stdout",
     "output_type": "stream",
     "text": [
      "['sun1', 'sun2', 'sun3', 'sun4', 'sun5', 'sun6', 'sun4', 'sun3', 'sun5', 'sun67', 'sun8', 'sun9']\n"
     ]
    }
   ],
   "source": [
    "lists = [1,2,3,4,5,6,4,3,5,67,8,9]\n",
    "prefix = \"sun\"\n",
    "result = [prefix + str(item) for item in lists]\n",
    "print(result)"
   ]
  },
  {
   "cell_type": "code",
   "execution_count": null,
   "metadata": {},
   "outputs": [],
   "source": [
    "13. Write a Python program to print transpose of a Matrix using list comprehension.\n",
    "    Data:\n",
    "        x = [[14, 22], [33,44], [55,61], [17,81]]\n",
    "    Expected Output:\n",
    "        [[14, 33, 55, 17], [22, 44, 61, 81]]\n",
    "        \n",
    "        "
   ]
  },
  {
   "cell_type": "code",
   "execution_count": 13,
   "metadata": {},
   "outputs": [
    {
     "name": "stdout",
     "output_type": "stream",
     "text": [
      "[[14, 33, 55, 17], [22, 44, 61, 81]]\n"
     ]
    }
   ],
   "source": [
    "x = [[14, 22], [33, 44], [55, 61], [17, 81]]\n",
    "transpose = [list(row) for row in zip(*x)]\n",
    "print(transpose)"
   ]
  },
  {
   "cell_type": "code",
   "execution_count": null,
   "metadata": {},
   "outputs": [],
   "source": [
    "14. Write a Python program to print following output from given list a = [-4, -1, 7, 1, 4, 3], b = [4, 4, 6, 7, 9].\n",
    "    Expected Output:\n",
    "        [28, 28, 42, 4, 4, 6, 16, 16, 24, 12, 12, 18] \n",
    "        "
   ]
  },
  {
   "cell_type": "code",
   "execution_count": 14,
   "metadata": {},
   "outputs": [
    {
     "name": "stdout",
     "output_type": "stream",
     "text": [
      "[28, 28, 42, 4, 4, 6, 16, 16, 24, 12, 12, 18]\n"
     ]
    }
   ],
   "source": [
    "a = [-4, -1, 7, 1, 4, 3]\n",
    "b = [4, 4, 6, 7, 9]\n",
    "a_pos = [x for x in a if x > 0]\n",
    "b_even = [x for x in b if x % 2 == 0]\n",
    "result = [i * j for i in a_pos for j in b_even]\n",
    "print(result)"
   ]
  },
  {
   "cell_type": "code",
   "execution_count": null,
   "metadata": {},
   "outputs": [],
   "source": [
    "15. Write a Python program to find a tuple in the list of tuple, whose second element is the smallest using list comprehension. \n",
    "    Data:\n",
    "        x = [(10, 14), (12, 22), (66, 10)]\n",
    "    Expected Output:\n",
    "        (66, 10)\n",
    "        \n",
    "        \n",
    "        "
   ]
  },
  {
   "cell_type": "code",
   "execution_count": 15,
   "metadata": {},
   "outputs": [
    {
     "name": "stdout",
     "output_type": "stream",
     "text": [
      "(66, 10)\n"
     ]
    }
   ],
   "source": [
    "x = [(10, 14), (12, 22), (66, 10)]\n",
    "min_second = min(t[1] for t in x)\n",
    "result = [t for t in x if t[1] == min_second][0]\n",
    "print(result)"
   ]
  },
  {
   "cell_type": "code",
   "execution_count": null,
   "metadata": {},
   "outputs": [],
   "source": [
    "16. Write a Python program to print all the numbers in a list except those are even.\n",
    "    Data:\n",
    "        A = [77,88, 120, 25, 44, 20, 27]\n",
    "    Expected Output:\n",
    "        [77, 25, 27]\n",
    "        \n",
    "        \n",
    "        "
   ]
  },
  {
   "cell_type": "code",
   "execution_count": 16,
   "metadata": {},
   "outputs": [
    {
     "name": "stdout",
     "output_type": "stream",
     "text": [
      "[77, 25, 27]\n"
     ]
    }
   ],
   "source": [
    "A = [77, 88, 120, 25, 44, 20, 27]\n",
    "result = [x for x in A if x % 2 != 0]\n",
    "print(result)"
   ]
  },
  {
   "cell_type": "code",
   "execution_count": 9,
   "metadata": {},
   "outputs": [],
   "source": [
    "17. Write a python program to find cumulative product of a list using list comprehension.\n",
    "    Data:\n",
    "        nums = [1, 2, 3, 4, 5]\n",
    "    Expected Output:\n",
    "        [1, 2, 6, 24, 120]\n",
    "        \n",
    "        \n",
    "        \n",
    "        "
   ]
  },
  {
   "cell_type": "code",
   "execution_count": 17,
   "metadata": {},
   "outputs": [
    {
     "name": "stdout",
     "output_type": "stream",
     "text": [
      "[1, 2, 6, 24, 120]\n"
     ]
    }
   ],
   "source": [
    "import math\n",
    "nums = [1, 2, 3, 4, 5]\n",
    "cumulative_product = [math.prod(nums[:i+1]) for i in range(len(nums))]\n",
    "print(cumulative_product)"
   ]
  },
  {
   "cell_type": "code",
   "execution_count": null,
   "metadata": {},
   "outputs": [],
   "source": [
    "18. Write a Python program to print all the even numbers in a list using list comprehension. \n",
    "    Data:\n",
    "        x = [2, 433, 65, 8, 12, 9, 7, 56, 8, 4]\n",
    "    Expected Output:\n",
    "        Even numbers in the list:  [2, 8, 12, 56, 8, 4]\n",
    "            \n",
    "            \n",
    "            "
   ]
  },
  {
   "cell_type": "code",
   "execution_count": 18,
   "metadata": {},
   "outputs": [
    {
     "name": "stdout",
     "output_type": "stream",
     "text": [
      "Even numbers in the list:  [2, 8, 12, 56, 8, 4]\n"
     ]
    }
   ],
   "source": [
    "x = [2, 433, 65, 8, 12, 9, 7, 56, 8, 4]\n",
    "even_numbers = [n for n in x if n % 2 == 0]\n",
    "print(\"Even numbers in the list: \", even_numbers)"
   ]
  },
  {
   "cell_type": "code",
   "execution_count": null,
   "metadata": {},
   "outputs": [],
   "source": [
    "19. Write a Python program to create a matrix which looks like below.\n",
    "    Data:\n",
    "        range(5 and 6)\n",
    "    Expected Output:\n",
    "    Matrixs =  [[0, 1, 2, 3, 4],\n",
    "               [0, 1, 2, 3, 4],\n",
    "               [0, 1, 2, 3, 4],\n",
    "               [0, 1, 2, 3, 4],\n",
    "               [0, 1, 2, 3, 4],\n",
    "               [0, 1, 2, 3, 4]]\n",
    "    \n",
    "    \n",
    "    \n",
    "        "
   ]
  },
  {
   "cell_type": "code",
   "execution_count": 19,
   "metadata": {},
   "outputs": [
    {
     "name": "stdout",
     "output_type": "stream",
     "text": [
      "Matrixs = [[0, 1, 2, 3, 4], [0, 1, 2, 3, 4], [0, 1, 2, 3, 4], [0, 1, 2, 3, 4], [0, 1, 2, 3, 4], [0, 1, 2, 3, 4]]\n"
     ]
    }
   ],
   "source": [
    "rows = 6\n",
    "cols = 5\n",
    "matrixs = [[i for i in range(cols)] for _ in range(rows)]\n",
    "print(\"Matrixs =\", matrixs)"
   ]
  },
  {
   "cell_type": "code",
   "execution_count": null,
   "metadata": {},
   "outputs": [],
   "source": [
    "20. Write a Python program to flatten a given list of lists.\n",
    "    Data:\n",
    "        matrixs = [[0, 0, 0],              \n",
    "                   [1, 1, 1],    \n",
    "                   [2, 2, 2],\n",
    "                   [3, 3, 3]]  \n",
    "    Expected Output:\n",
    "        [0, 0, 0, 1, 1, 1, 2, 2, 2, 3, 3, 3]\n",
    "        \n",
    "        \n",
    "        "
   ]
  },
  {
   "cell_type": "code",
   "execution_count": 20,
   "metadata": {},
   "outputs": [
    {
     "name": "stdout",
     "output_type": "stream",
     "text": [
      "[0, 0, 0, 1, 1, 1, 2, 2, 2, 3, 3, 3]\n"
     ]
    }
   ],
   "source": [
    "matrixs = [\n",
    "    [0, 0, 0],              \n",
    "    [1, 1, 1],    \n",
    "    [2, 2, 2],\n",
    "    [3, 3, 3]\n",
    "]\n",
    "flattened = [item for sublist in matrixs for item in sublist]\n",
    "print(flattened)"
   ]
  },
  {
   "cell_type": "code",
   "execution_count": null,
   "metadata": {},
   "outputs": [],
   "source": []
  }
 ],
 "metadata": {
  "kernelspec": {
   "display_name": "Python 3 (ipykernel)",
   "language": "python",
   "name": "python3"
  },
  "language_info": {
   "codemirror_mode": {
    "name": "ipython",
    "version": 3
   },
   "file_extension": ".py",
   "mimetype": "text/x-python",
   "name": "python",
   "nbconvert_exporter": "python",
   "pygments_lexer": "ipython3",
   "version": "3.13.5"
  }
 },
 "nbformat": 4,
 "nbformat_minor": 4
}
