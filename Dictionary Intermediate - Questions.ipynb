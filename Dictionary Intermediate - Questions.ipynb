{
 "cells": [
  {
   "cell_type": "markdown",
   "metadata": {},
   "source": [
    "# Dictionary Intermediate Questions"
   ]
  },
  {
   "cell_type": "code",
   "execution_count": null,
   "metadata": {},
   "outputs": [],
   "source": [
    "1. Write a Python program to sort a dictionary in both ascending and descending order by value.\n",
    "    Data:\n",
    "        d = {1:2, 3:4, 4:3, 2:1, 0:0}\n",
    "    Expected Output:\n",
    "        Dictionary in ascending order in value: {0: 0, 2: 1, 1: 2, 4: 3, 3: 4}\n",
    "        Dictionary in descending order in value: {3: 4, 4: 3, 1: 2, 2: 1, 0: 0}\n",
    "            \n",
    "            \n",
    "            \n",
    "            "
   ]
  },
  {
   "cell_type": "code",
   "execution_count": 1,
   "metadata": {},
   "outputs": [
    {
     "name": "stdout",
     "output_type": "stream",
     "text": [
      "Dictionary in ascending order in value: {0: 0, 2: 1, 1: 2, 4: 3, 3: 4}\n",
      "Dictionary in descending order in value: {3: 4, 4: 3, 1: 2, 2: 1, 0: 0}\n"
     ]
    }
   ],
   "source": [
    "d = {1:2, 3:4, 4:3, 2:1, 0:0}\n",
    "asc = dict(sorted(d.items(), key=lambda item: item[1]))\n",
    "print(\"Dictionary in ascending order in value:\", asc)\n",
    "desc = dict(sorted(d.items(), key=lambda item: item[1], reverse=True))\n",
    "print(\"Dictionary in descending order in value:\", desc)"
   ]
  },
  {
   "cell_type": "code",
   "execution_count": null,
   "metadata": {},
   "outputs": [],
   "source": [
    "2. Write a Python program to check whether a given key is already exists in a dictionary.\n",
    "    Data:\n",
    "        d = {1: 10, 2: 20, 3: 30, 4: 40, 5: 50, 6: 60}\n",
    "    Expected Output:\n",
    "        key 5 is present in the Dictionary\n",
    "        key 7 is not present n the Dictionary\n",
    "        key 6 is present in the Dictionary\n",
    "        \n",
    "        \n",
    "        "
   ]
  },
  {
   "cell_type": "code",
   "execution_count": 2,
   "metadata": {},
   "outputs": [
    {
     "name": "stdout",
     "output_type": "stream",
     "text": [
      "key 5 is present in the Dictionary\n",
      "key 7 is not present in the Dictionary\n",
      "key 6 is present in the Dictionary\n"
     ]
    }
   ],
   "source": [
    "d = {1: 10, 2: 20, 3: 30, 4: 40, 5: 50, 6: 60}\n",
    "keys_to_check = [5, 7, 6]\n",
    "for key in keys_to_check:\n",
    "    if key in d:\n",
    "        print(f\"key {key} is present in the Dictionary\")\n",
    "    else:\n",
    "        print(f\"key {key} is not present in the Dictionary\")"
   ]
  },
  {
   "cell_type": "code",
   "execution_count": 3,
   "metadata": {},
   "outputs": [
    {
     "data": {
      "text/plain": [
       "\" 3. Write a Python program to get a dictionary from an object's fields.\\n    Data:\\n        self.x = 'boss'\\n        self.y = 'siva'\\n        self.z = 'suresh'\\n    Expected Output:\\n        {'x': 'boss', 'y': 'siva', 'z': 'suresh'} \""
      ]
     },
     "execution_count": 3,
     "metadata": {},
     "output_type": "execute_result"
    }
   ],
   "source": [
    "''' 3. Write a Python program to get a dictionary from an object's fields.\n",
    "    Data:\n",
    "        self.x = 'boss'\n",
    "        self.y = 'siva'\n",
    "        self.z = 'suresh'\n",
    "    Expected Output:\n",
    "        {'x': 'boss', 'y': 'siva', 'z': 'suresh'} '''\n",
    "        \n",
    "        "
   ]
  },
  {
   "cell_type": "code",
   "execution_count": 4,
   "metadata": {},
   "outputs": [
    {
     "name": "stdout",
     "output_type": "stream",
     "text": [
      "{'x': 'boss', 'y': 'siva', 'z': 'suresh'}\n"
     ]
    }
   ],
   "source": [
    "class MyClass:\n",
    "    def __init__(self):\n",
    "        self.x = 'boss'\n",
    "        self.y = 'siva'\n",
    "        self.z = 'suresh'\n",
    "\n",
    "obj = MyClass()\n",
    "print(obj.__dict__)"
   ]
  },
  {
   "cell_type": "code",
   "execution_count": null,
   "metadata": {},
   "outputs": [],
   "source": [
    "4. Write a Python program to print all unique values in a dictionary.\n",
    "    Data:\n",
    "        D = [{\"V\":\"S001\"}, {\"V\": \"S002\"}, {\"VI\": \"S001\"}, {\"VI\": \"S005\"}, {\"VII\":\"S005\"}, {\"V\":\"S009\"},{\"VIII\":\"S007\"}]\n",
    "    Expected Output:\n",
    "        {'S002', 'S009', 'S007', 'S001', 'S005'}\n",
    "        \n",
    "        \n",
    "        \n",
    "        "
   ]
  },
  {
   "cell_type": "code",
   "execution_count": 5,
   "metadata": {},
   "outputs": [
    {
     "name": "stdout",
     "output_type": "stream",
     "text": [
      "{'S002', 'S007', 'S009', 'S001', 'S005'}\n"
     ]
    }
   ],
   "source": [
    "D = [{\"V\":\"S001\"}, {\"V\": \"S002\"}, {\"VI\": \"S001\"}, {\"VI\": \"S005\"}, {\"VII\":\"S005\"}, {\"V\":\"S009\"},{\"VIII\":\"S007\"}]\n",
    "unique_values = set()\n",
    "for d in D:\n",
    "    for value in d.values():\n",
    "        unique_values.add(value)\n",
    "print(unique_values)"
   ]
  },
  {
   "cell_type": "code",
   "execution_count": null,
   "metadata": {},
   "outputs": [],
   "source": [
    "5. Write a Python program to combine values from the list of dictionaries using counter().\n",
    "    Data:\n",
    "        l = [{'subject': 'chemistry', 'mark': 97}, {'subject': 'social', 'mark': 89}, {'subject': 'chemistry', 'mark': 73}]\n",
    "    Expected Output:\n",
    "        Counter({'chemistry': 170, 'social': 89}) \n",
    "               \n",
    "        \n",
    "        "
   ]
  },
  {
   "cell_type": "code",
   "execution_count": 6,
   "metadata": {},
   "outputs": [
    {
     "name": "stdout",
     "output_type": "stream",
     "text": [
      "Counter({'chemistry': 170, 'social': 89})\n"
     ]
    }
   ],
   "source": [
    "from collections import Counter\n",
    "l = [\n",
    "    {'subject': 'chemistry', 'mark': 97},\n",
    "    {'subject': 'social', 'mark': 89},\n",
    "    {'subject': 'chemistry', 'mark': 73}\n",
    "]\n",
    "result = Counter()\n",
    "for d in l:\n",
    "    result[d['subject']] += d['mark']\n",
    "print(result)"
   ]
  },
  {
   "cell_type": "code",
   "execution_count": null,
   "metadata": {},
   "outputs": [],
   "source": [
    "6. Write a Python program to create a dictionary from a string.\n",
    "    Data:\n",
    "        \"Kaziranga\"\n",
    "    Expected Output:\n",
    "        {'K': 1, 'a': 3, 'z': 1, 'i': 1, 'r': 1, 'n': 1, 'g': 1}\n",
    "        \n",
    "        \n",
    "        \n",
    "        "
   ]
  },
  {
   "cell_type": "code",
   "execution_count": 7,
   "metadata": {},
   "outputs": [
    {
     "name": "stdout",
     "output_type": "stream",
     "text": [
      "{'K': 1, 'a': 3, 'z': 1, 'i': 1, 'r': 1, 'n': 1, 'g': 1}\n"
     ]
    }
   ],
   "source": [
    "s = \"Kaziranga\"\n",
    "char_count = {char: s.count(char) for char in s}\n",
    "print(char_count)"
   ]
  },
  {
   "cell_type": "code",
   "execution_count": null,
   "metadata": {},
   "outputs": [],
   "source": [
    "7. Write a python program to add the values associated with specified key in a dictionary.\n",
    "    Data:\n",
    "        student = [{'id': 7, 'success': True, 'name': 'Rahman'},\n",
    "                   {'id': 8, 'success': False, 'name': 'Harris'},\n",
    "                   {'id': 4, 'success': True, 'name': 'Aniruth'}]\n",
    "    Expected Output:\n",
    "        Sum of id: 19\n",
    "        Sum of success: 2\n",
    "        \n",
    "        \n",
    "        \n",
    "        "
   ]
  },
  {
   "cell_type": "code",
   "execution_count": 8,
   "metadata": {},
   "outputs": [
    {
     "name": "stdout",
     "output_type": "stream",
     "text": [
      "Sum of id: 19\n",
      "Sum of success: 2\n"
     ]
    }
   ],
   "source": [
    "student = [\n",
    "    {'id': 7, 'success': True, 'name': 'Rahman'},\n",
    "    {'id': 8, 'success': False, 'name': 'Harris'},\n",
    "    {'id': 4, 'success': True, 'name': 'Aniruth'}\n",
    "]\n",
    "sum_id = sum(d['id'] for d in student)\n",
    "sum_success = sum(d['success'] for d in student)\n",
    "print(\"Sum of id:\", sum_id)\n",
    "print(\"Sum of success:\", sum_success)"
   ]
  },
  {
   "cell_type": "code",
   "execution_count": null,
   "metadata": {},
   "outputs": [],
   "source": [
    "8. Write a Python program to remove spaces from the keys in a dictionary.\n",
    "    Data:\n",
    "        student = {'S  001': ['Math', 'Science'], 'S    002': ['Math', 'English']}\n",
    "    Expected Output:   \n",
    "        {'S001': ['Math', 'Science'], 'S002': ['Math', 'English']}\n",
    "        \n",
    "        \n",
    "        \n",
    "        "
   ]
  },
  {
   "cell_type": "code",
   "execution_count": 9,
   "metadata": {},
   "outputs": [
    {
     "name": "stdout",
     "output_type": "stream",
     "text": [
      "{'S001': ['Math', 'Science'], 'S002': ['Math', 'English']}\n"
     ]
    }
   ],
   "source": [
    "student = {'S  001': ['Math', 'Science'], 'S    002': ['Math', 'English']}\n",
    "cleaned_student = {key.replace(\" \", \"\"): value for key, value in student.items()}\n",
    "print(cleaned_student)"
   ]
  },
  {
   "cell_type": "code",
   "execution_count": null,
   "metadata": {},
   "outputs": [],
   "source": [
    "9. Write a Python program to get the top three priced items in a shop.\n",
    "    Data:\n",
    "        items = {'Wallet': 45.50, 'Keychain':35, 'Perfume': 41.30, 'Sanitizer':55, 'Knife': 24}\n",
    "    Expected Output:\n",
    "        Sanitizer 55\n",
    "        Wallet 45.5\n",
    "        Perfume 41.3\n",
    "        \n",
    "        \n",
    "        \n",
    "        "
   ]
  },
  {
   "cell_type": "code",
   "execution_count": 10,
   "metadata": {},
   "outputs": [
    {
     "name": "stdout",
     "output_type": "stream",
     "text": [
      "Sanitizer 55\n",
      "Wallet 45.5\n",
      "Perfume 41.3\n"
     ]
    }
   ],
   "source": [
    "items = {'Wallet': 45.50, 'Keychain':35, 'Perfume': 41.30, 'Sanitizer':55, 'Knife': 24}\n",
    "top_three = sorted(items.items(), key=lambda x: x[1], reverse=True)[:3]\n",
    "for name, price in top_three:\n",
    "    print(f\"{name} {price}\")"
   ]
  },
  {
   "cell_type": "code",
   "execution_count": null,
   "metadata": {},
   "outputs": [],
   "source": [
    "10. Write a Python program to get the key, value and item in a dictionary.\n",
    "    Data:\n",
    "        d = {1:10,2:20,3:30,4:40,5:50,6:60}\n",
    "    Expected Output:\n",
    "        key  value  count\n",
    "        1     10     1\n",
    "        2     20     2\n",
    "        3     30     3\n",
    "        4     40     4\n",
    "        5     50     5\n",
    "        6     60     6\n",
    "        \n",
    "        \n",
    "        \n",
    "        "
   ]
  },
  {
   "cell_type": "code",
   "execution_count": 11,
   "metadata": {},
   "outputs": [
    {
     "name": "stdout",
     "output_type": "stream",
     "text": [
      "key  value  count\n",
      "1    10     1\n",
      "2    20     2\n",
      "3    30     3\n",
      "4    40     4\n",
      "5    50     5\n",
      "6    60     6\n"
     ]
    }
   ],
   "source": [
    "d = {1:10, 2:20, 3:30, 4:40, 5:50, 6:60}\n",
    "print(\"key  value  count\")\n",
    "count = 1\n",
    "for key, value in d.items():\n",
    "    print(f\"{key:<5}{value:<7}{count}\")\n",
    "    count += 1"
   ]
  },
  {
   "cell_type": "code",
   "execution_count": null,
   "metadata": {},
   "outputs": [],
   "source": [
    "11. Write a Python program to print a dictionary line by line.\n",
    "    Data:\n",
    "        students = {\"Arun\":{\"class\":\"A\", \"roll_no\":2},\n",
    "                    \"Tharun\": {\"class\":\"A\", \"roll_no\":1}\n",
    "                      \"Varun\":{\"class\":\"B\", \"roll_no\":3}}\n",
    "    Expected Output:\n",
    "        Arun\n",
    "        class : A\n",
    "        roll_no : 2\n",
    "        ***********\n",
    "        Tharun\n",
    "        class : A\n",
    "        roll_no : 1\n",
    "        ***********\n",
    "        Varun\n",
    "        class : B\n",
    "        roll_no : 3\n",
    "        ***********\n",
    "\n",
    "            \n",
    "            \n",
    "            \n",
    "            "
   ]
  },
  {
   "cell_type": "code",
   "execution_count": 12,
   "metadata": {},
   "outputs": [
    {
     "name": "stdout",
     "output_type": "stream",
     "text": [
      "Arun\n",
      "class : A\n",
      "roll_no : 2\n",
      "***********\n",
      "Tharun\n",
      "class : A\n",
      "roll_no : 1\n",
      "***********\n",
      "Varun\n",
      "class : B\n",
      "roll_no : 3\n",
      "***********\n"
     ]
    }
   ],
   "source": [
    "students = {\n",
    "    \"Arun\": {\"class\": \"A\", \"roll_no\": 2},\n",
    "    \"Tharun\": {\"class\": \"A\", \"roll_no\": 1},\n",
    "    \"Varun\": {\"class\": \"B\", \"roll_no\": 3}\n",
    "}\n",
    "\n",
    "for name, details in students.items():\n",
    "    print(name)\n",
    "    for key, value in details.items():\n",
    "        print(f\"{key} : {value}\")\n",
    "    print(\"***********\")"
   ]
  },
  {
   "cell_type": "code",
   "execution_count": null,
   "metadata": {},
   "outputs": [],
   "source": [
    "''' 12. Write a Python program to check multiple keys exists in a dictionary.\n",
    "    Data:\n",
    "        student = {\n",
    "            'name': 'Boss',\n",
    "              'class': 'V',\n",
    "             'roll id': '2'}\n",
    "    Expected Output:\n",
    "        True\n",
    "        False\n",
    "        True '''\n",
    "    \n",
    "        "
   ]
  },
  {
   "cell_type": "code",
   "execution_count": 13,
   "metadata": {},
   "outputs": [
    {
     "name": "stdout",
     "output_type": "stream",
     "text": [
      "True\n",
      "False\n",
      "True\n"
     ]
    }
   ],
   "source": [
    "student = {\n",
    "    'name': 'Boss',\n",
    "    'class': 'V',\n",
    "    'roll id': '2'\n",
    "}\n",
    "print('name' in student)         \n",
    "print('age' in student)          \n",
    "print('roll id' in student)      "
   ]
  },
  {
   "cell_type": "code",
   "execution_count": null,
   "metadata": {},
   "outputs": [],
   "source": [
    "13. Write a python program to count number of items in a dictionary whose values are in a list.\n",
    "    Data:\n",
    "        d =  {'Boss': ['subj1', 'subj2', 'subj3'], 'Siva': ['subj1', 'subj2']}\n",
    "    Expected Output:\n",
    "        5\n",
    "        \n",
    "        \n",
    "        \n",
    "        "
   ]
  },
  {
   "cell_type": "code",
   "execution_count": 14,
   "metadata": {},
   "outputs": [
    {
     "name": "stdout",
     "output_type": "stream",
     "text": [
      "5\n"
     ]
    }
   ],
   "source": [
    "d = {'Boss': ['subj1', 'subj2', 'subj3'], 'Siva': ['subj1', 'subj2']}\n",
    "total_items = sum(len(v) for v in d.values())\n",
    "print(total_items)"
   ]
  },
  {
   "cell_type": "code",
   "execution_count": null,
   "metadata": {},
   "outputs": [],
   "source": [
    "14. Write a Python program to sort a dictionary items by value using counter().\n",
    "    Data:\n",
    "        {'Math':91, 'Physics':93, 'Chemistry':97}\n",
    "    Expected Output:\n",
    "        [('Chemistry', 97), ('Physics', 93), ('Math', 91)]\n",
    "        \n",
    "        \n",
    "        \n",
    "        "
   ]
  },
  {
   "cell_type": "code",
   "execution_count": 15,
   "metadata": {},
   "outputs": [
    {
     "name": "stdout",
     "output_type": "stream",
     "text": [
      "[('Chemistry', 97), ('Physics', 93), ('Math', 91)]\n"
     ]
    }
   ],
   "source": [
    "from collections import Counter\n",
    "data = {'Math': 91, 'Physics': 93, 'Chemistry': 97}\n",
    "counter = Counter(data)\n",
    "sorted_items = counter.most_common()\n",
    "print(sorted_items)"
   ]
  },
  {
   "cell_type": "code",
   "execution_count": null,
   "metadata": {},
   "outputs": [],
   "source": [
    "15. Write a Python program to find a specified value is present in two different dictionaries. \n",
    "    Data:\n",
    "        x = {\"key1\":1, \"key2\":3, \"key3\":2}\n",
    "        y = {\"key1\":1, \"key2\":2}\n",
    "    Expected Output:\n",
    "        key1: 1 is present in both x and y \n",
    "            \n",
    "            \n",
    "            \n",
    "            "
   ]
  },
  {
   "cell_type": "code",
   "execution_count": 16,
   "metadata": {},
   "outputs": [
    {
     "name": "stdout",
     "output_type": "stream",
     "text": [
      "key1: 1 is present in both x and y\n"
     ]
    }
   ],
   "source": [
    "x = {\"key1\":1, \"key2\":3, \"key3\":2}\n",
    "y = {\"key1\":1, \"key2\":2}\n",
    "for key in x:\n",
    "    if key in y and x[key] == y[key]:\n",
    "        print(f\"{key}: {x[key]} is present in both x and y\")"
   ]
  },
  {
   "cell_type": "code",
   "execution_count": null,
   "metadata": {},
   "outputs": [],
   "source": [
    "16. Write a Python program to drop empty items from a dictionary.\n",
    "    Data:\n",
    "        d = {'c1': 'Red', 'c2': 'Green', 'c3': None}\n",
    "    Expected Output:\n",
    "        {'c1': 'Red', 'c2': 'Green'}\n",
    "        \n",
    "        \n",
    "        \n",
    "        "
   ]
  },
  {
   "cell_type": "code",
   "execution_count": 17,
   "metadata": {},
   "outputs": [
    {
     "name": "stdout",
     "output_type": "stream",
     "text": [
      "{'c1': 'Red', 'c2': 'Green'}\n"
     ]
    }
   ],
   "source": [
    "d = {'c1': 'Red', 'c2': 'Green', 'c3': None}\n",
    "cleaned_d = {k: v for k, v in d.items() if v is not None}\n",
    "print(cleaned_d)"
   ]
  },
  {
   "cell_type": "code",
   "execution_count": null,
   "metadata": {},
   "outputs": [],
   "source": [
    "17. Write a Python program to filter a dictionary based on values that are greater than 170.\n",
    "    Data:\n",
    "        marks = {'Cierra Vega': 175, 'Alden Cantrell': 180, 'Kierra Gentry': 165, 'Pierre Cox': 190}\n",
    "    Expected Output:\n",
    "        {'Cierra Vega': 175, 'Alden Cantrell': 180, 'Pierre Cox': 190}\n",
    "        \n",
    "        \n",
    "        \n",
    "        "
   ]
  },
  {
   "cell_type": "code",
   "execution_count": 18,
   "metadata": {},
   "outputs": [
    {
     "name": "stdout",
     "output_type": "stream",
     "text": [
      "{'Cierra Vega': 175, 'Alden Cantrell': 180, 'Pierre Cox': 190}\n"
     ]
    }
   ],
   "source": [
    "marks = {'Cierra Vega': 175, 'Alden Cantrell': 180, 'Kierra Gentry': 165, 'Pierre Cox': 190}\n",
    "filtered_marks = {k: v for k, v in marks.items() if v > 170}\n",
    "print(filtered_marks)"
   ]
  },
  {
   "cell_type": "code",
   "execution_count": null,
   "metadata": {},
   "outputs": [],
   "source": [
    "18. Write a python program to create a dictionary from a tuple of list, \n",
    "        by grouping a sequence of key-value pairs into a dictionary whose values are in list format.\n",
    "    Data:\n",
    "        name = [('boss', 1), ('bala', 2), ('siva', 3), ('karthi', 4), ('suresh', 1)]\n",
    "    Expected Output:\n",
    "        {'boss': [1], 'bala': [2], 'siva': [3], 'karthi': [4], 'suresh': [1]}\n",
    "        \n",
    "        \n",
    "        \n",
    "        "
   ]
  },
  {
   "cell_type": "code",
   "execution_count": 19,
   "metadata": {},
   "outputs": [
    {
     "name": "stdout",
     "output_type": "stream",
     "text": [
      "{'boss': [1], 'bala': [2], 'siva': [3], 'karthi': [4], 'suresh': [1]}\n"
     ]
    }
   ],
   "source": [
    "name = [('boss', 1), ('bala', 2), ('siva', 3), ('karthi', 4), ('suresh', 1)]\n",
    "result = {}\n",
    "for k, v in name:\n",
    "    if k in result:\n",
    "        result[k].append(v)\n",
    "    else:\n",
    "        result[k] = [v]\n",
    "print(result)"
   ]
  },
  {
   "cell_type": "code",
   "execution_count": null,
   "metadata": {},
   "outputs": [],
   "source": [
    "19. Write a python program to clear a list of values from the given dictionary.\n",
    "    Data:\n",
    "        {'D1': [10, 20, 30], 'D2': [20, 30, 40], 'D3': [12, 34]}\n",
    "    Expected Output:\n",
    "        {'D1': [], 'D2': [], 'D3': []}\n",
    "        \n",
    "        \n",
    "        \n",
    "        "
   ]
  },
  {
   "cell_type": "code",
   "execution_count": 20,
   "metadata": {},
   "outputs": [
    {
     "name": "stdout",
     "output_type": "stream",
     "text": [
      "{'D1': [], 'D2': [], 'D3': []}\n"
     ]
    }
   ],
   "source": [
    "d = {'D1': [10, 20, 30], 'D2': [20, 30, 40], 'D3': [12, 34]}\n",
    "for v in d.values():\n",
    "    v.clear()\n",
    "print(d)"
   ]
  },
  {
   "cell_type": "code",
   "execution_count": null,
   "metadata": {},
   "outputs": [],
   "source": [
    "20. Write a python program to update the marks which is specified in a list of values whose key is 'Maths'.\n",
    "    Data:\n",
    "        {'Maths': [88, 89, 90], 'Physics': [92, 94, 89], 'Chemistry': [90, 87, 93]}\n",
    "    Expected Output:\n",
    "        {'Maths': [89, 90, 91], 'Physics': [90, 92, 87], 'Chemistry': [90, 87, 93]}\n",
    "        \n",
    "        \n",
    "        \n",
    "        "
   ]
  },
  {
   "cell_type": "code",
   "execution_count": 21,
   "metadata": {},
   "outputs": [
    {
     "name": "stdout",
     "output_type": "stream",
     "text": [
      "{'Maths': [89, 90, 91], 'Physics': [90, 92, 87], 'Chemistry': [90, 87, 93]}\n"
     ]
    }
   ],
   "source": [
    "d = {'Maths': [88, 89, 90], 'Physics': [92, 94, 89], 'Chemistry': [90, 87, 93]}\n",
    "d['Maths'] = [mark + 1 for mark in d['Maths']]\n",
    "d['Physics'] = [mark - 2 for mark in d['Physics']]\n",
    "print(d)"
   ]
  },
  {
   "cell_type": "code",
   "execution_count": null,
   "metadata": {},
   "outputs": [],
   "source": []
  }
 ],
 "metadata": {
  "kernelspec": {
   "display_name": "Python 3 (ipykernel)",
   "language": "python",
   "name": "python3"
  },
  "language_info": {
   "codemirror_mode": {
    "name": "ipython",
    "version": 3
   },
   "file_extension": ".py",
   "mimetype": "text/x-python",
   "name": "python",
   "nbconvert_exporter": "python",
   "pygments_lexer": "ipython3",
   "version": "3.13.5"
  }
 },
 "nbformat": 4,
 "nbformat_minor": 4
}
