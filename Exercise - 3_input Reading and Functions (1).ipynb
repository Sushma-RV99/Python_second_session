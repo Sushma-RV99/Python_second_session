{
 "cells": [
  {
   "cell_type": "code",
   "execution_count": 1,
   "metadata": {},
   "outputs": [],
   "source": [
    "# Write a program to calculate simple interest # all input shoulb be given by the user"
   ]
  },
  {
   "cell_type": "code",
   "execution_count": 1,
   "metadata": {},
   "outputs": [
    {
     "name": "stdin",
     "output_type": "stream",
     "text": [
      "Ente principal amount  100\n",
      "Ente time period  2\n",
      "Ente rate of interest  2.5\n"
     ]
    },
    {
     "name": "stdout",
     "output_type": "stream",
     "text": [
      "simple insterest is  5.0\n"
     ]
    }
   ],
   "source": [
    "a=(int(input(\"Ente principal amount \")))\n",
    "b=(int(input(\"Ente time period \")))\n",
    "c=(float(input(\"Ente rate of interest \")))\n",
    "SI=(a*b*c)//100\n",
    "print(\"simple insterest is \", SI)"
   ]
  },
  {
   "cell_type": "code",
   "execution_count": 2,
   "metadata": {},
   "outputs": [],
   "source": [
    "# Write a program to calculate area of circle"
   ]
  },
  {
   "cell_type": "code",
   "execution_count": 2,
   "metadata": {},
   "outputs": [
    {
     "name": "stdin",
     "output_type": "stream",
     "text": [
      "Ente radius  3\n"
     ]
    },
    {
     "name": "stdout",
     "output_type": "stream",
     "text": [
      "Area of circle is 28.259999999999998\n"
     ]
    }
   ],
   "source": [
    "a=(float(input(\"Ente radius \")))\n",
    "b=3.14*a*a\n",
    "print(\"Area of circle is\", b)"
   ]
  },
  {
   "cell_type": "code",
   "execution_count": 3,
   "metadata": {},
   "outputs": [],
   "source": [
    "# Write a program to calculate circumference of circle"
   ]
  },
  {
   "cell_type": "code",
   "execution_count": 3,
   "metadata": {},
   "outputs": [
    {
     "name": "stdin",
     "output_type": "stream",
     "text": [
      "Ente radius  4\n"
     ]
    },
    {
     "name": "stdout",
     "output_type": "stream",
     "text": [
      "circumference of circle is 25.12\n"
     ]
    }
   ],
   "source": [
    "a=(float(input(\"Ente radius \")))\n",
    "b=2*3.14*a\n",
    "\n",
    "print(\"circumference of circle is\", b)"
   ]
  },
  {
   "cell_type": "code",
   "execution_count": null,
   "metadata": {},
   "outputs": [],
   "source": [
    "# Write a program to calculate perimeter of square"
   ]
  },
  {
   "cell_type": "code",
   "execution_count": 4,
   "metadata": {},
   "outputs": [
    {
     "name": "stdin",
     "output_type": "stream",
     "text": [
      "Ente length  5\n"
     ]
    },
    {
     "name": "stdout",
     "output_type": "stream",
     "text": [
      "perimeter of square is 20.0\n"
     ]
    }
   ],
   "source": [
    "a=(float(input(\"Ente length \")))\n",
    "b=4*a\n",
    "print(\"perimeter of square is\", b)"
   ]
  },
  {
   "cell_type": "code",
   "execution_count": null,
   "metadata": {},
   "outputs": [],
   "source": [
    "# Write a program to calculate area of square"
   ]
  },
  {
   "cell_type": "code",
   "execution_count": 5,
   "metadata": {},
   "outputs": [
    {
     "name": "stdin",
     "output_type": "stream",
     "text": [
      "Ente length  2.5\n"
     ]
    },
    {
     "name": "stdout",
     "output_type": "stream",
     "text": [
      "area of square is 6.25\n"
     ]
    }
   ],
   "source": [
    "a=(float(input(\"Ente length \")))\n",
    "b=a*a\n",
    "print(\"area of square is\", b)"
   ]
  },
  {
   "cell_type": "code",
   "execution_count": null,
   "metadata": {},
   "outputs": [],
   "source": [
    "# write a calculator program"
   ]
  },
  {
   "cell_type": "code",
   "execution_count": 10,
   "metadata": {},
   "outputs": [
    {
     "name": "stdin",
     "output_type": "stream",
     "text": [
      "Enter the first number:  10\n",
      "Enter the second number:  2\n",
      "Choose operation (+, -, *, /):  /\n"
     ]
    },
    {
     "name": "stdout",
     "output_type": "stream",
     "text": [
      "5.0\n"
     ]
    }
   ],
   "source": [
    "a=float(input(\"Enter the first number: \"))\n",
    "b=float(input(\"Enter the second number: \"))\n",
    "c=input(\"Choose operation (+, -, *, /): \")\n",
    "if c=='+':\n",
    "    print(a+b)\n",
    "elif c=='-':\n",
    "    print(a-b)\n",
    "elif c=='*':\n",
    "    print(a*b)\n",
    "else:\n",
    "    print(a/b)"
   ]
  },
  {
   "cell_type": "code",
   "execution_count": null,
   "metadata": {},
   "outputs": [],
   "source": []
  }
 ],
 "metadata": {
  "kernelspec": {
   "display_name": "Python 3 (ipykernel)",
   "language": "python",
   "name": "python3"
  },
  "language_info": {
   "codemirror_mode": {
    "name": "ipython",
    "version": 3
   },
   "file_extension": ".py",
   "mimetype": "text/x-python",
   "name": "python",
   "nbconvert_exporter": "python",
   "pygments_lexer": "ipython3",
   "version": "3.13.5"
  }
 },
 "nbformat": 4,
 "nbformat_minor": 4
}
