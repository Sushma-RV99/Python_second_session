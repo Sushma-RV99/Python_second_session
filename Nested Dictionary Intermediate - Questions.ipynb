{
 "cells": [
  {
   "cell_type": "markdown",
   "metadata": {},
   "source": [
    "# Nested Dictionary Intermediate Questions"
   ]
  },
  {
   "cell_type": "code",
   "execution_count": null,
   "metadata": {},
   "outputs": [],
   "source": [
    "1. What You can iterate over all values in a nested dictionary using nested for loop.\n",
    "    Data:\n",
    "        D = {'x': {'name': 'Boss', 'job': 'Mgr'},'y': {'name': 'Suresh', 'job': 'Dev'},'z': {'name': 'Siva', 'job': 'Dev'}}\n",
    "    Expected Output:\n",
    "        Employee ID: x\n",
    "        name: Boss\n",
    "        job: Mgr\n",
    "\n",
    "        Employee ID: y\n",
    "        name: Suresh\n",
    "        job: Dev\n",
    "\n",
    "        Employee ID: z\n",
    "        name: Siva\n",
    "        job: Dev \n",
    "            \n",
    "            \n",
    "            \n",
    "            "
   ]
  },
  {
   "cell_type": "code",
   "execution_count": 1,
   "metadata": {},
   "outputs": [
    {
     "name": "stdout",
     "output_type": "stream",
     "text": [
      "Employee ID: x\n",
      "name: Boss\n",
      "job: Mgr\n",
      "\n",
      "Employee ID: y\n",
      "name: Suresh\n",
      "job: Dev\n",
      "\n",
      "Employee ID: z\n",
      "name: Siva\n",
      "job: Dev\n",
      "\n"
     ]
    }
   ],
   "source": [
    "D = {\n",
    "    'x': {'name': 'Boss', 'job': 'Mgr'},\n",
    "    'y': {'name': 'Suresh', 'job': 'Dev'},\n",
    "    'z': {'name': 'Siva', 'job': 'Dev'}\n",
    "}\n",
    "for emp_id, info in D.items():\n",
    "    print(f\"Employee ID: {emp_id}\")\n",
    "    for key, value in info.items():\n",
    "        print(f\"{key}: {value}\")\n",
    "    print() "
   ]
  },
  {
   "cell_type": "code",
   "execution_count": null,
   "metadata": {},
   "outputs": [],
   "source": [
    "2. Write a Python program to convert given list into a nested dictionary of keys.\n",
    "    Data:\n",
    "        X = [1, 2, 3, 4]\n",
    "    Expected Output:\n",
    "        {1: {2: {3: {4: {}}}}}\n",
    "            \n",
    "          \n",
    "        \n",
    "        "
   ]
  },
  {
   "cell_type": "code",
   "execution_count": 2,
   "metadata": {},
   "outputs": [
    {
     "name": "stdout",
     "output_type": "stream",
     "text": [
      "{1: {2: {3: {4: {}}}}}\n"
     ]
    }
   ],
   "source": [
    "X = [1, 2, 3, 4]\n",
    "nested_dict = current = {}\n",
    "for key in X:\n",
    "    current[key] = {}\n",
    "    current = current[key]\n",
    "print(nested_dict)"
   ]
  },
  {
   "cell_type": "code",
   "execution_count": null,
   "metadata": {},
   "outputs": [],
   "source": [
    "3. Write a Python program to combine values from the list of dictionaries.\n",
    "    Data:\n",
    "        [{'item': 'item1', 'amount': 400}, {'item': 'item2', 'amount': 300}, {'item': 'item1', 'amount': 750}]\n",
    "    Expected Output:\n",
    "        Counter({'item1': 1150, 'item2': 300})\n",
    "        \n",
    "        \n",
    "        \n",
    "        "
   ]
  },
  {
   "cell_type": "code",
   "execution_count": 3,
   "metadata": {},
   "outputs": [
    {
     "name": "stdout",
     "output_type": "stream",
     "text": [
      "Counter({'item1': 1150, 'item2': 300})\n"
     ]
    }
   ],
   "source": [
    "from collections import Counter\n",
    "data = [\n",
    "    {'item': 'item1', 'amount': 400},\n",
    "    {'item': 'item2', 'amount': 300},\n",
    "    {'item': 'item1', 'amount': 750}\n",
    "]\n",
    "result = Counter()\n",
    "for d in data:\n",
    "    result[d['item']] += d['amount']\n",
    "\n",
    "print(result)"
   ]
  },
  {
   "cell_type": "code",
   "execution_count": null,
   "metadata": {},
   "outputs": [],
   "source": [
    "4. Write a Python program to print all unique values form the given nested dictionary.\n",
    "    Data:\n",
    "        L = [{\"V\":\"Boss\"}, {\"V\": \"Siva\"}, {\"VI\": \"Suresh\"}, {\"VI\": \"Dinesh\"}, {\"VII\":\"Karthi\"}, {\"V\":\"Kumar\"},{\"VIII\":\"Sai\"}]\n",
    "    Expected Output:\n",
    "        Unique Values:  {'Boss', 'Siva', 'Karthi', 'Kumar', 'Dinesh', 'Suresh', 'Sai'}\n",
    "            \n",
    "         \n",
    "        \n",
    "        "
   ]
  },
  {
   "cell_type": "code",
   "execution_count": 4,
   "metadata": {},
   "outputs": [
    {
     "name": "stdout",
     "output_type": "stream",
     "text": [
      "Unique Values:  {'Dinesh', 'Siva', 'Sai', 'Karthi', 'Suresh', 'Kumar', 'Boss'}\n"
     ]
    }
   ],
   "source": [
    "L = [\n",
    "    {\"V\":\"Boss\"}, {\"V\": \"Siva\"}, {\"VI\": \"Suresh\"},\n",
    "    {\"VI\": \"Dinesh\"}, {\"VII\":\"Karthi\"}, {\"V\":\"Kumar\"}, {\"VIII\":\"Sai\"}\n",
    "]\n",
    "unique_values = set()\n",
    "for d in L:\n",
    "    for value in d.values():\n",
    "        unique_values.add(value)\n",
    "print(\"Unique Values: \", unique_values)"
   ]
  },
  {
   "cell_type": "code",
   "execution_count": null,
   "metadata": {},
   "outputs": [],
   "source": [
    "5. Write a Python program to print a nested dictionary line by line.\n",
    "    Data:\n",
    "        students = {\"Boss\":{\"class\":\"V\",\"rolld_id\":2},\"Suresh\":{\"class\":\"V\", \"rolld_id\":3}}\n",
    "    Expected Output:\n",
    "        Boss\n",
    "        class : V\n",
    "        rolld_id : 2\n",
    "        Suresh\n",
    "        class : V\n",
    "        rolld_id : 3\n",
    "            \n",
    "            \n",
    "            \n",
    "            "
   ]
  },
  {
   "cell_type": "code",
   "execution_count": 5,
   "metadata": {},
   "outputs": [
    {
     "name": "stdout",
     "output_type": "stream",
     "text": [
      "Boss\n",
      "class : V\n",
      "rolld_id : 2\n",
      "Suresh\n",
      "class : V\n",
      "rolld_id : 3\n"
     ]
    }
   ],
   "source": [
    "students = {\n",
    "    \"Boss\": {\"class\": \"V\", \"rolld_id\": 2},\n",
    "    \"Suresh\": {\"class\": \"V\", \"rolld_id\": 3}\n",
    "}\n",
    "for name, details in students.items():\n",
    "    print(name)\n",
    "    for key, value in details.items():\n",
    "        print(f\"{key} : {value}\")"
   ]
  },
  {
   "cell_type": "code",
   "execution_count": null,
   "metadata": {},
   "outputs": [],
   "source": [
    "6. Write a python program to delete a particular key and value from the given nested dictionary by refering its key.\n",
    "    Data:\n",
    "        people = {1: {'name': 'Suresh', 'age': '27', 'sex': 'Male'},\n",
    "                  2: {'name': 'Siva', 'age': '22', 'sex': 'Female'},\n",
    "                  3: {'name': 'Bala', 'age': '24', 'sex': 'Female', 'married': 'No'},\n",
    "                  4: {'name': 'Karthi', 'age': '29', 'sex': 'Male', 'married': 'Yes'}}\n",
    "    Expected Output:\n",
    "        {'name': 'Bala', 'age': '24', 'sex': 'Female'}\n",
    "        {'name': 'Karthi', 'age': '29', 'sex': 'Male'}\n",
    "        \n",
    "        \n",
    "        \n",
    "        "
   ]
  },
  {
   "cell_type": "code",
   "execution_count": 6,
   "metadata": {},
   "outputs": [
    {
     "name": "stdout",
     "output_type": "stream",
     "text": [
      "{'name': 'Bala', 'age': '24', 'sex': 'Female'}\n",
      "{'name': 'Karthi', 'age': '29', 'sex': 'Male'}\n"
     ]
    }
   ],
   "source": [
    "people = {\n",
    "    1: {'name': 'Suresh', 'age': '27', 'sex': 'Male'},\n",
    "    2: {'name': 'Siva', 'age': '22', 'sex': 'Female'},\n",
    "    3: {'name': 'Bala', 'age': '24', 'sex': 'Female', 'married': 'No'},\n",
    "    4: {'name': 'Karthi', 'age': '29', 'sex': 'Male', 'married': 'Yes'}\n",
    "}\n",
    "people[3].pop('married', None)\n",
    "people[4].pop('married', None)\n",
    "print(people[3])\n",
    "print(people[4])"
   ]
  },
  {
   "cell_type": "code",
   "execution_count": null,
   "metadata": {},
   "outputs": [],
   "source": [
    "7. Write a Python program to print the value of any key using index from the given nested dictionary.\n",
    "    Data:\n",
    "        Dict = { 'Dict1': {'name': 'Boss', 'age': '19'}, \n",
    "                 'Dict2': {'name': 'Karthi', 'age': '25'}}\n",
    "    Expected Output:\n",
    "        Boss\n",
    "        25\n",
    "        \n",
    "        \n",
    "        \n",
    "        "
   ]
  },
  {
   "cell_type": "code",
   "execution_count": 7,
   "metadata": {},
   "outputs": [
    {
     "name": "stdout",
     "output_type": "stream",
     "text": [
      "Boss\n",
      "25\n"
     ]
    }
   ],
   "source": [
    "Dict = {\n",
    "    'Dict1': {'name': 'Boss', 'age': '19'}, \n",
    "    'Dict2': {'name': 'Karthi', 'age': '25'}\n",
    "}\n",
    "keys = list(Dict.keys())\n",
    "print(Dict[keys[0]]['name'])\n",
    "print(Dict[keys[1]]['age'])"
   ]
  },
  {
   "cell_type": "code",
   "execution_count": null,
   "metadata": {},
   "outputs": [],
   "source": [
    "8. Write a Python program to convert a nested dictionary into a flattened dictionary.\n",
    "    Data:\n",
    "        {'geeks': {'Geeks': {'for': 7}}, \n",
    "        'for': {'geeks': {'Geeks': 3}}, \n",
    "        'Geeks': {'for': {'for': 1, 'geeks': 4}}}\n",
    "    Expected Output:\n",
    "        {'geeks_Geeks_for': 7, 'for_geeks_Geeks': 3, 'Geeks_for_for': 1, 'Geeks_for_geeks': 4}\n",
    "        \n",
    "        \n",
    "        \n",
    "        "
   ]
  },
  {
   "cell_type": "code",
   "execution_count": 8,
   "metadata": {},
   "outputs": [
    {
     "name": "stdout",
     "output_type": "stream",
     "text": [
      "{'geeks_Geeks_for': 7, 'for_geeks_Geeks': 3, 'Geeks_for_for': 1, 'Geeks_for_geeks': 4}\n"
     ]
    }
   ],
   "source": [
    "def flatten_dict(d, parent_key=''):\n",
    "    items = {}\n",
    "    for k, v in d.items():\n",
    "        new_key = f\"{parent_key}_{k}\" if parent_key else k\n",
    "        if isinstance(v, dict):\n",
    "            items.update(flatten_dict(v, new_key))\n",
    "        else:\n",
    "            items[new_key] = v\n",
    "    return items\n",
    "\n",
    "data = {\n",
    "    'geeks': {'Geeks': {'for': 7}}, \n",
    "    'for': {'geeks': {'Geeks': 3}}, \n",
    "    'Geeks': {'for': {'for': 1, 'geeks': 4}}\n",
    "}\n",
    "\n",
    "flat = flatten_dict(data)\n",
    "print(flat)"
   ]
  },
  {
   "cell_type": "code",
   "execution_count": null,
   "metadata": {},
   "outputs": [],
   "source": [
    "9. Write a Python program to create a nested dictionary using dict() function.\n",
    "    Data:\n",
    "        D = (x = {'name': 'Boss', 'job': 'Mgr'},\n",
    "             y = {'name': 'Suresh', 'job': 'Dev'},\n",
    "             z = {'name': 'Siva', 'job': 'Dev'})\n",
    "    Expected Output:\n",
    "        {'x': {'name': 'Boss', 'job': 'Mgr'}, \n",
    "         'y': {'name': 'Suresh', 'job': 'Dev'}, \n",
    "         'z': {'name': 'Siva', 'job': 'Dev'}}\n",
    "        \n",
    "        \n",
    "        \n",
    "        "
   ]
  },
  {
   "cell_type": "code",
   "execution_count": 9,
   "metadata": {},
   "outputs": [
    {
     "name": "stdout",
     "output_type": "stream",
     "text": [
      "{'x': {'name': 'Boss', 'job': 'Mgr'}, 'y': {'name': 'Suresh', 'job': 'Dev'}, 'z': {'name': 'Siva', 'job': 'Dev'}}\n"
     ]
    }
   ],
   "source": [
    "x = {'name': 'Boss', 'job': 'Mgr'}\n",
    "y = {'name': 'Suresh', 'job': 'Dev'}\n",
    "z = {'name': 'Siva', 'job': 'Dev'}\n",
    "D = dict(x=x, y=y, z=z)\n",
    "\n",
    "print(D)"
   ]
  },
  {
   "cell_type": "code",
   "execution_count": null,
   "metadata": {},
   "outputs": [],
   "source": [
    "10. Write a python program to remove and return the last inserted item as a tuple using popitem() function.\n",
    "    Data:\n",
    "        {'x': {'name': 'Boss', 'job': 'Mgr'}, \n",
    "         'y': {'name': 'Suresh', 'job': 'Dev'}, \n",
    "         'z': {'name': 'Siva', 'job': 'Dev'}}\n",
    "    Expected Output: \n",
    "        {'x': {'name': 'Boss', 'job': 'Mgr'}, 'y': {'name': 'Suresh', 'job': 'Dev'}}\n",
    "        ('z', {'name': 'Siva', 'job': 'Dev'})\n",
    "        \n",
    "        \n",
    "        \n",
    "    "
   ]
  },
  {
   "cell_type": "code",
   "execution_count": 10,
   "metadata": {},
   "outputs": [
    {
     "name": "stdout",
     "output_type": "stream",
     "text": [
      "{'x': {'name': 'Boss', 'job': 'Mgr'}, 'y': {'name': 'Suresh', 'job': 'Dev'}}\n",
      "('z', {'name': 'Siva', 'job': 'Dev'})\n"
     ]
    }
   ],
   "source": [
    "D = {\n",
    "    'x': {'name': 'Boss', 'job': 'Mgr'}, \n",
    "    'y': {'name': 'Suresh', 'job': 'Dev'}, \n",
    "    'z': {'name': 'Siva', 'job': 'Dev'}\n",
    "}\n",
    "last_item = D.popitem()\n",
    "print(D)\n",
    "print(last_item)"
   ]
  },
  {
   "cell_type": "code",
   "execution_count": null,
   "metadata": {},
   "outputs": [],
   "source": []
  }
 ],
 "metadata": {
  "kernelspec": {
   "display_name": "Python 3 (ipykernel)",
   "language": "python",
   "name": "python3"
  },
  "language_info": {
   "codemirror_mode": {
    "name": "ipython",
    "version": 3
   },
   "file_extension": ".py",
   "mimetype": "text/x-python",
   "name": "python",
   "nbconvert_exporter": "python",
   "pygments_lexer": "ipython3",
   "version": "3.13.5"
  }
 },
 "nbformat": 4,
 "nbformat_minor": 4
}
