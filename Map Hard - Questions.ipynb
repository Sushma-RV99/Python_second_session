{
 "cells": [
  {
   "cell_type": "markdown",
   "metadata": {},
   "source": [
    "# Map Hard Questions"
   ]
  },
  {
   "cell_type": "code",
   "execution_count": null,
   "metadata": {},
   "outputs": [],
   "source": [
    "1. Write a Python program to compute the sum of elements of an given array of integers using map().\n",
    "    Data:\n",
    "        Original array: array('i', [0, 1, 2, 3, -4, 5, -15])\n",
    "    Expected Output:\n",
    "        Sum of all elements of the said array: -8\n",
    "            \n",
    "            \n",
    "            \n",
    "            "
   ]
  },
  {
   "cell_type": "code",
   "execution_count": 1,
   "metadata": {},
   "outputs": [
    {
     "name": "stdout",
     "output_type": "stream",
     "text": [
      "Sum of all elements of the said array: -8\n"
     ]
    }
   ],
   "source": [
    "from array import array\n",
    "arr = array('i', [0, 1, 2, 3, -4, 5, -15])\n",
    "mapped = map(int, arr)\n",
    "total = sum(mapped)\n",
    "print(\"Sum of all elements of the said array:\", total)"
   ]
  },
  {
   "cell_type": "code",
   "execution_count": null,
   "metadata": {},
   "outputs": [],
   "source": [
    "2. Write a Python program to find the ratio of positive numbers, negative numbers and zeroes in an array of integers. \n",
    "    Data:\n",
    "        Original array: \n",
    "        array('i', [0, 1, 2, -1, -5, 6, 0, -3, -2, 3, 4, 6, 8])\n",
    "        array('i', [2, 1, 2, -1, -5, 6, 4, -3, -2, 3, 4, 6, 8])\n",
    "    Expected Output:\n",
    "        Ratio of positive numbers, negative numbers and zeroes:\n",
    "        (0.54, 0.31, 0.15)\n",
    "        (0.69, 0.31, 0.0)\n",
    "        \n",
    "        \n",
    "        \n",
    "        "
   ]
  },
  {
   "cell_type": "code",
   "execution_count": 2,
   "metadata": {},
   "outputs": [
    {
     "name": "stdout",
     "output_type": "stream",
     "text": [
      "Ratio of positive numbers, negative numbers and zeroes:\n",
      "(0.54, 0.31, 0.15)\n",
      "(0.69, 0.31, 0.0)\n"
     ]
    }
   ],
   "source": [
    "from array import array\n",
    "def ratio_pos_neg_zero(arr):\n",
    "    total = len(arr)\n",
    "    pos = sum(1 for x in arr if x > 0)\n",
    "    neg = sum(1 for x in arr if x < 0)\n",
    "    zero = sum(1 for x in arr if x == 0)\n",
    "    return (round(pos/total, 2), round(neg/total, 2), round(zero/total, 2))\n",
    "arr1 = array('i', [0, 1, 2, -1, -5, 6, 0, -3, -2, 3, 4, 6, 8])\n",
    "arr2 = array('i', [2, 1, 2, -1, -5, 6, 4, -3, -2, 3, 4, 6, 8])\n",
    "print(\"Ratio of positive numbers, negative numbers and zeroes:\")\n",
    "print(ratio_pos_neg_zero(arr1))\n",
    "print(ratio_pos_neg_zero(arr2))"
   ]
  },
  {
   "cell_type": "code",
   "execution_count": null,
   "metadata": {},
   "outputs": [],
   "source": [
    "3. Write a Python program to count the same pair of values in two given lists using map().\n",
    "    Data:\n",
    "        Original lists:\n",
    "        [1, 2, 3, 4, 5, 6, 7, 8, 9]\n",
    "        [1, 2, 3, 1, 2, 3, 1, 2, 3]\n",
    "    Expected Output:\n",
    "        Number of same pair of the said two given lists:\n",
    "        3\n",
    "        \n",
    "        \n",
    "        \n",
    "        "
   ]
  },
  {
   "cell_type": "code",
   "execution_count": 3,
   "metadata": {},
   "outputs": [
    {
     "name": "stdout",
     "output_type": "stream",
     "text": [
      "Number of same pair of the said two given lists:\n",
      "3\n"
     ]
    }
   ],
   "source": [
    "a = [1, 2, 3, 4, 5, 6, 7, 8, 9]\n",
    "b = [1, 2, 3, 1, 2, 3, 1, 2, 3]\n",
    "same_pairs = map(lambda x, y: x == y, a, b)\n",
    "count = sum(same_pairs)\n",
    "print(\"Number of same pair of the said two given lists:\")\n",
    "print(count)"
   ]
  },
  {
   "cell_type": "code",
   "execution_count": null,
   "metadata": {},
   "outputs": [],
   "source": [
    "4. Write a Python program to interleave two given lists randomly using map() function.\n",
    "    Data:\n",
    "        Original lists:\n",
    "        [3, 2, 7, 8, 3, 7]\n",
    "        [5, 3, 8, 9, 4, 3, 8, 9]\n",
    "    Expected Output:\n",
    "        Interleave two given list into another list randomly:\n",
    "        [5, 3, 3, 8, 2, 9, 7, 4, 3, 8, 3, 8, 7, 9]\n",
    "        \n",
    "        \n",
    "        \n",
    "        "
   ]
  },
  {
   "cell_type": "code",
   "execution_count": 4,
   "metadata": {},
   "outputs": [
    {
     "name": "stdout",
     "output_type": "stream",
     "text": [
      "Interleave two given list into another list randomly:\n",
      "[5, 3, 3, 2, 8, 9, 7, 8, 3, 4, 7, 3, 8, 9]\n"
     ]
    }
   ],
   "source": [
    "import random\n",
    "a = [3, 2, 7, 8, 3, 7]\n",
    "b = [5, 3, 8, 9, 4, 3, 8, 9]\n",
    "a_copy = a[:]\n",
    "b_copy = b[:]\n",
    "result = []\n",
    "while a_copy or b_copy:\n",
    "    choices = []\n",
    "    if a_copy:\n",
    "        choices.append('a')\n",
    "    if b_copy:\n",
    "        choices.append('b')\n",
    "    pick = random.choice(choices)\n",
    "    if pick == 'a':\n",
    "        result.append(a_copy.pop(0))\n",
    "    else:\n",
    "        result.append(b_copy.pop(0))\n",
    "print(\"Interleave two given list into another list randomly:\")\n",
    "print(result)"
   ]
  },
  {
   "cell_type": "code",
   "execution_count": null,
   "metadata": {},
   "outputs": [],
   "source": [
    "5. Write a Python program to split a given dictionary of lists into list of dictionaries using map function.\n",
    "    Data:\n",
    "        marks = {'Science': [98, 19, 22, 55], 'Language': [67, 18, 34, 90]}\n",
    "    Expected Output:\n",
    "        Split said dictionary of lists into list of dictionaries:\n",
    "        [{'Science': 98, 'Language': 67}, {'Science': 19, 'Language': 18}, {'Science': 22, 'Language': 34}, \n",
    "         {'Science': 55, 'Language': 90}]\n",
    "        \n",
    "        \n",
    "        \n",
    "        "
   ]
  },
  {
   "cell_type": "code",
   "execution_count": 6,
   "metadata": {},
   "outputs": [
    {
     "name": "stdout",
     "output_type": "stream",
     "text": [
      "Split said dictionary of lists into list of dictionaries:\n",
      "[{'Science': 98, 'Language': 67}, {'Science': 19, 'Language': 18}, {'Science': 22, 'Language': 34}, {'Science': 55, 'Language': 90}]\n"
     ]
    }
   ],
   "source": [
    "marks = {'Science': [98, 19, 22, 55], 'Language': [67, 18, 34, 90]}\n",
    "keys = list(marks.keys())\n",
    "result = list(map(lambda values: dict(zip(keys, values)), zip(*marks.values())))\n",
    "print(\"Split said dictionary of lists into list of dictionaries:\")\n",
    "print(result)"
   ]
  },
  {
   "cell_type": "code",
   "execution_count": null,
   "metadata": {},
   "outputs": [],
   "source": [
    "6. Write a Python program to convert a given list of strings into list of lists with each strings individually using map function.\n",
    "    Data:\n",
    "        ['Suresh', 'Bala', 'Siva', 'Boss']\n",
    "    Expected Output:\n",
    "        Convert the said list of strings into list of lists:\n",
    "        [['S', 'u', 'r', 'e', 's', 'h'], ['B', 'a', 'l', 'a'], ['S', 'i', 'v', 'a'], ['B', 'o', 's', 's']]\n",
    "        \n",
    "        \n",
    "        \n",
    "        "
   ]
  },
  {
   "cell_type": "code",
   "execution_count": 7,
   "metadata": {},
   "outputs": [
    {
     "name": "stdout",
     "output_type": "stream",
     "text": [
      "Convert the said list of strings into list of lists:\n",
      "[['S', 'u', 'r', 'e', 's', 'h'], ['B', 'a', 'l', 'a'], ['S', 'i', 'v', 'a'], ['B', 'o', 's', 's']]\n"
     ]
    }
   ],
   "source": [
    "lst = ['Suresh', 'Bala', 'Siva', 'Boss']\n",
    "result = list(map(list, lst))\n",
    "print(\"Convert the said list of strings into list of lists:\")\n",
    "print(result)"
   ]
  },
  {
   "cell_type": "code",
   "execution_count": null,
   "metadata": {},
   "outputs": [],
   "source": [
    "7. Write a Python program to convert a given list of tuples into a list of strings using map function.\n",
    "    Data:\n",
    "        Original list of tuples:\n",
    "        [('red', 'pink'), ('white', 'black'), ('orange', 'green')]\n",
    "        [('Boss', 'Suresh'), ('Dinesh', 'Bala'), ('Karthi', 'Siva')]\n",
    "    Expected Output:\n",
    "        Convert the said list of tuples to a list of strings:\n",
    "        ['red pink', 'white black', 'orange green']\n",
    "        ['Boss Suresh', 'Dinesh Bala', 'Karthi Siva']\n",
    "        \n",
    "        \n",
    "        \n",
    "        "
   ]
  },
  {
   "cell_type": "code",
   "execution_count": 8,
   "metadata": {},
   "outputs": [
    {
     "name": "stdout",
     "output_type": "stream",
     "text": [
      "Convert the said list of tuples to a list of strings:\n",
      "['red pink', 'white black', 'orange green']\n",
      "['Boss Suresh', 'Dinesh Bala', 'Karthi Siva']\n"
     ]
    }
   ],
   "source": [
    "lst1 = [('red', 'pink'), ('white', 'black'), ('orange', 'green')]\n",
    "lst2 = [('Boss', 'Suresh'), ('Dinesh', 'Bala'), ('Karthi', 'Siva')]\n",
    "result1 = list(map(' '.join, lst1))\n",
    "result2 = list(map(' '.join, lst2))\n",
    "print(\"Convert the said list of tuples to a list of strings:\")\n",
    "print(result1)\n",
    "print(result2)"
   ]
  },
  {
   "cell_type": "code",
   "execution_count": null,
   "metadata": {},
   "outputs": [],
   "source": [
    "8. Write a Python program to calculate the ASCII sum for each word in a sentence and \n",
    "                the sentence as a whole using map function and dictionaries.\n",
    "    Data:\n",
    "        sentence = \"I love my puppy kutta\"\n",
    "    Expected Output:\n",
    "        The given sentence : I love my puppy kutta\n",
    "        ASCII sum for each word in a sentence : 73 438 230 574 553\n",
    "        Total of all ASCII values in sentence : 1868\n",
    "        \n",
    "        "
   ]
  },
  {
   "cell_type": "code",
   "execution_count": 9,
   "metadata": {},
   "outputs": [
    {
     "name": "stdout",
     "output_type": "stream",
     "text": [
      "The given sentence : I love my puppy kutta\n",
      "ASCII sum for each word in a sentence : 73 438 230 574 553\n",
      "Total of all ASCII values in sentence : 1868\n"
     ]
    }
   ],
   "source": [
    "sentence = \"I love my puppy kutta\"\n",
    "print(\"The given sentence :\", sentence)\n",
    "words = sentence.split()\n",
    "ascii_sums = [sum(map(ord, word)) for word in words]\n",
    "print(\"ASCII sum for each word in a sentence :\", ' '.join(str(s) for s in ascii_sums))\n",
    "total_ascii_sum = sum(ascii_sums)\n",
    "print(\"Total of all ASCII values in sentence :\", total_ascii_sum)"
   ]
  },
  {
   "cell_type": "code",
   "execution_count": null,
   "metadata": {},
   "outputs": [],
   "source": [
    "9. Write a Python function to Count total set bits in all numbers from 1 to n.\n",
    "    Data:\n",
    "        n = 8\n",
    "    Expected Output:\n",
    "        Total set bits : 13\n",
    "        \n",
    "        \n",
    "        "
   ]
  },
  {
   "cell_type": "code",
   "execution_count": 10,
   "metadata": {},
   "outputs": [
    {
     "name": "stdout",
     "output_type": "stream",
     "text": [
      "Total set bits : 13\n"
     ]
    }
   ],
   "source": [
    "def total_set_bits(n):\n",
    "    return sum(bin(i).count('1') for i in range(1, n+1))\n",
    "n = 8\n",
    "print(\"Total set bits :\", total_set_bits(n))"
   ]
  },
  {
   "cell_type": "code",
   "execution_count": null,
   "metadata": {},
   "outputs": [],
   "source": [
    "10. Write a python program to print numbers in the range 1 to n having first and last bits as the only set bits.\n",
    "    Expected Output:\n",
    "        1 3 5 9\n",
    "        \n",
    "        \n",
    "        \n",
    "        "
   ]
  },
  {
   "cell_type": "code",
   "execution_count": 11,
   "metadata": {},
   "outputs": [
    {
     "name": "stdout",
     "output_type": "stream",
     "text": [
      "1 3 5 9\n"
     ]
    }
   ],
   "source": [
    "def first_and_last_bits_set(n):\n",
    "    result = []\n",
    "    k = 1\n",
    "    while True:\n",
    "        num = (1 << (k-1)) | 1 \n",
    "        if num > n:\n",
    "            break\n",
    "        result.append(num)\n",
    "        k += 1\n",
    "    return result\n",
    "n = 10\n",
    "print(*first_and_last_bits_set(n))"
   ]
  },
  {
   "cell_type": "code",
   "execution_count": null,
   "metadata": {},
   "outputs": [],
   "source": []
  }
 ],
 "metadata": {
  "kernelspec": {
   "display_name": "Python 3 (ipykernel)",
   "language": "python",
   "name": "python3"
  },
  "language_info": {
   "codemirror_mode": {
    "name": "ipython",
    "version": 3
   },
   "file_extension": ".py",
   "mimetype": "text/x-python",
   "name": "python",
   "nbconvert_exporter": "python",
   "pygments_lexer": "ipython3",
   "version": "3.13.5"
  }
 },
 "nbformat": 4,
 "nbformat_minor": 4
}
