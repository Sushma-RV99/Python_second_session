{
 "cells": [
  {
   "cell_type": "markdown",
   "metadata": {},
   "source": [
    "# Tuple Hard Questions"
   ]
  },
  {
   "cell_type": "code",
   "execution_count": null,
   "metadata": {},
   "outputs": [],
   "source": [
    "1. Write a Python program to sum all the elements of each tuple stored in a list.\n",
    "    Data:\n",
    "        list of tuples:\n",
    "        [(5, 4), (5, 3), (2, 4)]\n",
    "        [(1, 2, 4), (3, 4, -6), (3, 5), (1, 4, 2, 2)]\n",
    "    Expected Output:\n",
    "        Sum of all the elements of each tuple:\n",
    "        [9, 8, 6]\n",
    "        [7, 1, 8, 9]\n",
    "\n",
    "        \n",
    "        \n",
    "        "
   ]
  },
  {
   "cell_type": "code",
   "execution_count": 1,
   "metadata": {},
   "outputs": [
    {
     "name": "stdout",
     "output_type": "stream",
     "text": [
      "Sum of all the elements of each tuple:\n",
      "[9, 8, 6]\n",
      "[7, 1, 8, 9]\n"
     ]
    }
   ],
   "source": [
    "tuples1 = [(5, 4), (5, 3), (2, 4)]\n",
    "tuples2 = [(1, 2, 4), (3, 4, -6), (3, 5), (1, 4, 2, 2)]\n",
    "sums1 = [sum(t) for t in tuples1]\n",
    "sums2 = [sum(t) for t in tuples2]\n",
    "print(\"Sum of all the elements of each tuple:\")\n",
    "print(sums1)\n",
    "print(sums2)"
   ]
  },
  {
   "cell_type": "code",
   "execution_count": null,
   "metadata": {},
   "outputs": [],
   "source": [
    "'''2. Write a Python program to compute element-wise sum of given tuples. \n",
    "    Data:\n",
    "        list of tuples:\n",
    "        x = (1,2,3,4), y = (3,5,2,1), z = (2,2,3,1), l = (1,2,3,4)\n",
    "    Expected Output:\n",
    "        Element-wise sum of the said tuples:\n",
    "        (7, 11, 11, 10) '''\n",
    "  \n",
    "        \n",
    "        "
   ]
  },
  {
   "cell_type": "code",
   "execution_count": 2,
   "metadata": {},
   "outputs": [
    {
     "name": "stdout",
     "output_type": "stream",
     "text": [
      "Element-wise sum of the said tuples:\n",
      "(7, 11, 11, 10)\n"
     ]
    }
   ],
   "source": [
    "x = (1, 2, 3, 4)\n",
    "y = (3, 5, 2, 1)\n",
    "z = (2, 2, 3, 1)\n",
    "l = (1, 2, 3, 4)\n",
    "elementwise_sum = tuple(sum(items) for items in zip(x, y, z, l))\n",
    "print(\"Element-wise sum of the said tuples:\")\n",
    "print(elementwise_sum)"
   ]
  },
  {
   "cell_type": "code",
   "execution_count": null,
   "metadata": {},
   "outputs": [],
   "source": [
    "3. Write a Python program to check whether a specified element is present in a given nested tuple.\n",
    "    Data:\n",
    "        list of tuples:\n",
    "        (('Coffee', 'Tea', 'Boost'), ('Badam', 'Pista', 'Walnut'), ('Sangeetha', 'A2B', 'Saravana'))\n",
    "    Expected Output:\n",
    "        Check if Bournvita present in said tuple of tuples! False\n",
    "        Check if Saravana present in said tuple of tuples! True\n",
    "        \n",
    "        \n",
    "        "
   ]
  },
  {
   "cell_type": "code",
   "execution_count": 3,
   "metadata": {},
   "outputs": [
    {
     "name": "stdout",
     "output_type": "stream",
     "text": [
      "Check if Bournvita present in said tuple of tuples! False\n",
      "Check if Saravana present in said tuple of tuples! True\n"
     ]
    }
   ],
   "source": [
    "data = (('Coffee', 'Tea', 'Boost'), ('Badam', 'Pista', 'Walnut'), ('Sangeetha', 'A2B', 'Saravana'))\n",
    "def is_present(nested_tuple, element):\n",
    "    return any(element in inner for inner in nested_tuple)\n",
    "print(\"Check if Bournvita present in said tuple of tuples!\", is_present(data, \"Bournvita\"))\n",
    "print(\"Check if Saravana present in said tuple of tuples!\", is_present(data, \"Saravana\"))"
   ]
  },
  {
   "cell_type": "code",
   "execution_count": null,
   "metadata": {},
   "outputs": [],
   "source": [
    "4. Write a Python program to convert a given tuple of integers into an integer.\n",
    "    Data:\n",
    "        Example tuple: \n",
    "        (9, 20, 40, 10, 70)\n",
    "    Expected Output:\n",
    "        positive integers:\n",
    "        920401070\n",
    "        \n",
    "        "
   ]
  },
  {
   "cell_type": "code",
   "execution_count": 4,
   "metadata": {},
   "outputs": [
    {
     "name": "stdout",
     "output_type": "stream",
     "text": [
      "positive integers:\n",
      "920401070\n"
     ]
    }
   ],
   "source": [
    "t = (9, 20, 40, 10, 70)\n",
    "result=int(''.join(str(num) for num in t))\n",
    "print(\"positive integers:\")\n",
    "print(result)"
   ]
  },
  {
   "cell_type": "code",
   "execution_count": null,
   "metadata": {},
   "outputs": [],
   "source": [
    "5. Write a Python program to convert a tuple of string values into a tuple of integer values. \n",
    "    Data:\n",
    "        tuple values:\n",
    "        (('222', '33'), ('546', '678'))\n",
    "    Expected Output:\n",
    "        New tuple values:\n",
    "        ((222, 33), (546, 678))\n",
    "        \n",
    "        \n",
    "        "
   ]
  },
  {
   "cell_type": "code",
   "execution_count": 5,
   "metadata": {},
   "outputs": [
    {
     "name": "stdout",
     "output_type": "stream",
     "text": [
      "New tuple values:\n",
      "((222, 33), (546, 678))\n"
     ]
    }
   ],
   "source": [
    "t = (('222', '33'), ('546', '678'))\n",
    "result = tuple(tuple(int(num) for num in inner) for inner in t)\n",
    "print(\"New tuple values:\")\n",
    "print(result)"
   ]
  },
  {
   "cell_type": "code",
   "execution_count": null,
   "metadata": {},
   "outputs": [],
   "source": [
    "6. Write a Python program to calculate the average value of the numbers in a given tuple of tuples. \n",
    "    Data:\n",
    "        Example Tuple: \n",
    "        ((5, 30, 10, 12), (30, 20, 56, 54), (26, 80, 67, 32), (1, 4, 3, 9))\n",
    "        ((1, 1, -7), (10, -15, 56), (71, -60, -39), (-10, 2, 9))\n",
    "    Expected Output:\n",
    "        Average value of the numbers:\n",
    "        [15.5, 33.5, 34.0, 26.75]\n",
    "        [18.0, -18.0, 4.75]\n",
    "        \n",
    "        \n",
    "        \n",
    "        "
   ]
  },
  {
   "cell_type": "code",
   "execution_count": 6,
   "metadata": {},
   "outputs": [
    {
     "name": "stdout",
     "output_type": "stream",
     "text": [
      "Average value of the numbers:\n",
      "[15.5, 33.5, 34.0, 26.75]\n",
      "[18.0, -18.0, 4.75]\n"
     ]
    }
   ],
   "source": [
    "t1 = ((5, 30, 10, 12), (30, 20, 56, 54), (26, 80, 67, 32), (1, 4, 3, 9))\n",
    "t2 = ((1, 1, -7), (10, -15, 56), (71, -60, -39), (-10, 2, 9))\n",
    "def column_averages(tuples):\n",
    "    return [sum(col) / len(col) for col in zip(*tuples)]\n",
    "print(\"Average value of the numbers:\")\n",
    "print(column_averages(t1))\n",
    "print(column_averages(t2))"
   ]
  },
  {
   "cell_type": "code",
   "execution_count": null,
   "metadata": {},
   "outputs": [],
   "source": [
    "7. Write a Python program to multiply all the elements of a given tuple. \n",
    "    Data:\n",
    "        Example Tuple: \n",
    "        (4, 3, 5, 2, -2, 10)\n",
    "        (2, 6, 8, 7, 3, 1, 9)\n",
    "    Expected Output:\n",
    "        multiplying all the numbers: -2400\n",
    "        multiplying all the numbers: 18144\n",
    "            \n",
    "            "
   ]
  },
  {
   "cell_type": "code",
   "execution_count": 7,
   "metadata": {},
   "outputs": [
    {
     "name": "stdout",
     "output_type": "stream",
     "text": [
      "multiplying all the numbers: -2400\n",
      "multiplying all the numbers: 18144\n"
     ]
    }
   ],
   "source": [
    "from functools import reduce\n",
    "import operator\n",
    "t1 = (4, 3, 5, 2, -2, 10)\n",
    "t2 = (2, 6, 8, 7, 3, 1, 9)\n",
    "def tuple_product(t):\n",
    "    return reduce(operator.mul, t, 1)\n",
    "print(\"multiplying all the numbers:\", tuple_product(t1))\n",
    "print(\"multiplying all the numbers:\", tuple_product(t2))"
   ]
  },
  {
   "cell_type": "code",
   "execution_count": null,
   "metadata": {},
   "outputs": [],
   "source": [
    "8. Write a Python program to convert a given string into a tuple.\n",
    "    Data:\n",
    "        Example string:\n",
    "        aidinasaur.com\n",
    "        <class 'str'>\n",
    "    Expected Output:\n",
    "        Convert the said string to a tuple:\n",
    "        ('a', 'i', 'd', 'i', 'n', 'a', 's', 'a', 'u', 'r', '.', 'c', 'o', 'm')\n",
    "        <class 'tuple'>     \n",
    "        \n",
    "        "
   ]
  },
  {
   "cell_type": "code",
   "execution_count": 8,
   "metadata": {},
   "outputs": [
    {
     "name": "stdout",
     "output_type": "stream",
     "text": [
      "Convert the said string to a tuple:\n",
      "('a', 'i', 'd', 'i', 'n', 'a', 's', 'a', 'u', 'r', '.', 'c', 'o', 'm')\n",
      "<class 'tuple'>\n"
     ]
    }
   ],
   "source": [
    "s = \"aidinasaur.com\"\n",
    "print(\"Convert the said string to a tuple:\")\n",
    "t = tuple(s)\n",
    "print(t)\n",
    "print(type(t))"
   ]
  },
  {
   "cell_type": "code",
   "execution_count": 2,
   "metadata": {},
   "outputs": [],
   "source": [
    "9. Write a Python Program to Read a Number n and Compute n+nn+nnn using tuple. Get the input from user.\n",
    "    Expected Output:\n",
    "        Enter a number n : 5\n",
    "        The value is : 615"
   ]
  },
  {
   "cell_type": "code",
   "execution_count": 9,
   "metadata": {},
   "outputs": [
    {
     "name": "stdin",
     "output_type": "stream",
     "text": [
      "Enter a number n :  5\n"
     ]
    },
    {
     "name": "stdout",
     "output_type": "stream",
     "text": [
      "The value is : 615\n"
     ]
    }
   ],
   "source": [
    "n = input(\"Enter a number n : \")\n",
    "values = (int(n), int(n*2), int(n*3))\n",
    "result = sum(values)\n",
    "print(\"The value is :\", result)"
   ]
  },
  {
   "cell_type": "code",
   "execution_count": 1,
   "metadata": {},
   "outputs": [],
   "source": [
    "10. Write a Python program to slice a tuple.\n",
    "    Data:\n",
    "        x = (2, 4, 3, 5, 4, 6, 7, 8, 6, 1)\n",
    "        y = tuple(\"HELLO NATURE\")\n",
    "    Expected Output:\n",
    "        (5, 4)\n",
    "        (2, 4, 3, 5, 4, 6)\n",
    "        (6, 7, 8, 6, 1)\n",
    "        (2, 4, 3, 5, 4, 6, 7, 8, 6, 1)\n",
    "        (3, 5, 4, 6)\n",
    "        ('H', 'E', 'L', 'L', 'O', ' ', 'N', 'A', 'T', 'U', 'R', 'E')\n",
    "        ('L', 'O', 'N', 'T')\n",
    "        ('H', 'O', 'T')\n",
    "        ('U', ' ')    \n",
    "        \n",
    "        "
   ]
  },
  {
   "cell_type": "code",
   "execution_count": 10,
   "metadata": {},
   "outputs": [
    {
     "name": "stdout",
     "output_type": "stream",
     "text": [
      "(5, 4)\n",
      "(2, 4, 3, 5, 4, 6)\n",
      "(6, 7, 8, 6, 1)\n",
      "(2, 4, 3, 5, 4, 6, 7, 8, 6, 1)\n",
      "(3, 5, 4, 6)\n",
      "('H', 'E', 'L', 'L', 'O', ' ', 'N', 'A', 'T', 'U', 'R', 'E')\n",
      "('L', 'O', 'N', 'T')\n",
      "('H', 'O', 'T')\n",
      "('T',)\n"
     ]
    }
   ],
   "source": [
    "x = (2, 4, 3, 5, 4, 6, 7, 8, 6, 1)\n",
    "y = tuple(\"HELLO NATURE\")\n",
    "print(x[3:5])         \n",
    "print(x[:6])          \n",
    "print(x[5:])          \n",
    "print(x[:])           \n",
    "print(x[2:6])         \n",
    "print(y[:])           \n",
    "print(y[2:9:2])       \n",
    "print(y[::4])         \n",
    "print(y[-4:-6:-3])    "
   ]
  },
  {
   "cell_type": "code",
   "execution_count": 2,
   "metadata": {},
   "outputs": [],
   "source": [
    "11. Write a Python program to print the calendar of a given month and year using tuple.\n",
    "    Data:\n",
    "        Input the year : 2012\n",
    "        Input the month : 4 \n",
    "    Expected Output:\n",
    "             April 2012\n",
    "        Mo Tu We Th Fr Sa Su\n",
    "                           1\n",
    "        2  3  4  5  6  7  8\n",
    "        9 10 11 12 13 14 15\n",
    "        16 17 18 19 20 21 22\n",
    "        23 24 25 26 27 28 29\n",
    "        30\n",
    "        \n",
    "        "
   ]
  },
  {
   "cell_type": "code",
   "execution_count": 11,
   "metadata": {},
   "outputs": [
    {
     "name": "stdin",
     "output_type": "stream",
     "text": [
      "Input the year :  2012\n",
      "Input the month :  4\n"
     ]
    },
    {
     "name": "stdout",
     "output_type": "stream",
     "text": [
      "     April 2012\n",
      "Mo Tu We Th Fr Sa Su\n",
      "                   1\n",
      " 2  3  4  5  6  7  8\n",
      " 9 10 11 12 13 14 15\n",
      "16 17 18 19 20 21 22\n",
      "23 24 25 26 27 28 29\n",
      "30\n",
      "\n"
     ]
    }
   ],
   "source": [
    "import calendar\n",
    "year = int(input(\"Input the year : \"))\n",
    "month = int(input(\"Input the month : \"))\n",
    "date_tuple = (year, month)\n",
    "print(calendar.month(date_tuple[0], date_tuple[1]))"
   ]
  },
  {
   "cell_type": "code",
   "execution_count": 3,
   "metadata": {},
   "outputs": [],
   "source": [
    "12. Write a Python function to calculate the sum of given three numbers in a tuple. Return three times of their sum, if the values in a tuple are same.\n",
    "    Data:\n",
    "        (1, 2, 3) \n",
    "        (3, 3, 3)\n",
    "    Expected Output:\n",
    "        6\n",
    "        27\n",
    "        \n",
    "        "
   ]
  },
  {
   "cell_type": "code",
   "execution_count": 12,
   "metadata": {},
   "outputs": [
    {
     "name": "stdout",
     "output_type": "stream",
     "text": [
      "6\n",
      "27\n"
     ]
    }
   ],
   "source": [
    "def special_sum(t):\n",
    "    a, b, c = t\n",
    "    s = a + b + c\n",
    "    if a == b == c:\n",
    "        return 3 * s\n",
    "    else:\n",
    "        return s\n",
    "print(special_sum((1, 2, 3)))  \n",
    "print(special_sum((3, 3, 3)))  "
   ]
  },
  {
   "cell_type": "code",
   "execution_count": 4,
   "metadata": {},
   "outputs": [],
   "source": [
    "13. Write a Python program to count the number 4 in a given list of tuple.\n",
    "    Data:\n",
    "        tuples([1, 5, 6, 8, 4])\n",
    "        tuples([1, 4, 6, 2, 7, 5])\n",
    "    Expected Output:\n",
    "        1\n",
    "        1        \n",
    "        \n",
    "        "
   ]
  },
  {
   "cell_type": "code",
   "execution_count": 13,
   "metadata": {},
   "outputs": [
    {
     "name": "stdout",
     "output_type": "stream",
     "text": [
      "1\n",
      "1\n"
     ]
    }
   ],
   "source": [
    "t1 = (1, 5, 6, 8, 4)\n",
    "t2 = (1, 4, 6, 2, 7, 5)\n",
    "print(t1.count(4))\n",
    "print(t2.count(4))"
   ]
  },
  {
   "cell_type": "code",
   "execution_count": 5,
   "metadata": {},
   "outputs": [],
   "source": [
    "14. Write a Python function to check whether a specified letter in a tuple is a vowel or not. Return True if it a vowel, False if not.\n",
    "    Data:\n",
    "        vowel('c')\n",
    "        vowel('e')\n",
    "    Expected Output:\n",
    "        False\n",
    "        True\n",
    "        \n",
    "        "
   ]
  },
  {
   "cell_type": "code",
   "execution_count": 14,
   "metadata": {},
   "outputs": [
    {
     "name": "stdout",
     "output_type": "stream",
     "text": [
      "False\n",
      "True\n"
     ]
    }
   ],
   "source": [
    "def vowel(letter):\n",
    "    vowels = ('a', 'e', 'i', 'o', 'u')\n",
    "    return letter.lower() in vowels\n",
    "print(vowel('c'))  \n",
    "print(vowel('e'))  "
   ]
  },
  {
   "cell_type": "code",
   "execution_count": 6,
   "metadata": {},
   "outputs": [],
   "source": [
    "15. Write a Python program to compute the greatest common divisor (GCD) of two given positive integers in a tuple.\n",
    "    Data:\n",
    "        a = (12, 17)    \n",
    "    Expected output:\n",
    "        1\n",
    "    "
   ]
  },
  {
   "cell_type": "code",
   "execution_count": 15,
   "metadata": {},
   "outputs": [
    {
     "name": "stdout",
     "output_type": "stream",
     "text": [
      "1\n"
     ]
    }
   ],
   "source": [
    "import math\n",
    "a = (12, 17)\n",
    "num1,num2 = a\n",
    "gcd=math.gcd(num1, num2)\n",
    "print(gcd)"
   ]
  },
  {
   "cell_type": "code",
   "execution_count": 7,
   "metadata": {},
   "outputs": [],
   "source": [
    "16. Write a Python program to compute the least common multiple (LCM) of two given positive integers in a tuple.\n",
    "    Data:\n",
    "        a = (4, 6)\n",
    "    Expected output:\n",
    "        12\n",
    "    \n",
    "    "
   ]
  },
  {
   "cell_type": "code",
   "execution_count": 16,
   "metadata": {},
   "outputs": [
    {
     "name": "stdout",
     "output_type": "stream",
     "text": [
      "12\n"
     ]
    }
   ],
   "source": [
    "import math\n",
    "a = (4, 6)\n",
    "num1, num2 = a\n",
    "lcm = abs(num1 * num2) // math.gcd(num1, num2)\n",
    "print(lcm)"
   ]
  },
  {
   "cell_type": "code",
   "execution_count": 8,
   "metadata": {},
   "outputs": [],
   "source": [
    "17. Write a Python program to calculate the hypotenuse of a right angled triangle. \n",
    "    Data:\n",
    "        Input lengths of shorter triangle sides:\n",
    "            a: 4\n",
    "            b: 5\n",
    "    Expected Output:\n",
    "        length of the hypotenuse is 6.4031242374328485 \n",
    "        \n",
    "        \n",
    "        "
   ]
  },
  {
   "cell_type": "code",
   "execution_count": 17,
   "metadata": {},
   "outputs": [
    {
     "name": "stdin",
     "output_type": "stream",
     "text": [
      "Input lengths of shorter triangle sides:\n",
      "a:  4\n",
      "b:  5\n"
     ]
    },
    {
     "name": "stdout",
     "output_type": "stream",
     "text": [
      "length of the hypotenuse is 6.4031242374328485\n"
     ]
    }
   ],
   "source": [
    "import math\n",
    "a = float(input(\"Input lengths of shorter triangle sides:\\na: \"))\n",
    "b = float(input(\"b: \"))\n",
    "hypotenuse = math.sqrt(a**2 + b**2)\n",
    "print(\"length of the hypotenuse is\", hypotenuse)"
   ]
  },
  {
   "cell_type": "code",
   "execution_count": 9,
   "metadata": {},
   "outputs": [],
   "source": [
    "18. Write a Python program to check whether a given variable is a list or a tuple or a set.\n",
    "    Data:\n",
    "        x = ('tuple', True, 5.2, 9)\n",
    "    Expected Output:\n",
    "        x is a tuple     \n",
    "        \n",
    "        "
   ]
  },
  {
   "cell_type": "code",
   "execution_count": 18,
   "metadata": {},
   "outputs": [
    {
     "name": "stdout",
     "output_type": "stream",
     "text": [
      "x is a tuple\n"
     ]
    }
   ],
   "source": [
    "x = ('tuple', True, 5.2, 9)\n",
    "if isinstance(x, list):\n",
    "    print(\"x is a list\")\n",
    "elif isinstance(x, tuple):\n",
    "    print(\"x is a tuple\")\n",
    "elif isinstance(x, set):\n",
    "    print(\"x is a set\")\n",
    "else:\n",
    "    print(\"x is neither a list, tuple, nor set\")"
   ]
  },
  {
   "cell_type": "code",
   "execution_count": 10,
   "metadata": {},
   "outputs": [],
   "source": [
    "19. Write a Python program to update the element \"banana\" into \"kiwi\" that is stored in a tuple.\n",
    "    Data:\n",
    "        x = (\"apple\", \"banana\", \"cherry\")\n",
    "    Expected Output:\n",
    "        ('apple', 'banana', 'cherry')\n",
    "        ('apple', 'kiwi', 'cherry')       \n",
    "        \n",
    "        "
   ]
  },
  {
   "cell_type": "code",
   "execution_count": 19,
   "metadata": {},
   "outputs": [
    {
     "name": "stdout",
     "output_type": "stream",
     "text": [
      "('apple', 'banana', 'cherry')\n",
      "('apple', 'kiwi', 'cherry')\n"
     ]
    }
   ],
   "source": [
    "x = (\"apple\", \"banana\", \"cherry\")\n",
    "print(x)\n",
    "x_list = list(x)\n",
    "x_list[x_list.index(\"banana\")] = \"kiwi\"\n",
    "x_updated = tuple(x_list)\n",
    "print(x_updated)"
   ]
  },
  {
   "cell_type": "code",
   "execution_count": null,
   "metadata": {},
   "outputs": [],
   "source": [
    "20. Write a Python program to convert a tuple into a dictionary.\n",
    "    Data:\n",
    "        x = ((\"boss\", 10), (\"suresh\", 12), (\"anand\", 14), (\"siva\", 20), (\"bala\", 25), (\"karthi\", 30))\n",
    "    Expected Output:\n",
    "        {10: 'boss', 12: 'suresh', 14: 'anand', 20: 'siva', 25: 'bala', 30: 'karthi'}\n",
    "        \n",
    "        "
   ]
  },
  {
   "cell_type": "code",
   "execution_count": 20,
   "metadata": {},
   "outputs": [
    {
     "name": "stdout",
     "output_type": "stream",
     "text": [
      "{10: 'boss', 12: 'suresh', 14: 'anand', 20: 'siva', 25: 'bala', 30: 'karthi'}\n"
     ]
    }
   ],
   "source": [
    "x = ((\"boss\", 10), (\"suresh\", 12), (\"anand\", 14), (\"siva\", 20), (\"bala\", 25), (\"karthi\", 30))\n",
    "d = {num: name for name, num in x}\n",
    "print(d)"
   ]
  }
 ],
 "metadata": {
  "kernelspec": {
   "display_name": "Python 3 (ipykernel)",
   "language": "python",
   "name": "python3"
  },
  "language_info": {
   "codemirror_mode": {
    "name": "ipython",
    "version": 3
   },
   "file_extension": ".py",
   "mimetype": "text/x-python",
   "name": "python",
   "nbconvert_exporter": "python",
   "pygments_lexer": "ipython3",
   "version": "3.13.5"
  }
 },
 "nbformat": 4,
 "nbformat_minor": 4
}
