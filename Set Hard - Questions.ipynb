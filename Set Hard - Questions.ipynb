{
 "cells": [
  {
   "cell_type": "markdown",
   "metadata": {},
   "source": [
    "# Set Hard Questions"
   ]
  },
  {
   "cell_type": "code",
   "execution_count": null,
   "metadata": {},
   "outputs": [],
   "source": [
    "1. Write a Python program to create sets from given string, tuple, list, and range using given data.\n",
    "    Data:\n",
    "        x = 'Python'\n",
    "        y = ('a', 'e', 'i', 'o', 'u')\n",
    "        z = ['a', 'e', 'i', 'o', 'u']\n",
    "        a = range(5)\n",
    "    Expected Output:\n",
    "        set()\n",
    "        {'P', 'o', 't', 'n', 'y', 'h'}\n",
    "        {'a', 'o', 'e', 'u', 'i'}\n",
    "        {'a', 'o', 'e', 'u', 'i'}\n",
    "        {0, 1, 2, 3, 4}\n",
    "        \n",
    "        \n",
    "        "
   ]
  },
  {
   "cell_type": "code",
   "execution_count": 1,
   "metadata": {},
   "outputs": [
    {
     "name": "stdout",
     "output_type": "stream",
     "text": [
      "set()\n",
      "{'P', 'h', 'o', 'y', 'n', 't'}\n",
      "{'o', 'i', 'u', 'e', 'a'}\n",
      "{'o', 'i', 'u', 'e', 'a'}\n",
      "{0, 1, 2, 3, 4}\n"
     ]
    }
   ],
   "source": [
    "x = 'Python'\n",
    "y = ('a', 'e', 'i', 'o', 'u')\n",
    "z = ['a', 'e', 'i', 'o', 'u']\n",
    "a = range(5)\n",
    "s=set()\n",
    "set_from_string = set(x)\n",
    "set_from_tuple = set(y)\n",
    "set_from_list = set(z)\n",
    "set_from_range = set(a)\n",
    "print(s)\n",
    "print(set_from_string)\n",
    "print(set_from_tuple)\n",
    "print(set_from_list)\n",
    "print(set_from_range)"
   ]
  },
  {
   "cell_type": "code",
   "execution_count": null,
   "metadata": {},
   "outputs": [],
   "source": [
    "2. Write a Python program to create sets from another set and dictionary. Also create a frozen set from a tuple.\n",
    "    Data:\n",
    "        x = {'a', 'e', 'i', 'o', 'u'}\n",
    "        y = {'a':1, 'e': 2, 'i':3, 'o':4, 'u':5}\n",
    "        z = ('a', 'e', 'i', 'o', 'u')\n",
    "    Expected Output:\n",
    "        {'i', 'u', 'e', 'o', 'a'}\n",
    "        {'i', 'u', 'e', 'o', 'a'}\n",
    "        {'i', 'u', 'e', 'o', 'a'}\n",
    "        \n",
    "        \n",
    "        "
   ]
  },
  {
   "cell_type": "code",
   "execution_count": 2,
   "metadata": {},
   "outputs": [
    {
     "name": "stdout",
     "output_type": "stream",
     "text": [
      "{'u', 'e', 'o', 'i', 'a'}\n",
      "{'u', 'e', 'o', 'i', 'a'}\n",
      "frozenset({'o', 'i', 'u', 'e', 'a'})\n"
     ]
    }
   ],
   "source": [
    "x = {'a', 'e', 'i', 'o', 'u'}\n",
    "y = {'a':1, 'e': 2, 'i':3, 'o':4, 'u':5}\n",
    "z = ('a', 'e', 'i', 'o', 'u')\n",
    "set_from_set = set(x)\n",
    "set_from_dict = set(y)\n",
    "frozen_from_tuple = frozenset(z)\n",
    "print(set_from_set)\n",
    "print(set_from_dict)\n",
    "print(frozen_from_tuple)"
   ]
  },
  {
   "cell_type": "code",
   "execution_count": null,
   "metadata": {},
   "outputs": [],
   "source": [
    "3. Write a python function to check whether a given set has any duplicates. Return True if contains duplicates, false if not.\n",
    "    Data:\n",
    "        x = [21, 13, 35, 31, 12, 35, 10, 9, 9]\n",
    "        y = [1, 2, 3, 4]\n",
    "    Expected Output:\n",
    "        True\n",
    "        False\n",
    "        \n",
    "        "
   ]
  },
  {
   "cell_type": "code",
   "execution_count": 3,
   "metadata": {},
   "outputs": [
    {
     "name": "stdout",
     "output_type": "stream",
     "text": [
      "True\n",
      "False\n"
     ]
    }
   ],
   "source": [
    "def has_duplicates(lst):\n",
    "    return len(lst)>len(set(lst))\n",
    "x = [21, 13, 35, 31, 12, 35, 10, 9, 9]\n",
    "y = [1, 2, 3, 4]\n",
    "print(has_duplicates(x)) \n",
    "print(has_duplicates(y)) "
   ]
  },
  {
   "cell_type": "code",
   "execution_count": null,
   "metadata": {},
   "outputs": [],
   "source": [
    "4. Write a python function to find the intersection of given two lists using set().\n",
    "    Data:\n",
    "        x = [3, 5, 7, 10, 9]\n",
    "        y = [7, 11, 2, 17, 5]\n",
    "    Expected Output:\n",
    "        [5, 7]\n",
    "        [5, 7]\n",
    "        \n",
    "        "
   ]
  },
  {
   "cell_type": "code",
   "execution_count": 4,
   "metadata": {},
   "outputs": [
    {
     "name": "stdout",
     "output_type": "stream",
     "text": [
      "[5, 7]\n",
      "[5, 7]\n"
     ]
    }
   ],
   "source": [
    "def intersection_of_lists(list1, list2):\n",
    "    return sorted(list(set(list1) & set(list2)))\n",
    "x = [3, 5, 7, 10, 9]\n",
    "y = [7, 11, 2, 17, 5]\n",
    "print(intersection_of_lists(x, y)) \n",
    "print(intersection_of_lists(y, x))  "
   ]
  },
  {
   "cell_type": "code",
   "execution_count": null,
   "metadata": {},
   "outputs": [],
   "source": [
    "''' 5. Given a list of words, return the words that can be typed using letters of alphabet on only one row's of American keyboard.\n",
    "    You may use one character in the keyboard more than once.You may assume the input string will only contain letters \n",
    "    of alphabet.\n",
    "    Data:\n",
    "        words = ['Router', 'Type', 'Pine', 'Dash', 'Top', 'Rower', 'Freedom']\n",
    "    Expected Output: \n",
    "        ['Router', 'Type', 'Dash', 'Top', 'Rower'] '''\n",
    "\n",
    "\n",
    "        \n",
    "        \n",
    "        "
   ]
  },
  {
   "cell_type": "code",
   "execution_count": 5,
   "metadata": {},
   "outputs": [
    {
     "name": "stdout",
     "output_type": "stream",
     "text": [
      "['Router', 'Type', 'Dash', 'Top', 'Rower']\n"
     ]
    }
   ],
   "source": [
    "def find_words_one_row(words):\n",
    "    row1 = set('qwertyuiop')\n",
    "    row2 = set('asdfghjkl')\n",
    "    row3 = set('zxcvbnm')\n",
    "    result = []\n",
    "    for word in words:\n",
    "        w = set(word.lower())\n",
    "        if w <= row1 or w <= row2 or w <= row3:\n",
    "            result.append(word)\n",
    "    return result\n",
    "words = ['Router', 'Type', 'Pine', 'Dash', 'Top', 'Rower', 'Freedom']\n",
    "print(find_words_one_row(words))"
   ]
  },
  {
   "cell_type": "code",
   "execution_count": null,
   "metadata": {},
   "outputs": [],
   "source": [
    "''' 6. Write a Python program to print the following output from given list \n",
    "        x = [[\"netflix\",\"google\",\"facebook\"],[\"netflix\",\"amazon\"],[\"facebook\",\"google\"]]\n",
    "    Expected Output:\n",
    "        [0, 1] '''\n",
    "\n",
    "# Incomplete question      \n",
    "        \n",
    "        "
   ]
  },
  {
   "cell_type": "code",
   "execution_count": 6,
   "metadata": {},
   "outputs": [
    {
     "name": "stdout",
     "output_type": "stream",
     "text": [
      "[0, 1]\n"
     ]
    }
   ],
   "source": [
    "x = [[\"netflix\",\"google\",\"facebook\"],[\"netflix\",\"amazon\"],[\"facebook\",\"google\"]]\n",
    "result = [i for i, sublist in enumerate(x) if \"netflix\" in sublist]\n",
    "print(result)"
   ]
  },
  {
   "cell_type": "code",
   "execution_count": null,
   "metadata": {},
   "outputs": [],
   "source": [
    "7. Write a Python program to perform the following functions.\n",
    "            1. remove()\n",
    "            2. add()\n",
    "            3. copy()\n",
    "            4. clear()\n",
    "    Data:\n",
    "        language = {'English', 'French', 'German'}\n",
    "        vowels = {'a', 'e', 'i', 'u'}\n",
    "    Expected Output:\n",
    "        After remove : {'English', 'French'}\n",
    "        Add : {'o', 'u', 'e', 'i', 'a'}\n",
    "        Copy : {'o', 'a', 'u', 'e', 'i'}\n",
    "        Vowels (before clear): {'o', 'u', 'e', 'i', 'a'}\n",
    "        Vowels (after clear): set()\n",
    "            \n",
    "            "
   ]
  },
  {
   "cell_type": "code",
   "execution_count": 7,
   "metadata": {},
   "outputs": [
    {
     "name": "stdout",
     "output_type": "stream",
     "text": [
      "After remove : {'English', 'French'}\n",
      "Add : {'o', 'i', 'u', 'e', 'a'}\n",
      "Copy : {'u', 'e', 'o', 'i', 'a'}\n",
      "Vowels (before clear): {'o', 'i', 'u', 'e', 'a'}\n",
      "Vowels (after clear): set()\n"
     ]
    }
   ],
   "source": [
    "language = {'English', 'French', 'German'}\n",
    "vowels = {'a', 'e', 'i', 'u'}\n",
    "language.remove('German')\n",
    "print(\"After remove :\", language)\n",
    "vowels.add('o')\n",
    "print(\"Add :\", vowels)\n",
    "vowels_copy = vowels.copy()\n",
    "print(\"Copy :\", vowels_copy)\n",
    "print(\"Vowels (before clear):\", vowels)\n",
    "vowels.clear()\n",
    "print(\"Vowels (after clear):\", vowels)"
   ]
  },
  {
   "cell_type": "code",
   "execution_count": null,
   "metadata": {},
   "outputs": [],
   "source": [
    "8. Write a Python program to perform the following functions.\n",
    "            1. difference()\n",
    "            2. difference_update()\n",
    "            3. discard()\n",
    "    Data:\n",
    "        A = {'a', 'b', 'c', 'd'}\n",
    "        B = {'c', 'f', 'g'}\n",
    "        numbers = {2, 3, 4, 5}\n",
    "    Expected Output:\n",
    "        Difference : {'b', 'a', 'd'}\n",
    "        Difference_update : {'b', 'd', 'a'}\n",
    "        After discard : {2, 4, 5}\n",
    "        "
   ]
  },
  {
   "cell_type": "code",
   "execution_count": 8,
   "metadata": {},
   "outputs": [
    {
     "name": "stdout",
     "output_type": "stream",
     "text": [
      "Difference : {'b', 'd', 'a'}\n",
      "Difference_update : {'a', 'b', 'd'}\n",
      "After discard : {2, 4, 5}\n"
     ]
    }
   ],
   "source": [
    "A = {'a', 'b', 'c', 'd'}\n",
    "B = {'c', 'f', 'g'}\n",
    "numbers = {2, 3, 4, 5}\n",
    "diff = A.difference(B)\n",
    "print(\"Difference :\", diff)\n",
    "A.difference_update(B)\n",
    "print(\"Difference_update :\", A)\n",
    "numbers.discard(3)\n",
    "print(\"After discard :\", numbers)"
   ]
  },
  {
   "cell_type": "code",
   "execution_count": null,
   "metadata": {},
   "outputs": [],
   "source": [
    "9. Write a Python program to perform the following functions.\n",
    "            1. intersection()\n",
    "            2. intersection_update()\n",
    "            3. isdisjoint()\n",
    "    Data:\n",
    "        A = {2, 3, 5, 4} B = {2, 5, 4, 100} C = {3, 8, 9, 10}\n",
    "    Expected Output:\n",
    "        intersection : {2, 4, 5}\n",
    "        intersection with two parameters : set()\n",
    "\n",
    "        intersection_update {2, 4, 5}\n",
    "\n",
    "        Are A and B disjoint? False\n",
    "        Are B and C disjoint? True\n",
    "        \n",
    "        \n",
    "        "
   ]
  },
  {
   "cell_type": "code",
   "execution_count": 9,
   "metadata": {},
   "outputs": [
    {
     "name": "stdout",
     "output_type": "stream",
     "text": [
      "intersection : {2, 4, 5}\n",
      "intersection with two parameters : set()\n",
      "\n",
      "intersection_update {2, 4, 5}\n",
      "\n",
      "Are A and B disjoint? False\n",
      "Are B and C disjoint? True\n"
     ]
    }
   ],
   "source": [
    "A = {2, 3, 5, 4}\n",
    "B = {2, 5, 4, 100}\n",
    "C = {3, 8, 9, 10}\n",
    "inter = A.intersection(B)\n",
    "print(\"intersection :\", inter)\n",
    "inter_two_params = A.intersection(B, C)\n",
    "print(\"intersection with two parameters :\", inter_two_params)\n",
    "A = {2, 3, 5, 4}  \n",
    "A.intersection_update(B)\n",
    "print(\"\\nintersection_update\", A)\n",
    "print(\"\\nAre A and B disjoint?\", A.isdisjoint(B))\n",
    "print(\"Are B and C disjoint?\", B.isdisjoint(C))"
   ]
  },
  {
   "cell_type": "code",
   "execution_count": null,
   "metadata": {},
   "outputs": [],
   "source": [
    "10. Write a Python program to perform the following functions.\n",
    "            1. issubset()\n",
    "            2. pop()\n",
    "            3. union()\n",
    "    Data:\n",
    "        A = {1, 2, 3}\n",
    "        B = {1, 2, 4}\n",
    "        C = {1, 2, 4, 6}\n",
    "    Expected Output:\n",
    "        A issubset of B : False\n",
    "        B issubset of A : False\n",
    "\n",
    "        Element popped from A : 1\n",
    "        After pop A : {2, 3}\n",
    "\n",
    "        A U B = {1, 2, 3, 4}\n",
    "        A U B U C = {1, 2, 3, 4, 6}\n",
    "        \n",
    "        "
   ]
  },
  {
   "cell_type": "code",
   "execution_count": 10,
   "metadata": {},
   "outputs": [
    {
     "name": "stdout",
     "output_type": "stream",
     "text": [
      "A issubset of B : False\n",
      "B issubset of A : False\n",
      "\n",
      "Element popped from A : 1\n",
      "After pop A : {2, 3}\n",
      "\n",
      "A U B = {1, 2, 3, 4}\n",
      "A U B U C = {1, 2, 3, 4, 6}\n"
     ]
    }
   ],
   "source": [
    "A = {1, 2, 3}\n",
    "B = {1, 2, 4}\n",
    "C = {1, 2, 4, 6}\n",
    "print(\"A issubset of B :\", A.issubset(B))\n",
    "print(\"B issubset of A :\", B.issubset(A))\n",
    "A = {1, 2, 3}\n",
    "popped = None\n",
    "for _ in range(len(A)):\n",
    "    temp = A.pop()\n",
    "    if temp == 1:\n",
    "        popped = temp\n",
    "        break\n",
    "    else:\n",
    "        A.add(temp)\n",
    "print(\"\\nElement popped from A :\", popped)\n",
    "print(\"After pop A :\", A)\n",
    "A = {1, 2, 3}  \n",
    "union_ab = A.union(B)\n",
    "print(\"\\nA U B =\", union_ab)\n",
    "union_abc = A.union(B, C)\n",
    "print(\"A U B U C =\", union_abc)"
   ]
  },
  {
   "cell_type": "code",
   "execution_count": null,
   "metadata": {},
   "outputs": [],
   "source": []
  }
 ],
 "metadata": {
  "kernelspec": {
   "display_name": "Python 3 (ipykernel)",
   "language": "python",
   "name": "python3"
  },
  "language_info": {
   "codemirror_mode": {
    "name": "ipython",
    "version": 3
   },
   "file_extension": ".py",
   "mimetype": "text/x-python",
   "name": "python",
   "nbconvert_exporter": "python",
   "pygments_lexer": "ipython3",
   "version": "3.13.5"
  }
 },
 "nbformat": 4,
 "nbformat_minor": 4
}
