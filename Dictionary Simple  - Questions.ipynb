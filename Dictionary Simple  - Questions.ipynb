{
 "cells": [
  {
   "cell_type": "markdown",
   "metadata": {},
   "source": [
    "# Dictionary Simple Questions"
   ]
  },
  {
   "cell_type": "code",
   "execution_count": null,
   "metadata": {},
   "outputs": [],
   "source": [
    "1. Write a Python program to add a new key to the dictionary.\n",
    "    Data:\n",
    "        x = {0: 10, 1: 20}\n",
    "        y = {2: 30}\n",
    "    Expected Output:\n",
    "        {0: 10, 1: 20, 2: 30} \n",
    "        \n",
    "        \n",
    "        \n",
    "        "
   ]
  },
  {
   "cell_type": "code",
   "execution_count": 1,
   "metadata": {},
   "outputs": [
    {
     "data": {
      "text/plain": [
       "{0: 10, 1: 20, 2: 30}"
      ]
     },
     "execution_count": 1,
     "metadata": {},
     "output_type": "execute_result"
    }
   ],
   "source": [
    "x = {0: 10, 1: 20}\n",
    "y = {2: 30}\n",
    "x.update(y)\n",
    "x"
   ]
  },
  {
   "cell_type": "code",
   "execution_count": null,
   "metadata": {},
   "outputs": [],
   "source": [
    "2. Write a Python program to iterate over dictionaries using for loops.\n",
    "    Data:\n",
    "        d = {\"a\":10, \"b\":20, \"c\":30,}\n",
    "    Expected Output:\n",
    "        a -> 10\n",
    "        b -> 20\n",
    "        c -> 30\n",
    "        \n",
    "        \n",
    "        \n",
    "        "
   ]
  },
  {
   "cell_type": "code",
   "execution_count": 3,
   "metadata": {},
   "outputs": [
    {
     "name": "stdout",
     "output_type": "stream",
     "text": [
      "a -> 10\n",
      "b -> 20\n",
      "c -> 30\n"
     ]
    }
   ],
   "source": [
    "d = {\"a\":10, \"b\":20, \"c\":30,}\n",
    "for key,val in d.items():\n",
    "    print(key,\"->\",val)"
   ]
  },
  {
   "cell_type": "code",
   "execution_count": null,
   "metadata": {},
   "outputs": [],
   "source": [
    "3. Write a Python program to sum all the values in a dictionary. \n",
    "    Data:\n",
    "        d = {\"data1\":100, \"data2\":-50, \"data3\":200}\n",
    "    Expected Output:\n",
    "        250\n",
    "        \n",
    "        \n",
    "        \n",
    "        "
   ]
  },
  {
   "cell_type": "code",
   "execution_count": 8,
   "metadata": {},
   "outputs": [
    {
     "name": "stdout",
     "output_type": "stream",
     "text": [
      "250\n"
     ]
    }
   ],
   "source": [
    "d = {\"data1\":100, \"data2\":-50, \"data3\":200}\n",
    "total=sum(d.values())\n",
    "print(total)"
   ]
  },
  {
   "cell_type": "code",
   "execution_count": null,
   "metadata": {},
   "outputs": [],
   "source": [
    "4. Write a Python program to multiply all the values in a dictionary.\n",
    "    Data:\n",
    "        d={\"data1\":100, \"data2\":-50, \"data3\":200}\n",
    "    Expected Output:\n",
    "        -1000000\n",
    "        \n",
    "        \n",
    "        \n",
    "        "
   ]
  },
  {
   "cell_type": "code",
   "execution_count": 16,
   "metadata": {},
   "outputs": [
    {
     "name": "stdout",
     "output_type": "stream",
     "text": [
      "-1000000\n"
     ]
    }
   ],
   "source": [
    "d = {\"data1\": 100, \"data2\": -50, \"data3\": 200}\n",
    "result=1\n",
    "for value in d.values():\n",
    "    result*=value\n",
    "print(result)"
   ]
  },
  {
   "cell_type": "code",
   "execution_count": null,
   "metadata": {},
   "outputs": [],
   "source": []
  },
  {
   "cell_type": "code",
   "execution_count": null,
   "metadata": {},
   "outputs": [],
   "source": [
    "6. Write a Python program to map two lists into a dictionary.\n",
    "    Data:\n",
    "        keys = [\"Chandler\", \"Monica\", \"Joey\"]\n",
    "        values = [\"Sarcasm\", \"Chef\", \"Food\"]\n",
    "    Expected Output:\n",
    "        {'Chandler': 'Sarcasm', 'Monica': 'Chef', 'Joey': 'Food'}\n",
    "        \n",
    "        \n",
    "        \n"
   ]
  },
  {
   "cell_type": "code",
   "execution_count": 19,
   "metadata": {},
   "outputs": [
    {
     "name": "stdout",
     "output_type": "stream",
     "text": [
      "{'Chandler': 'Sarcasm', 'Monica': 'Chef', 'Joey': 'Food'}\n"
     ]
    }
   ],
   "source": [
    "keys = [\"Chandler\", \"Monica\", \"Joey\"]\n",
    "values = [\"Sarcasm\", \"Chef\", \"Food\"]\n",
    "print(dict(zip(keys,values)))"
   ]
  },
  {
   "cell_type": "code",
   "execution_count": null,
   "metadata": {},
   "outputs": [],
   "source": [
    "7. Write a Python program to sort a dictionary by key. \n",
    "    Data:\n",
    "        dict = {'Chandler': 'Sarcasm', 'Monica': 'Chef', 'Joey': 'Food', 'Ross': 'Dinosaur', 'Rachel': 'Fashion'}\n",
    "\n",
    "    Expected Output:\n",
    "        Chandler: Sarcasm\n",
    "        Joey: Food\n",
    "        Monica: Chef\n",
    "        Rachel: Fashion\n",
    "        Ross: Dinosaur\n",
    "            \n",
    "            \n",
    "            \n"
   ]
  },
  {
   "cell_type": "code",
   "execution_count": 27,
   "metadata": {},
   "outputs": [
    {
     "name": "stdout",
     "output_type": "stream",
     "text": [
      "Chandler: Sarcasm\n",
      "Joey: Food\n",
      "Monica: Chef\n",
      "Rachel: Fashion\n",
      "Ross: Dinosaur\n"
     ]
    }
   ],
   "source": [
    "dict = {'Chandler': 'Sarcasm', 'Monica': 'Chef', 'Joey': 'Food', 'Ross': 'Dinosaur', 'Rachel': 'Fashion'}\n",
    "for key in sorted(dict.keys()):\n",
    "    print(f\"{key}: {dict[key]}\")"
   ]
  },
  {
   "cell_type": "code",
   "execution_count": null,
   "metadata": {},
   "outputs": [],
   "source": [
    "8. Write a Python program to check whether a dictionary is empty or not.\n",
    "    Data:\n",
    "        dict={}\n",
    "    Expected Output:\n",
    "        Dictionary is empty\n",
    "        \n",
    "        "
   ]
  },
  {
   "cell_type": "code",
   "execution_count": 29,
   "metadata": {},
   "outputs": [
    {
     "name": "stdout",
     "output_type": "stream",
     "text": [
      "Dictionary is empty\n"
     ]
    }
   ],
   "source": [
    " dict={}\n",
    "if not dict:\n",
    "    print(\"Dictionary is empty\")\n",
    "else:\n",
    "    print(\"Dictionary is not empty\")"
   ]
  },
  {
   "cell_type": "code",
   "execution_count": null,
   "metadata": {},
   "outputs": [],
   "source": [
    "9. Write a Python program to print the keys by index in a dictionary.\n",
    "    Data:\n",
    "        d = {'physics': 90, 'math': 100, 'chemistry': 96}\n",
    "    Expected Output:\n",
    "        physics\n",
    "        math\n",
    "        chemistry\n",
    "        \n",
    "        \n",
    "        \n",
    "        "
   ]
  },
  {
   "cell_type": "code",
   "execution_count": 30,
   "metadata": {},
   "outputs": [
    {
     "name": "stdout",
     "output_type": "stream",
     "text": [
      "physics\n",
      "math\n",
      "chemistry\n"
     ]
    }
   ],
   "source": [
    "d = {'physics': 90, 'math': 100, 'chemistry': 96}\n",
    "keys=list(d.keys())\n",
    "for i in range(len(keys)):\n",
    "    print(keys[i])"
   ]
  },
  {
   "cell_type": "code",
   "execution_count": null,
   "metadata": {},
   "outputs": [],
   "source": [
    "10. Write a Python program to concatenate following dictionaries to create a new one.\n",
    "    Data:\n",
    "        d1={1:10, 2:20} \n",
    "        d2={3:30, 4:40} \n",
    "        d3={5:50, 6:60}\n",
    "    Expected Output:\n",
    "        {1: 10, 2: 20, 3: 30, 4: 40, 5: 50, 6: 60}\n",
    "        \n",
    "        \n",
    "        \n"
   ]
  },
  {
   "cell_type": "code",
   "execution_count": 35,
   "metadata": {},
   "outputs": [
    {
     "name": "stdout",
     "output_type": "stream",
     "text": [
      "{1: 10, 2: 20, 3: 30, 4: 40, 5: 50, 6: 60}\n"
     ]
    }
   ],
   "source": [
    "d1={1:10, 2:20} \n",
    "d2={3:30, 4:40} \n",
    "d3={5:50, 6:60}\n",
    "result={}\n",
    "result.update(d1)\n",
    "result.update(d2)\n",
    "result.update(d3)\n",
    "print(result)"
   ]
  },
  {
   "cell_type": "code",
   "execution_count": null,
   "metadata": {},
   "outputs": [],
   "source": [
    "11. Write a Python program to generate a dictionary that has length n and the elements in the format of {x: x*x}. \n",
    "    Data:\n",
    "         n = 6\n",
    "    Expected Output:\n",
    "        {1: 1, 2: 4, 3: 9, 4: 16, 5: 25, 6: 36}\n",
    "        \n",
    "        \n",
    "        \n",
    "        "
   ]
  },
  {
   "cell_type": "code",
   "execution_count": 36,
   "metadata": {},
   "outputs": [
    {
     "name": "stdout",
     "output_type": "stream",
     "text": [
      "{1: 1, 2: 4, 3: 9, 4: 16, 5: 25, 6: 36}\n"
     ]
    }
   ],
   "source": [
    "n = 6\n",
    "result = {x: x*x for x in range(1, n+1)}\n",
    "print(result)"
   ]
  },
  {
   "cell_type": "code",
   "execution_count": null,
   "metadata": {},
   "outputs": [],
   "source": [
    "12. Write a Python program to print a dictionary where the keys are numbers between 1 and 15 (both included) and \n",
    "    the values are square of keys.\n",
    "    Expected Output:\n",
    "        {1: 1, 2: 4, 3: 9, 4: 16, 5: 25, 6: 36, 7: 49, 8: 64, 9: 81, 10: 100, 11: 121, 12: 144, 13: 169, 14: 196, 15: 225}\n",
    "\n",
    "        \n",
    "        \n",
    "        "
   ]
  },
  {
   "cell_type": "code",
   "execution_count": 37,
   "metadata": {},
   "outputs": [
    {
     "name": "stdout",
     "output_type": "stream",
     "text": [
      "{1: 1, 2: 4, 3: 9, 4: 16, 5: 25, 6: 36, 7: 49, 8: 64, 9: 81, 10: 100, 11: 121, 12: 144, 13: 169, 14: 196, 15: 225}\n"
     ]
    }
   ],
   "source": [
    "result = {x: x*x for x in range(1, 16)}\n",
    "print(result)"
   ]
  },
  {
   "cell_type": "code",
   "execution_count": null,
   "metadata": {},
   "outputs": [],
   "source": [
    "13. Write a Python program to merge two dictionaries. \n",
    "    Data:\n",
    "        d1 = {\"a\":10, \"b\":20}\n",
    "        d2 = {\"x\":30, \"y\":40}\n",
    "    Expected Output:\n",
    "        {'a': 10, 'b': 20, 'x': 30, 'y': 40}\n",
    "        \n",
    "        \n",
    "        \n",
    "        "
   ]
  },
  {
   "cell_type": "code",
   "execution_count": 39,
   "metadata": {},
   "outputs": [
    {
     "data": {
      "text/plain": [
       "{'a': 10, 'b': 20, 'x': 30, 'y': 40}"
      ]
     },
     "execution_count": 39,
     "metadata": {},
     "output_type": "execute_result"
    }
   ],
   "source": [
    "d1 = {\"a\":10, \"b\":20}\n",
    "d2 = {\"x\":30, \"y\":40}\n",
    "d1.update(d2)\n",
    "d1"
   ]
  },
  {
   "cell_type": "code",
   "execution_count": null,
   "metadata": {},
   "outputs": [],
   "source": [
    "14. Write a Python program to iterate over a dictionary and print all the keys and values using for loops.\n",
    "    Data:\n",
    "        d = {\"Bihar\":'Patna', \"Sikkim\":'Gangtok', \"Goa\":'Panaji'}\n",
    "    Expected Output:\n",
    "        Bihar   Patna\n",
    "        Sikkim  Gangtok\n",
    "        Goa     Panaji\n",
    "\n",
    "        \n",
    "        \n",
    "        "
   ]
  },
  {
   "cell_type": "code",
   "execution_count": 40,
   "metadata": {},
   "outputs": [
    {
     "name": "stdout",
     "output_type": "stream",
     "text": [
      "Bihar\tPatna\n",
      "Sikkim\tGangtok\n",
      "Goa\tPanaji\n"
     ]
    }
   ],
   "source": [
    "d = {\"Bihar\":'Patna', \"Sikkim\":'Gangtok', \"Goa\":'Panaji'}\n",
    "for state, capital in d.items():\n",
    "    print(f\"{state}\\t{capital}\")"
   ]
  },
  {
   "cell_type": "code",
   "execution_count": null,
   "metadata": {},
   "outputs": [],
   "source": [
    "15. Write a Python program to add the values of common keys by combining two dictionaries.\n",
    "    Data:\n",
    "        d1 = {'a': 10, 'b': 20, 'c':30}\n",
    "        d2 = {'a': 30, 'b': 20, 'd':40}\n",
    "    Expected Output:    \n",
    "        Counter({'a': 40, 'b': 40, 'd': 40, 'c': 30})\n",
    "        \n",
    "        \n",
    "        \n",
    "    "
   ]
  },
  {
   "cell_type": "code",
   "execution_count": 42,
   "metadata": {},
   "outputs": [
    {
     "name": "stdout",
     "output_type": "stream",
     "text": [
      "Counter({'b': 40, 'd': 40, 'a': 40, 'c': 30})\n"
     ]
    }
   ],
   "source": [
    "d1={'a': 10, 'b': 20, 'c':30}\n",
    "d2={'a': 30, 'b': 20, 'd':40}\n",
    "result={}\n",
    "all_keys = set(d1.keys()).union(d2.keys())\n",
    "for key in all_keys:\n",
    "    result[key]=d1.get(key, 0) + d2.get(key, 0)\n",
    "print(f\"Counter({result})\")                                 \n"
   ]
  },
  {
   "cell_type": "code",
   "execution_count": null,
   "metadata": {},
   "outputs": [],
   "source": [
    "16. Write a Python program to create and display all combinations of letters, selecting each letter from a different key in a dictionary.\n",
    "    Data:\n",
    "        {'1':['a','b'], '2':['c','d']}\n",
    "    Expected Output: \n",
    "        ac\n",
    "        ad\n",
    "        bc\n",
    "        bd\n",
    "        \n",
    "        \n",
    "        \n",
    "        "
   ]
  },
  {
   "cell_type": "code",
   "execution_count": 43,
   "metadata": {},
   "outputs": [
    {
     "name": "stdout",
     "output_type": "stream",
     "text": [
      "ac\n",
      "ad\n",
      "bc\n",
      "bd\n"
     ]
    }
   ],
   "source": [
    "d={'1':['a','b'], '2':['c','d']}\n",
    "values=list(d.values())\n",
    "for first in values[0]:\n",
    "    for second in values[1]:\n",
    "        print(first+second)"
   ]
  },
  {
   "cell_type": "code",
   "execution_count": null,
   "metadata": {},
   "outputs": [],
   "source": [
    "17. Write a Python program to find the highest 3 values and print the corresponding keys from a dictionary.\n",
    "    Data:\n",
    "        d = {'a':500, 'b':5874, 'c': 560,'d':400, 'e':5874, 'f': 20} \n",
    "    Expected Output: \n",
    "        ['b', 'e', 'c']\n",
    "        \n",
    "        \n",
    "        \n"
   ]
  },
  {
   "cell_type": "code",
   "execution_count": 44,
   "metadata": {},
   "outputs": [
    {
     "name": "stdout",
     "output_type": "stream",
     "text": [
      "['b', 'e', 'c']\n"
     ]
    }
   ],
   "source": [
    "d = {'a':500, 'b':5874, 'c': 560,'d':400, 'e':5874, 'f': 20} \n",
    "sorted_items=sorted(d.items(),key=lambda item: item[1],reverse=True)\n",
    "top_keys=[item[0] for item in sorted_items[:3]]\n",
    "print(top_keys)"
   ]
  },
  {
   "cell_type": "code",
   "execution_count": null,
   "metadata": {},
   "outputs": [],
   "source": [
    "18. Write a Python program to print the dictionary in a table format.\n",
    "    Data:\n",
    "        d = {'C1':[1,2,3], 'C2':[5,6,7], 'C3':[9,10,11]}\n",
    "    Expected Output:\n",
    "        C1 C2 C3\n",
    "        1  5  9\n",
    "        2  6  10\n",
    "        3  7  11\n",
    "        \n",
    "        \n",
    "        \n",
    "        "
   ]
  },
  {
   "cell_type": "code",
   "execution_count": 45,
   "metadata": {},
   "outputs": [
    {
     "name": "stdout",
     "output_type": "stream",
     "text": [
      "C1 C2 C3 \n",
      "1  5  9  \n",
      "2  6  10  \n",
      "3  7  11  \n"
     ]
    }
   ],
   "source": [
    "d = {'C1':[1,2,3], 'C2':[5,6,7], 'C3':[9,10,11]}\n",
    "for key in d.keys():\n",
    "    print(key, end=' ')\n",
    "print()\n",
    "num_rows=len(next(iter(d.values())))\n",
    "for i in range(num_rows):\n",
    "    for key in d.keys():\n",
    "        print(d[key][i], end='  ')\n",
    "    print()"
   ]
  },
  {
   "cell_type": "code",
   "execution_count": null,
   "metadata": {},
   "outputs": [],
   "source": [
    "19. Write a Python program to convert a list into a nested dictionary of keys.\n",
    "    Data:\n",
    "        d = [1, 2, 3, 4]\n",
    "    Expected Output:\n",
    "        {1: {2: {3: {4: {}}}}} \n",
    "        \n",
    "        \n",
    "        \n",
    "        "
   ]
  },
  {
   "cell_type": "code",
   "execution_count": 46,
   "metadata": {},
   "outputs": [
    {
     "name": "stdout",
     "output_type": "stream",
     "text": [
      "{1: {2: {3: {4: {}}}}}\n"
     ]
    }
   ],
   "source": [
    "d = [1, 2, 3, 4]\n",
    "result = current = {}\n",
    "for key in d:\n",
    "    current[key] = {}\n",
    "    current = current[key]\n",
    "\n",
    "print(result)"
   ]
  },
  {
   "cell_type": "code",
   "execution_count": null,
   "metadata": {},
   "outputs": [],
   "source": [
    "20. Write a Python program to sort a list of values alphabetically in a dictionary.\n",
    "    Data:\n",
    "        d = {'n1': [2, 3, 1], 'n2': [5, 1, 2], 'n3': [3, 2, 4]}\n",
    "    Expected Output:\n",
    "        {'n1': [1, 2, 3], 'n2': [1, 2, 5], 'n3': [2, 3, 4]}\n",
    "          \n",
    "            \n",
    "            \n",
    "            "
   ]
  },
  {
   "cell_type": "code",
   "execution_count": 47,
   "metadata": {},
   "outputs": [
    {
     "name": "stdout",
     "output_type": "stream",
     "text": [
      "{'n1': [1, 2, 3], 'n2': [1, 2, 5], 'n3': [2, 3, 4]}\n"
     ]
    }
   ],
   "source": [
    "d = {'n1': [2, 3, 1], 'n2': [5, 1, 2], 'n3': [3, 2, 4]}\n",
    "for key in d:\n",
    "    d[key].sort()\n",
    "print(d)"
   ]
  },
  {
   "cell_type": "code",
   "execution_count": null,
   "metadata": {},
   "outputs": [],
   "source": []
  }
 ],
 "metadata": {
  "kernelspec": {
   "display_name": "Python 3 (ipykernel)",
   "language": "python",
   "name": "python3"
  },
  "language_info": {
   "codemirror_mode": {
    "name": "ipython",
    "version": 3
   },
   "file_extension": ".py",
   "mimetype": "text/x-python",
   "name": "python",
   "nbconvert_exporter": "python",
   "pygments_lexer": "ipython3",
   "version": "3.13.5"
  }
 },
 "nbformat": 4,
 "nbformat_minor": 4
}
