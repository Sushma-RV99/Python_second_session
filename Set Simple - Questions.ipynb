{
 "cells": [
  {
   "cell_type": "markdown",
   "metadata": {},
   "source": [
    "# Set Simple Questions"
   ]
  },
  {
   "cell_type": "code",
   "execution_count": null,
   "metadata": {},
   "outputs": [],
   "source": [
    "1. Write a Python program to convert and print the given list into a set.\n",
    "    Data:\n",
    "        x = [1,2,3,4]\n",
    "    Expected Output:\n",
    "        x = {1,2,3,4}\n",
    "        \n",
    "        \n",
    "        "
   ]
  },
  {
   "cell_type": "code",
   "execution_count": 2,
   "metadata": {},
   "outputs": [
    {
     "name": "stdout",
     "output_type": "stream",
     "text": [
      "{1, 2, 3, 4}\n"
     ]
    }
   ],
   "source": [
    "x = [1,2,3,4]\n",
    "print(set(x))"
   ]
  },
  {
   "cell_type": "code",
   "execution_count": null,
   "metadata": {},
   "outputs": [],
   "source": [
    "2.Write a Python program to find the length of a given set.\n",
    "    Data:\n",
    "        x = {4,5,6,7,9,2}\n",
    "    Expected Output:\n",
    "        6\n",
    "        \n"
   ]
  },
  {
   "cell_type": "code",
   "execution_count": 3,
   "metadata": {},
   "outputs": [
    {
     "name": "stdout",
     "output_type": "stream",
     "text": [
      "6\n"
     ]
    }
   ],
   "source": [
    "x = {4,5,6,7,9,2}\n",
    "print(len(x))"
   ]
  },
  {
   "cell_type": "code",
   "execution_count": null,
   "metadata": {},
   "outputs": [],
   "source": [
    "3. Write a Python program to create a shallow copy of sets. \n",
    "    Data:\n",
    "        a = [\"Boss\",\"Siva\"]\n",
    "    Expected Output:\n",
    "        {\"Boss\",\"Siva\"}\n",
    "        \n",
    "        \n",
    "        "
   ]
  },
  {
   "cell_type": "code",
   "execution_count": 4,
   "metadata": {},
   "outputs": [
    {
     "name": "stdout",
     "output_type": "stream",
     "text": [
      "{'Boss', 'Siva'}\n"
     ]
    }
   ],
   "source": [
    "a = [\"Boss\",\"Siva\"]\n",
    "a.copy()\n",
    "print(set(a))"
   ]
  },
  {
   "cell_type": "code",
   "execution_count": null,
   "metadata": {},
   "outputs": [],
   "source": [
    "4. Write a Python program to remove an element from the given set using discard().\n",
    "    Data:\n",
    "        x= {0,1,2,3,4,5}\n",
    "    Expected Output:\n",
    "        {0, 1, 2, 4, 5}\n",
    "        \n",
    "        \n"
   ]
  },
  {
   "cell_type": "code",
   "execution_count": 5,
   "metadata": {},
   "outputs": [
    {
     "name": "stdout",
     "output_type": "stream",
     "text": [
      "{0, 1, 2, 4, 5}\n"
     ]
    }
   ],
   "source": [
    "x= {0,1,2,3,4,5}\n",
    "x.discard(3)\n",
    "print(x)"
   ]
  },
  {
   "cell_type": "code",
   "execution_count": null,
   "metadata": {},
   "outputs": [],
   "source": [
    "5. Write a Python program to add elements to a given set.\n",
    "    Data:\n",
    "        {\"Boss\"}\n",
    "    Expected Output:\n",
    "        {\"Boss\", \"Siva\", \"Suresh\"}\n",
    "        \n"
   ]
  },
  {
   "cell_type": "code",
   "execution_count": 6,
   "metadata": {},
   "outputs": [
    {
     "name": "stdout",
     "output_type": "stream",
     "text": [
      "{'Boss', 'Suresh', 'Siva'}\n"
     ]
    }
   ],
   "source": [
    "data= {\"Boss\"}\n",
    "new_data= {\"Siva\", \"Suresh\"}\n",
    "data.update(new_data)\n",
    "print(data)"
   ]
  },
  {
   "cell_type": "code",
   "execution_count": null,
   "metadata": {},
   "outputs": [],
   "source": [
    "6. Write a Python program to remove an element from the given set using pop().\n",
    "    Data:\n",
    "        x = {1,2,3,4,5,6}\n",
    "    Expected Output:\n",
    "        {1, 2, 3, 4}\n",
    "        \n",
    "        "
   ]
  },
  {
   "cell_type": "code",
   "execution_count": 7,
   "metadata": {},
   "outputs": [
    {
     "name": "stdout",
     "output_type": "stream",
     "text": [
      "{2, 3, 4, 5, 6}\n"
     ]
    }
   ],
   "source": [
    "x = {1,2,3,4,5,6}\n",
    "x.pop()\n",
    "print(x)"
   ]
  },
  {
   "cell_type": "code",
   "execution_count": null,
   "metadata": {},
   "outputs": [],
   "source": [
    "7. Write a Python program to print each elements of a given set using for loop.\n",
    "    Data:\n",
    "        x = {1, 2, 3, 4, 5}\n",
    "    Expected Output:\n",
    "        1\n",
    "        2\n",
    "        3\n",
    "        4\n",
    "        5\n",
    "        \n",
    "        "
   ]
  },
  {
   "cell_type": "code",
   "execution_count": 8,
   "metadata": {},
   "outputs": [
    {
     "name": "stdout",
     "output_type": "stream",
     "text": [
      "1\n",
      "2\n",
      "3\n",
      "4\n",
      "5\n"
     ]
    }
   ],
   "source": [
    "x = {1, 2, 3, 4, 5}\n",
    "for i in x:\n",
    "    print(i)"
   ]
  },
  {
   "cell_type": "code",
   "execution_count": null,
   "metadata": {},
   "outputs": [],
   "source": [
    "8. Write a Python program to print the intersection of two given sets. \n",
    "   Data:\n",
    "        x = {\"boss\", \"karthi\"}\n",
    "        y = {\"karthi\", \"siva\"}\n",
    "    Expected Output:\n",
    "        {'karthi'}\n",
    "        \n",
    "        \n",
    "        \n",
    "        "
   ]
  },
  {
   "cell_type": "code",
   "execution_count": 10,
   "metadata": {},
   "outputs": [
    {
     "name": "stdout",
     "output_type": "stream",
     "text": [
      "{'karthi'}\n"
     ]
    }
   ],
   "source": [
    "x = {\"boss\", \"karthi\"}\n",
    "y = {\"karthi\", \"siva\"}\n",
    "print(x.intersection(y))"
   ]
  },
  {
   "cell_type": "code",
   "execution_count": null,
   "metadata": {},
   "outputs": [],
   "source": [
    "9. Write a Python program to print the union of two given sets. \n",
    "    Data:\n",
    "        x = {\"boss\", \"karthi\"}\n",
    "        y = {\"karthi\", \"siva\"}\n",
    "    Expected Output:\n",
    "        {'boss', 'siva', 'karthi'}\n",
    "        \n",
    "        \n",
    "        \n",
    "        "
   ]
  },
  {
   "cell_type": "code",
   "execution_count": 11,
   "metadata": {},
   "outputs": [
    {
     "name": "stdout",
     "output_type": "stream",
     "text": [
      "{'siva', 'boss', 'karthi'}\n"
     ]
    }
   ],
   "source": [
    "x = {\"boss\", \"karthi\"}\n",
    "y = {\"karthi\", \"siva\"}\n",
    "print(x.union(y))"
   ]
  },
  {
   "cell_type": "code",
   "execution_count": null,
   "metadata": {},
   "outputs": [],
   "source": [
    "10. Write a Python program to print the symmetric difference between two given sets. \n",
    "    Data:\n",
    "        x = {\"boss\",\"karthi\"}\n",
    "        y = {\"karthi\",\"siva\"}\n",
    "    Expected Output:\n",
    "        {'boss', 'siva'}\n",
    "        \n",
    "        \n",
    "        \n"
   ]
  },
  {
   "cell_type": "code",
   "execution_count": 14,
   "metadata": {},
   "outputs": [
    {
     "name": "stdout",
     "output_type": "stream",
     "text": [
      "{'boss', 'siva'}\n"
     ]
    }
   ],
   "source": [
    "x = {\"boss\",\"karthi\"}\n",
    "y = {\"karthi\",\"siva\"}\n",
    "X1=x.difference(y)\n",
    "Y1=y.difference(x)\n",
    "print(X1.union(Y1))"
   ]
  },
  {
   "cell_type": "code",
   "execution_count": null,
   "metadata": {},
   "outputs": [],
   "source": [
    "11. Write a Python program to clear a given set.\n",
    "    Data:\n",
    "        x ={\"Kutta\", \"Puppy\"}\n",
    "    Expected Output:\n",
    "        The set x has elements : {'Puppy', 'Kutta'}\n",
    "        After clearing the set x : set()\n",
    "        \n",
    "        "
   ]
  },
  {
   "cell_type": "code",
   "execution_count": 15,
   "metadata": {},
   "outputs": [
    {
     "name": "stdout",
     "output_type": "stream",
     "text": [
      "The set x has elements :  {'Puppy', 'Kutta'}\n",
      "After clearing the set x : set()\n"
     ]
    }
   ],
   "source": [
    "x ={\"Kutta\", \"Puppy\"}\n",
    "print(\"The set x has elements : \",x)\n",
    "x.clear()\n",
    "print(\"After clearing the set x :\",x)"
   ]
  },
  {
   "cell_type": "code",
   "execution_count": null,
   "metadata": {},
   "outputs": [],
   "source": [
    "12. Write a Python program to print the maximum value from a given set. \n",
    "    Data:\n",
    "        x = {23, 45, 12, 56, 87}\n",
    "    Expected Output:\n",
    "        87\n",
    "        \n",
    "        "
   ]
  },
  {
   "cell_type": "code",
   "execution_count": 16,
   "metadata": {},
   "outputs": [
    {
     "name": "stdout",
     "output_type": "stream",
     "text": [
      "87\n"
     ]
    }
   ],
   "source": [
    "x = {23, 45, 12, 56, 87}\n",
    "print(max(x))"
   ]
  },
  {
   "cell_type": "code",
   "execution_count": null,
   "metadata": {},
   "outputs": [],
   "source": [
    "13. Write a Python program to print the minimum value from a given set. \n",
    "    Data:\n",
    "        x = {23, 56, 2, 3, 78, 6}\n",
    "    Expected Output:\n",
    "        2\n",
    "        \n",
    "        "
   ]
  },
  {
   "cell_type": "code",
   "execution_count": 17,
   "metadata": {},
   "outputs": [
    {
     "name": "stdout",
     "output_type": "stream",
     "text": [
      "2\n"
     ]
    }
   ],
   "source": [
    "x = {23, 56, 2, 3, 78, 6}\n",
    "print(min(x))"
   ]
  },
  {
   "cell_type": "code",
   "execution_count": null,
   "metadata": {},
   "outputs": [],
   "source": [
    "14. Write a Python program to remove the intersection of a 2nd set from the 1st set using difference_update().\n",
    "    Data:\n",
    "        x = {1, 2, 3, 4, 5}\n",
    "        y = {4, 5, 6, 7, 8}\n",
    "    Expected Output:\n",
    "        {1, 2, 3}\n",
    "        \n",
    "        "
   ]
  },
  {
   "cell_type": "code",
   "execution_count": 18,
   "metadata": {},
   "outputs": [
    {
     "data": {
      "text/plain": [
       "{1, 2, 3}"
      ]
     },
     "execution_count": 18,
     "metadata": {},
     "output_type": "execute_result"
    }
   ],
   "source": [
    "x = {1, 2, 3, 4, 5}\n",
    "y = {4, 5, 6, 7, 8}\n",
    "x.difference_update(y)\n",
    "x"
   ]
  },
  {
   "cell_type": "code",
   "execution_count": null,
   "metadata": {},
   "outputs": [],
   "source": [
    "15. Write a Python program to update the 1st set with the intersection elements from another set using intersection_update().\n",
    "    Data:\n",
    "        x = {\"apple\", \"banana\", \"cherry\"}\n",
    "        y = {\"google\", \"microsoft\", \"apple\"}\n",
    "    Expected Output:\n",
    "        {\"apple\"}\n",
    "        \n",
    "        "
   ]
  },
  {
   "cell_type": "code",
   "execution_count": 19,
   "metadata": {},
   "outputs": [
    {
     "data": {
      "text/plain": [
       "{'apple'}"
      ]
     },
     "execution_count": 19,
     "metadata": {},
     "output_type": "execute_result"
    }
   ],
   "source": [
    "x = {\"apple\", \"banana\", \"cherry\"}\n",
    "y= {\"google\", \"microsoft\", \"apple\"}\n",
    "x.intersection_update(y)\n",
    "x"
   ]
  },
  {
   "cell_type": "code",
   "execution_count": null,
   "metadata": {},
   "outputs": [],
   "source": [
    "16. Write a Python program to zip two sets into a list.\n",
    "    Data:\n",
    "        {1, 2, 3},{\"a\", \"b\", \"c\"}\n",
    "    Expected Output:\n",
    "        [(1, 'c'),(2, 'b'),(3, 'a')]        \n",
    "        \n",
    "        "
   ]
  },
  {
   "cell_type": "code",
   "execution_count": 28,
   "metadata": {},
   "outputs": [
    {
     "name": "stdout",
     "output_type": "stream",
     "text": [
      "[(1, 'b'), (2, 'a'), (3, 'c')]\n"
     ]
    }
   ],
   "source": [
    "data={1, 2, 3}\n",
    "data1={\"a\", \"b\", \"c\"}\n",
    "data_new=list(data)\n",
    "data1_new=list(data1)\n",
    "print(list(zip(data_new,data1_new)))"
   ]
  },
  {
   "cell_type": "code",
   "execution_count": null,
   "metadata": {},
   "outputs": [],
   "source": [
    "17. Write a Python program to convert a list into a set.\n",
    "    Data:\n",
    "        x = [5,3,4,1,2]\n",
    "    Expected Output:\n",
    "        {1,2,3,4,5}\n",
    "        \n",
    "        "
   ]
  },
  {
   "cell_type": "code",
   "execution_count": 29,
   "metadata": {},
   "outputs": [
    {
     "data": {
      "text/plain": [
       "{1, 2, 3, 4, 5}"
      ]
     },
     "execution_count": 29,
     "metadata": {},
     "output_type": "execute_result"
    }
   ],
   "source": [
    "x = [5,3,4,1,2]\n",
    "y=set(x)\n",
    "y"
   ]
  },
  {
   "cell_type": "code",
   "execution_count": null,
   "metadata": {},
   "outputs": [],
   "source": [
    "18. Write a python program to check if a set is a subset of another set using comparison operator. Return True if yes, False if not.\n",
    "    Data:\n",
    "        x = {\"1\", \"2\"}\n",
    "        y = {\"1\", \"2\", \"3\"}\n",
    "    Expected Output:\n",
    "        True\n",
    "        False     \n",
    "        \n",
    "        "
   ]
  },
  {
   "cell_type": "code",
   "execution_count": 32,
   "metadata": {},
   "outputs": [
    {
     "name": "stdout",
     "output_type": "stream",
     "text": [
      "True\n",
      "False\n",
      "False\n",
      "False\n",
      "False\n",
      "True\n"
     ]
    }
   ],
   "source": [
    "x = {\"1\", \"2\"}\n",
    "y = {\"1\", \"2\", \"3\"}\n",
    "for i in x:\n",
    "    for j in y:\n",
    "        if i==j:\n",
    "            print(\"True\")\n",
    "        else:\n",
    "            print(\"False\")"
   ]
  },
  {
   "cell_type": "code",
   "execution_count": null,
   "metadata": {},
   "outputs": [],
   "source": [
    "19. Write a python program to check if a set is a subset of another set using issubset(). Return True if yes, False if not.\n",
    "    Data:\n",
    "        x = {4, 5}\n",
    "        y = {1, 2, 3, 4, 5}\n",
    "    Expected Output:\n",
    "        True\n",
    "        False\n",
    "        \n",
    "        "
   ]
  },
  {
   "cell_type": "code",
   "execution_count": 36,
   "metadata": {},
   "outputs": [
    {
     "name": "stdout",
     "output_type": "stream",
     "text": [
      "True\n"
     ]
    }
   ],
   "source": [
    "x = {4, 5}\n",
    "y = {1, 2, 3, 4, 5}\n",
    "if x.issubset(y):\n",
    "    print(\"True\")\n",
    "else:\n",
    "    print(\"False\")"
   ]
  },
  {
   "cell_type": "code",
   "execution_count": null,
   "metadata": {},
   "outputs": [],
   "source": [
    "20. Write a Python program to check if two given sets are disjoint.\n",
    "    Data:\n",
    "        a = {1,2,3}\n",
    "        b = {4,5,6}\n",
    "        c = {3}\n",
    "    Expected Output:\n",
    "        True\n",
    "        False\n",
    "        \n",
    "        "
   ]
  },
  {
   "cell_type": "code",
   "execution_count": 38,
   "metadata": {},
   "outputs": [
    {
     "name": "stdout",
     "output_type": "stream",
     "text": [
      "True\n",
      "False\n"
     ]
    }
   ],
   "source": [
    "a = {1,2,3}\n",
    "b = {4,5,6}\n",
    "c = {3}\n",
    "print(a.isdisjoint(b))\n",
    "print(a.isdisjoint(c))"
   ]
  },
  {
   "cell_type": "code",
   "execution_count": null,
   "metadata": {},
   "outputs": [],
   "source": []
  }
 ],
 "metadata": {
  "kernelspec": {
   "display_name": "Python 3 (ipykernel)",
   "language": "python",
   "name": "python3"
  },
  "language_info": {
   "codemirror_mode": {
    "name": "ipython",
    "version": 3
   },
   "file_extension": ".py",
   "mimetype": "text/x-python",
   "name": "python",
   "nbconvert_exporter": "python",
   "pygments_lexer": "ipython3",
   "version": "3.13.5"
  }
 },
 "nbformat": 4,
 "nbformat_minor": 4
}
