{
 "cells": [
  {
   "cell_type": "markdown",
   "metadata": {},
   "source": [
    "# List Intermediate - Questions"
   ]
  },
  {
   "cell_type": "code",
   "execution_count": null,
   "metadata": {},
   "outputs": [],
   "source": [
    "''' 1. Write a Python program to count the number of strings where the string length is 2 or more and\n",
    "            the first and last characters of a string are same from the given data.\n",
    "        Data:\n",
    "            ['abc', 'xyz', 'aba', '1221']\n",
    "        Expected Output:\n",
    "            2 '''\n",
    "       \n",
    "        "
   ]
  },
  {
   "cell_type": "code",
   "execution_count": 5,
   "metadata": {},
   "outputs": [
    {
     "name": "stdout",
     "output_type": "stream",
     "text": [
      "2\n"
     ]
    }
   ],
   "source": [
    "lt=['abc', 'xyz', 'aba', '1221']\n",
    "count=0\n",
    "for i in lt:\n",
    "    lt_length=len(i)\n",
    "    fst_char=i[-1]\n",
    "    lst_char=i[0]\n",
    "    if lt_length>=2 and fst_char==lst_char:\n",
    "        count=count+1\n",
    "print(count)"
   ]
  },
  {
   "cell_type": "code",
   "execution_count": 1,
   "metadata": {},
   "outputs": [],
   "source": [
    "''' 2. Write a Python function to find the list of words which are longer than the specified length from the given data.\n",
    "        Data:\n",
    "            (3, \"The quick brown fox jumps over the lazy dog\")\n",
    "        Expected Output:\n",
    "            ['quick', 'brown', 'jumps', 'over', 'lazy'] '''\n",
    "        \n",
    "        "
   ]
  },
  {
   "cell_type": "code",
   "execution_count": 28,
   "metadata": {},
   "outputs": [
    {
     "name": "stdout",
     "output_type": "stream",
     "text": [
      "['quick', 'brown', 'jumps', 'over', 'lazy']\n"
     ]
    }
   ],
   "source": [
    "a=(3, \"The quick brown fox jumps over the lazy dog\")\n",
    "b=a[1].split()\n",
    "c=a[0]\n",
    "new_lt=[]\n",
    "for i in b:\n",
    "    if len(i)>c:\n",
    "        new_lt.append(i)\n",
    "print(new_lt)\n",
    "        \n",
    "    \n",
    "    "
   ]
  },
  {
   "cell_type": "code",
   "execution_count": 25,
   "metadata": {},
   "outputs": [
    {
     "data": {
      "text/plain": [
       "' 3. Write a Python function that takes two parameters as lists and returns True if they have at least one common element.\\n        Data:\\n            (a, b) = ([1,2,2,4,5], [5,6,6,8,9])\\n            (a, b) = ([1,2,3,5,5], [6,7,9,9])\\n        Expected Output:\\n            True \\n            None '"
      ]
     },
     "execution_count": 25,
     "metadata": {},
     "output_type": "execute_result"
    }
   ],
   "source": [
    "''' 3. Write a Python function that takes two parameters as lists and returns True if they have at least one common element.\n",
    "        Data:\n",
    "            (a, b) = ([1,2,2,4,5], [5,6,6,8,9])\n",
    "            (a, b) = ([1,2,3,5,5], [6,7,9,9])\n",
    "        Expected Output:\n",
    "            True \n",
    "            None '''\n",
    "       \n",
    "                "
   ]
  },
  {
   "cell_type": "code",
   "execution_count": 45,
   "metadata": {},
   "outputs": [
    {
     "name": "stdout",
     "output_type": "stream",
     "text": [
      "True\n",
      "None\n"
     ]
    }
   ],
   "source": [
    "\n",
    "(a, b) = ([1,2,2,4,5], [5,6,6,8,9])\n",
    "for i in a:\n",
    "    for j in b:\n",
    "        if i==j:\n",
    "            print(\"True\")\n",
    "\n",
    "(a, b) = ([1,2,3,5,5], [6,7,9,9])\n",
    "for i in a:\n",
    "    for j in b:\n",
    "        if i==j:\n",
    "            print(\"True\")\n",
    "print(\"None\")\n",
    " \n",
    "           \n"
   ]
  },
  {
   "cell_type": "code",
   "execution_count": 43,
   "metadata": {},
   "outputs": [],
   "source": [
    "# 4. Write a Python program to generate a 3*4*6 3D array whose each element is '*'. \n",
    "\n"
   ]
  },
  {
   "cell_type": "code",
   "execution_count": 9,
   "metadata": {},
   "outputs": [
    {
     "name": "stdout",
     "output_type": "stream",
     "text": [
      "['*', '*', '*', '*', '*', '*']\n",
      "['*', '*', '*', '*', '*', '*']\n",
      "['*', '*', '*', '*', '*', '*']\n",
      "['*', '*', '*', '*', '*', '*']\n",
      "\n",
      "['*', '*', '*', '*', '*', '*']\n",
      "['*', '*', '*', '*', '*', '*']\n",
      "['*', '*', '*', '*', '*', '*']\n",
      "['*', '*', '*', '*', '*', '*']\n",
      "\n",
      "['*', '*', '*', '*', '*', '*']\n",
      "['*', '*', '*', '*', '*', '*']\n",
      "['*', '*', '*', '*', '*', '*']\n",
      "['*', '*', '*', '*', '*', '*']\n",
      "\n"
     ]
    }
   ],
   "source": [
    "a=[[['*' for i in range(6)] for j in range(4)] for k in range(3)]\n",
    "for l in a:\n",
    "    for row in l:\n",
    "        print(row)\n",
    "    print()\n"
   ]
  },
  {
   "cell_type": "code",
   "execution_count": 7,
   "metadata": {},
   "outputs": [
    {
     "data": {
      "text/plain": [
       "' 5. Write a Python program to generate and print a list of first and last 5 elements where the values are square of numbers \\n       between 1 and 30 (both included).\\n    Data:\\n        range(1, 31) \\n    Expected Output:\\n        Squares of first 5 numbers between 1 to 30: [1, 4, 9, 16, 25]\\n        Squares of last 5 numbers between 1 to 30: [676, 729, 784, 841, 900] '"
      ]
     },
     "execution_count": 7,
     "metadata": {},
     "output_type": "execute_result"
    }
   ],
   "source": [
    "''' 5. Write a Python program to generate and print a list of first and last 5 elements where the values are square of numbers \n",
    "       between 1 and 30 (both included).\n",
    "    Data:\n",
    "        range(1, 31) \n",
    "    Expected Output:\n",
    "        Squares of first 5 numbers between 1 to 30: [1, 4, 9, 16, 25]\n",
    "        Squares of last 5 numbers between 1 to 30: [676, 729, 784, 841, 900] '''\n",
    "        \n",
    "        \n",
    "        "
   ]
  },
  {
   "cell_type": "code",
   "execution_count": 10,
   "metadata": {},
   "outputs": [
    {
     "name": "stdout",
     "output_type": "stream",
     "text": [
      "Squares of first 5 numbers between 1 to 30: [1, 4, 9, 16, 25]\n",
      "Squares of last 5 numbers between 1 to 30: [676, 729, 784, 841, 900]\n"
     ]
    }
   ],
   "source": [
    "squares=[x**2 for x in range(1,31)]\n",
    "a=squares[:5]\n",
    "b=squares[-5:]\n",
    "print(\"Squares of first 5 numbers between 1 to 30:\",a)\n",
    "print(\"Squares of last 5 numbers between 1 to 30:\",b)"
   ]
  },
  {
   "cell_type": "code",
   "execution_count": 8,
   "metadata": {},
   "outputs": [
    {
     "name": "stdout",
     "output_type": "stream",
     "text": [
      "[1, 4, 9, 16, 25]\n",
      "[676, 729, 784, 841, 900]\n"
     ]
    }
   ],
   "source": [
    "a=[]\n",
    "for i in range(1,32):\n",
    "    a.append(i**2)\n",
    "print(a[0:5])\n",
    "print(a[-6:-1])"
   ]
  },
  {
   "cell_type": "code",
   "execution_count": 4,
   "metadata": {},
   "outputs": [],
   "source": [
    "''' 6. Write a Python program to find the second smallest number in a list.\n",
    "        Data:\n",
    "            lt = [1, 2, -8, -2, 0, -2]\n",
    "        Expected output:\n",
    "            -2 '''\n"
   ]
  },
  {
   "cell_type": "code",
   "execution_count": 57,
   "metadata": {},
   "outputs": [
    {
     "name": "stdout",
     "output_type": "stream",
     "text": [
      "-2\n"
     ]
    }
   ],
   "source": [
    "lt = [1, 2, -8, -2, 0, -2]\n",
    "lt.sort()\n",
    "print(lt[1])"
   ]
  },
  {
   "cell_type": "code",
   "execution_count": 5,
   "metadata": {},
   "outputs": [],
   "source": [
    "''' 7. Write a Python program to find the second largest number in a list.\n",
    "        Data:\n",
    "            lt = [1, 2, 3, 5, 4]\n",
    "        Expected output:\n",
    "            4 '''\n",
    "\n"
   ]
  },
  {
   "cell_type": "code",
   "execution_count": 61,
   "metadata": {},
   "outputs": [
    {
     "name": "stdout",
     "output_type": "stream",
     "text": [
      "4\n"
     ]
    }
   ],
   "source": [
    "lt = [1, 2, 3, 5, 4]\n",
    "lt.sort()\n",
    "print(lt[-2])"
   ]
  },
  {
   "cell_type": "code",
   "execution_count": 6,
   "metadata": {},
   "outputs": [],
   "source": [
    "''' 8. Write a Python program to get the frequency of the elements in a list and \n",
    "            print the occurances as a list of dictionary as shown in the expected output.\n",
    "        Data:\n",
    "            Original List :  [10, 10, 10, 10, 20, 20, 20, 30, 40, 40, 50, 50, 30]\n",
    "        Expected Output:\n",
    "            Frequency of the elements in the List :  Counter({10: 4, 20: 3, 30: 2, 40: 2, 50: 2})\n",
    "            \n",
    "            "
   ]
  },
  {
   "cell_type": "code",
   "execution_count": 79,
   "metadata": {},
   "outputs": [
    {
     "name": "stdout",
     "output_type": "stream",
     "text": [
      "Frequency of the elements in the List :  Counter {10: 4, 20: 3, 30: 2, 40: 2, 50: 2}\n"
     ]
    }
   ],
   "source": [
    "lt= [10, 10, 10, 10, 20, 20, 20, 30, 40, 40, 50, 50, 30]\n",
    "counter_dict={}\n",
    "for i in lt:\n",
    "    if i in counter_dict:\n",
    "        counter_dict[i] += 1\n",
    "    else:\n",
    "        counter_dict[i] = 1\n",
    "print(\"Frequency of the elements in the List :  Counter\",counter_dict)"
   ]
  },
  {
   "cell_type": "code",
   "execution_count": 7,
   "metadata": {},
   "outputs": [],
   "source": [
    "''' 9. Write a Python program to check whether a list contains a sublist or not. Return True if present, false if not.\n",
    "        Data:\n",
    "            a = [2,4,3,5,7]\n",
    "            sublist1 = [4,3]\n",
    "            sublist2 = [3,7]\n",
    "        Expected Output:\n",
    "            True\n",
    "            False '''\n",
    "        \n",
    "        "
   ]
  },
  {
   "cell_type": "code",
   "execution_count": 86,
   "metadata": {},
   "outputs": [
    {
     "name": "stdout",
     "output_type": "stream",
     "text": [
      "True\n"
     ]
    },
    {
     "data": {
      "text/plain": [
       "True"
      ]
     },
     "execution_count": 86,
     "metadata": {},
     "output_type": "execute_result"
    }
   ],
   "source": [
    "a = [2,4,3,5,7]\n",
    "sublist1 = [4,3]\n",
    "sublist2 = [3,7]\n",
    "a_set=set(a)\n",
    "sublist1_set=set(sublist1)\n",
    "sublist2_set=set(sublist2)\n",
    "sub_Set=sublist1_set.issubset(a_set)\n",
    "print(sub_Set)\n",
    "sublist2_set.issubset(a_set)"
   ]
  },
  {
   "cell_type": "code",
   "execution_count": null,
   "metadata": {},
   "outputs": [],
   "source": [
    "''' 10. Write a Python program to generate all sublists of a list.\n",
    "        Data:\n",
    "            l1 = [10, 20, 30, 40]\n",
    "            l2 = ['X', 'Y', 'Z']\n",
    "        Expected Output:\n",
    "            [[], [1], [2], [1, 2], [3], [1, 3], [2, 3], [1, 2, 3]]\n",
    "            [[], ['X'], ['Y'], ['X', 'Y'], ['Z'], ['X', 'Z'], ['Y', 'Z'], ['X', 'Y', 'Z']] '''\n",
    "        \n"
   ]
  },
  {
   "cell_type": "code",
   "execution_count": 12,
   "metadata": {},
   "outputs": [
    {
     "name": "stdout",
     "output_type": "stream",
     "text": [
      "[[], [1], [2], [3], [1, 2], [1, 3], [2, 3], [1, 2, 3]]\n",
      "[[], ['X'], ['Y'], ['Z'], ['X', 'Y'], ['X', 'Z'], ['Y', 'Z'], ['X', 'Y', 'Z']]\n"
     ]
    }
   ],
   "source": [
    "import itertools\n",
    "def sublists(l):\n",
    "    sublists1=[]\n",
    "    for i in range(len(l)+1):\n",
    "        for j in itertools.combinations(l,i):\n",
    "            sublists1.append(list(j))\n",
    "    return sublists1\n",
    "l1=[1, 2, 3]\n",
    "l2=['X', 'Y', 'Z']\n",
    "print(sublists(l1))\n",
    "print(sublists(l2))"
   ]
  },
  {
   "cell_type": "code",
   "execution_count": 9,
   "metadata": {},
   "outputs": [],
   "source": [
    "''' 11. Write a Python program to print all the prime numbers upto a specified number using Sieve of Eratosthenes method.\n",
    "        Data:\n",
    "            nums(10)\n",
    "        Expected Output:\n",
    "            2\n",
    "            3\n",
    "            5\n",
    "            7\n",
    "            None '''\n",
    "\n",
    "     "
   ]
  },
  {
   "cell_type": "code",
   "execution_count": 13,
   "metadata": {},
   "outputs": [
    {
     "name": "stdout",
     "output_type": "stream",
     "text": [
      "2\n",
      "3\n",
      "5\n",
      "7\n",
      "None\n"
     ]
    }
   ],
   "source": [
    "def sieve_of_eratosthenes(n):\n",
    "    if n < 2:\n",
    "        return\n",
    "    is_prime = [True] * (n + 1)\n",
    "    is_prime[0] = is_prime[1] = False\n",
    "\n",
    "    for i in range(2, int(n**0.5) + 1):\n",
    "        if is_prime[i]:\n",
    "            for j in range(i*i, n+1, i):\n",
    "                is_prime[j] = False\n",
    "\n",
    "    for i in range(2, n+1):\n",
    "        if is_prime[i]:\n",
    "            print(i)\n",
    "    print(None)\n",
    "nums = 10\n",
    "sieve_of_eratosthenes(nums)"
   ]
  },
  {
   "cell_type": "code",
   "execution_count": 11,
   "metadata": {},
   "outputs": [],
   "source": [
    "''' 12. Write a Python program to create a list by concatenating a given list which ranges from 1 to n.\n",
    "        Data:\n",
    "            list:['l', 'm']\n",
    "            n = 4\n",
    "        Expected Output:\n",
    "            ['l1', 'm1', 'l2', 'm2', 'l3', 'm3', 'l4', 'm4'] '''\n",
    "\n",
    "        "
   ]
  },
  {
   "cell_type": "code",
   "execution_count": 14,
   "metadata": {},
   "outputs": [
    {
     "name": "stdout",
     "output_type": "stream",
     "text": [
      "['l1', 'm1', 'l2', 'm2', 'l3', 'm3', 'l4', 'm4']\n"
     ]
    }
   ],
   "source": [
    "l=['l','m']\n",
    "n=4\n",
    "result=[s+str(i) for i in range(1, n+1) for s in l]\n",
    "print(result)"
   ]
  },
  {
   "cell_type": "code",
   "execution_count": 12,
   "metadata": {},
   "outputs": [],
   "source": [
    "''' 13. Write a Python program to change the position of every n-th value with the (n+1)th in a list.\n",
    "        Data:\n",
    "            list:[0, 1, 2, 3, 4, 5, 6, 7]\n",
    "        Expected Output:\n",
    "            [1, 0, 3, 2, 5, 4, 7, 6] '''\n",
    "        \n",
    "        \n",
    "        \n",
    "        "
   ]
  },
  {
   "cell_type": "code",
   "execution_count": 15,
   "metadata": {},
   "outputs": [
    {
     "name": "stdout",
     "output_type": "stream",
     "text": [
      "[1, 0, 3, 2, 5, 4, 7, 6]\n"
     ]
    }
   ],
   "source": [
    "l=[0, 1, 2, 3, 4, 5, 6, 7]\n",
    "for i in range(0,len(l)-1,2):\n",
    "    l[i],l[i+1]=l[i+1],l[i]\n",
    "print(l)"
   ]
  },
  {
   "cell_type": "code",
   "execution_count": 13,
   "metadata": {},
   "outputs": [],
   "source": [
    "''' 14. Write a Python program to convert a pair of values into a sorted unique array.\n",
    "        Data:\n",
    "            List:  [(1, 2), (3, 4), (5, 6), (7, 8), (1, 2), (3, 4), (7, 8), (7, 8), (9, 10)]   \n",
    "        Expected Output:\n",
    "            Sorted Unique Data: [1, 2, 3, 4, 5, 6, 7, 8, 9, 10] '''\n",
    "                      \n",
    "            "
   ]
  },
  {
   "cell_type": "code",
   "execution_count": 17,
   "metadata": {},
   "outputs": [
    {
     "name": "stdout",
     "output_type": "stream",
     "text": [
      "Sorted Unique Data: [1, 2, 3, 4, 5, 6, 7, 8, 9, 10]\n"
     ]
    }
   ],
   "source": [
    "data=[(1, 2),(3, 4),(5, 6),(7, 8),(1, 2),(3, 4),(7, 8),(7, 8),(9, 10)]\n",
    "l=[item for pair in data for item in pair]\n",
    "unique=sorted(set(l))\n",
    "print(\"Sorted Unique Data:\",unique)"
   ]
  },
  {
   "cell_type": "code",
   "execution_count": 14,
   "metadata": {},
   "outputs": [],
   "source": [
    "''' 15. Write a Python program to sort a list of nested dictionaries.\n",
    "        Data:\n",
    "            Original List: \n",
    "                x = [{'Book': {'Novel': 'Hamlet'}}, {'Book': {'Novel': 'Sherlock Homes'}}, {'Book': {'Novel': 'Alchemist'}}]\n",
    "        Expected Output:\n",
    "            Sorted List: \n",
    "                [{'Book': {'Novel': 'Alchemist'}}, {'Book': {'Novel': 'Hamlet'}}, {'Book': {'Novel': 'Sherlock Homes'}}] '''\n",
    "        \n",
    "        "
   ]
  },
  {
   "cell_type": "code",
   "execution_count": 18,
   "metadata": {},
   "outputs": [
    {
     "name": "stdout",
     "output_type": "stream",
     "text": [
      "Sorted List: [{'Book': {'Novel': 'Alchemist'}}, {'Book': {'Novel': 'Hamlet'}}, {'Book': {'Novel': 'Sherlock Homes'}}]\n"
     ]
    }
   ],
   "source": [
    "x = [{'Book': {'Novel': 'Hamlet'}},{'Book': {'Novel': 'Sherlock Homes'}},{'Book': {'Novel': 'Alchemist'}}]\n",
    "y=sorted(x,key=lambda item:item['Book']['Novel'])\n",
    "print(\"Sorted List:\",y)"
   ]
  },
  {
   "cell_type": "code",
   "execution_count": 15,
   "metadata": {},
   "outputs": [],
   "source": [
    "''' 16. Write a Python program to remove duplicates from a list of lists.\n",
    "        Data:\n",
    "            Original List [[10, 30], [40], [30, 56, 23], [10, 20], [33], [40]]\n",
    "        Expected Output:\n",
    "            Unique List [[10, 20], [10, 30], [30, 56, 23], [33], [40]] '''\n",
    "\n",
    "        "
   ]
  },
  {
   "cell_type": "code",
   "execution_count": 19,
   "metadata": {},
   "outputs": [
    {
     "name": "stdout",
     "output_type": "stream",
     "text": [
      "Unique List [[10, 20], [10, 30], [30, 56, 23], [33], [40]]\n"
     ]
    }
   ],
   "source": [
    "original_list=[[10, 30], [40], [30, 56, 23], [10, 20], [33], [40]]\n",
    "tup=set(tuple(sublist) for sublist in original_list)\n",
    "unique_list=[list(t) for t in tup]\n",
    "unique_list.sort()\n",
    "print(\"Unique List\", unique_list)"
   ]
  },
  {
   "cell_type": "code",
   "execution_count": 16,
   "metadata": {},
   "outputs": [],
   "source": [
    "''' 17. Write a Python program to check whether all dictionaries in a list are empty or not.\n",
    "        Data:\n",
    "            x = [{},{},{}]\n",
    "            y = [{1,2},{},{}]\n",
    "        Expected Output:\n",
    "            True\n",
    "            False '''        \n",
    "        \n",
    "        "
   ]
  },
  {
   "cell_type": "code",
   "execution_count": 20,
   "metadata": {},
   "outputs": [
    {
     "name": "stdout",
     "output_type": "stream",
     "text": [
      "True\n",
      "False\n"
     ]
    }
   ],
   "source": [
    "x=[{},{},{}]\n",
    "y=[{1,2},{},{}]\n",
    "def empty(l):\n",
    "    return all(not d for d in l)\n",
    "print(empty(x))  # Expected: True\n",
    "y1=[{1:2},{},{}]\n",
    "print(empty(y1))"
   ]
  },
  {
   "cell_type": "code",
   "execution_count": 17,
   "metadata": {},
   "outputs": [],
   "source": [
    "''' 18. Write a Python program to convert a nested list into a flat list.\n",
    "        Data:\n",
    "            lt = [0, 20, [30, 30], 40, 50, [60, 40, 80], [90, 100, 10, 119]]\n",
    "        Expected Output:\n",
    "            Flat list:[0, 20, 30, 30, 40, 50, 60, 40, 80, 90, 100, 10, 119] '''\n",
    "            \n",
    "    "
   ]
  },
  {
   "cell_type": "code",
   "execution_count": 21,
   "metadata": {},
   "outputs": [
    {
     "name": "stdout",
     "output_type": "stream",
     "text": [
      "Flat list: [0, 20, 30, 30, 40, 50, 60, 40, 80, 90, 100, 10, 119]\n"
     ]
    }
   ],
   "source": [
    "lt = [0, 20, [30, 30], 40, 50, [60, 40, 80], [90, 100, 10, 119]]\n",
    "l1=[]\n",
    "for item in lt:\n",
    "    if isinstance(item,list):\n",
    "        l1.extend(item)\n",
    "    else:\n",
    "        l1.append(item)\n",
    "print(\"Flat list:\",l1)"
   ]
  },
  {
   "cell_type": "code",
   "execution_count": 18,
   "metadata": {},
   "outputs": [],
   "source": [
    "''' 19. Write a Python program to remove only the consecutive duplicates from given list.\n",
    "        Data:\n",
    "            lt = [0, 1, 1, 2, 3, 5, 4, 5, 6, 6, 7, 7, 8, 4, 4, 4]\n",
    "        Expected Output:\n",
    "            After removing consecutive duplicates:\n",
    "                [0, 1, 2, 3, 5, 4, 5, 6, 7, 8, 4] '''\n",
    "        \n",
    "    "
   ]
  },
  {
   "cell_type": "code",
   "execution_count": 22,
   "metadata": {},
   "outputs": [
    {
     "name": "stdout",
     "output_type": "stream",
     "text": [
      "After removing consecutive duplicates:\n",
      "[0, 1, 2, 3, 5, 4, 5, 6, 7, 8, 4]\n"
     ]
    }
   ],
   "source": [
    "lt = [0, 1, 1, 2, 3, 5, 4, 5, 6, 6, 7, 7, 8, 4, 4, 4]\n",
    "result=[]\n",
    "prev=object() \n",
    "for item in lt:\n",
    "    if item!=prev:\n",
    "        result.append(item)\n",
    "    prev=item\n",
    "print(\"After removing consecutive duplicates:\")\n",
    "print(result)"
   ]
  },
  {
   "cell_type": "code",
   "execution_count": null,
   "metadata": {},
   "outputs": [],
   "source": [
    "''' 20. Write a Python program to pack consecutive duplicates of a given list into sublists.\n",
    "        Data:\n",
    "            Original list:\n",
    "            [1, 0, 1, 2, 3, 4, 4, 5, 5, 6, 6, 7, 8, 9, 4, 4]\n",
    "        Expected Output:\n",
    "            After packing consecutive duplicates of the said list elements into sublists:\n",
    "                [[1], [0], [1], [2], [3], [4, 4], [5, 5], [6, 6], [7], [8], [9], [4, 4]] '''\n",
    "        \n",
    "        \n",
    "        \n",
    "        "
   ]
  },
  {
   "cell_type": "code",
   "execution_count": 23,
   "metadata": {},
   "outputs": [
    {
     "name": "stdout",
     "output_type": "stream",
     "text": [
      "After packing consecutive duplicates of the said list elements into sublists: [[1], [0], [1], [2], [3], [4, 4], [5, 5], [6, 6], [7], [8], [9], [4, 4]]\n"
     ]
    }
   ],
   "source": [
    "lt = [1, 0, 1, 2, 3, 4, 4, 5, 5, 6, 6, 7, 8, 9, 4, 4]\n",
    "if not lt:\n",
    "    packed=[]\n",
    "else:\n",
    "    packed=[]\n",
    "    current=[lt[0]]\n",
    "    for item in lt[1:]:\n",
    "        if item==current[-1]:\n",
    "            current.append(item)\n",
    "        else:\n",
    "            packed.append(current)\n",
    "            current = [item]\n",
    "    packed.append(current) \n",
    "print(\"After packing consecutive duplicates of the said list elements into sublists:\",packed)"
   ]
  },
  {
   "cell_type": "code",
   "execution_count": null,
   "metadata": {},
   "outputs": [],
   "source": []
  }
 ],
 "metadata": {
  "kernelspec": {
   "display_name": "Python 3 (ipykernel)",
   "language": "python",
   "name": "python3"
  },
  "language_info": {
   "codemirror_mode": {
    "name": "ipython",
    "version": 3
   },
   "file_extension": ".py",
   "mimetype": "text/x-python",
   "name": "python",
   "nbconvert_exporter": "python",
   "pygments_lexer": "ipython3",
   "version": "3.13.5"
  }
 },
 "nbformat": 4,
 "nbformat_minor": 4
}
