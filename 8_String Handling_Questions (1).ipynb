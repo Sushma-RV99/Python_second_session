{
 "cells": [
  {
   "cell_type": "raw",
   "metadata": {},
   "source": [
    "Python Program to Replace all Occurrences of ‘a’ with $ in a String\n",
    "\n",
    "Given String = \"apple\""
   ]
  },
  {
   "cell_type": "code",
   "execution_count": 1,
   "metadata": {},
   "outputs": [
    {
     "name": "stdout",
     "output_type": "stream",
     "text": [
      "$pple\n"
     ]
    }
   ],
   "source": [
    "a = \"apple\"\n",
    "b = a.replace(\"a\",\"$\")\n",
    "print(b)"
   ]
  },
  {
   "cell_type": "raw",
   "metadata": {},
   "source": [
    "2.Python Program to Remove the 5th Index Character from a String"
   ]
  },
  {
   "cell_type": "code",
   "execution_count": 3,
   "metadata": {},
   "outputs": [
    {
     "name": "stdout",
     "output_type": "stream",
     "text": [
      "orang\n"
     ]
    }
   ],
   "source": [
    "a=\"orange\"\n",
    "print(a[0:5])\n",
    "\n"
   ]
  },
  {
   "cell_type": "raw",
   "metadata": {},
   "source": [
    "3.Python Program to Form a New String where the First Character and the Last Character have been Exchanged"
   ]
  },
  {
   "cell_type": "code",
   "execution_count": 5,
   "metadata": {},
   "outputs": [
    {
     "name": "stdin",
     "output_type": "stream",
     "text": [
      "enter string sushma\n"
     ]
    },
    {
     "name": "stdout",
     "output_type": "stream",
     "text": [
      "sushma\n",
      "aushms\n"
     ]
    }
   ],
   "source": [
    "str1=input(\"enter string\")\n",
    "print(str1)\n",
    "print(str1[-1]+str1[1:-1]+str1[0])\n",
    "    "
   ]
  },
  {
   "cell_type": "raw",
   "metadata": {},
   "source": [
    "4.Python Program to Count the Number of Vowels in a String"
   ]
  },
  {
   "cell_type": "code",
   "execution_count": 13,
   "metadata": {},
   "outputs": [
    {
     "name": "stdout",
     "output_type": "stream",
     "text": [
      "Number of vowels in the string: 3\n"
     ]
    }
   ],
   "source": [
    "def count_vowels(s):\n",
    "    vowels = set('aeiouAEIOU')\n",
    "    count = 0\n",
    "    for char in s:\n",
    "        if char in vowels:\n",
    "            count += 1\n",
    "    return count\n",
    "    \n",
    "input_str = \"Hello, World!\"\n",
    "vowel_count = count_vowels(input_str)\n",
    "print(\"Number of vowels in the string:\", vowel_count)\n",
    "    "
   ]
  },
  {
   "cell_type": "raw",
   "metadata": {},
   "source": [
    "5.Python Program to Take in a String and Replace Every Blank Space with Hyphen"
   ]
  },
  {
   "cell_type": "code",
   "execution_count": 14,
   "metadata": {},
   "outputs": [
    {
     "name": "stdin",
     "output_type": "stream",
     "text": [
      "enter string sush ma\n"
     ]
    },
    {
     "name": "stdout",
     "output_type": "stream",
     "text": [
      "sush-ma\n"
     ]
    }
   ],
   "source": [
    "str1=input(\"enter string\")\n",
    "new_str=str1.replace(\" \",\"-\")\n",
    "print(new_str)"
   ]
  },
  {
   "cell_type": "raw",
   "metadata": {},
   "source": [
    "6.Python Program to Calculate the Length of a String Without Using a Library Function"
   ]
  },
  {
   "cell_type": "code",
   "execution_count": 18,
   "metadata": {},
   "outputs": [
    {
     "name": "stdin",
     "output_type": "stream",
     "text": [
      "enter string sushma\n"
     ]
    },
    {
     "name": "stdout",
     "output_type": "stream",
     "text": [
      "6\n"
     ]
    }
   ],
   "source": [
    "str1=input(\"enter string\")\n",
    "count=0\n",
    "for i in str1:\n",
    "    count=count+1\n",
    "print(count)\n",
    "    "
   ]
  },
  {
   "cell_type": "raw",
   "metadata": {},
   "source": [
    "7.Python Program to Remove the Characters of Odd Index Values in a String"
   ]
  },
  {
   "cell_type": "code",
   "execution_count": 20,
   "metadata": {},
   "outputs": [
    {
     "name": "stdin",
     "output_type": "stream",
     "text": [
      "enter string sushma\n"
     ]
    },
    {
     "name": "stdout",
     "output_type": "stream",
     "text": [
      "ssm\n"
     ]
    }
   ],
   "source": [
    "str1=input(\"enter string\")\n",
    "print(str1[::2])"
   ]
  },
  {
   "cell_type": "raw",
   "metadata": {},
   "source": [
    "8.Python Program to Calculate the Number of Words and the Number of Characters Present in a String"
   ]
  },
  {
   "cell_type": "code",
   "execution_count": 23,
   "metadata": {},
   "outputs": [
    {
     "name": "stdin",
     "output_type": "stream",
     "text": [
      "enter string sushma R V\n"
     ]
    },
    {
     "name": "stdout",
     "output_type": "stream",
     "text": [
      "3\n",
      "10\n"
     ]
    }
   ],
   "source": [
    "str1=input(\"enter string\")\n",
    "str2=str1.split()\n",
    "print(len(str2))\n",
    "print(len(str1))"
   ]
  },
  {
   "cell_type": "raw",
   "metadata": {},
   "source": [
    "9.Python Program to Take in Two Strings and Display the Larger String without Using Built-in Functions"
   ]
  },
  {
   "cell_type": "code",
   "execution_count": 24,
   "metadata": {},
   "outputs": [
    {
     "name": "stdin",
     "output_type": "stream",
     "text": [
      "enter string-1 sushma\n",
      "enter string-2 Bharadwaj\n"
     ]
    },
    {
     "name": "stdout",
     "output_type": "stream",
     "text": [
      "str-2 is larger\n"
     ]
    }
   ],
   "source": [
    "str1=input(\"enter string-1\")\n",
    "str2=input(\"enter string-2\")\n",
    "str1_length=len(str1)\n",
    "str2_length=len(str2)\n",
    "if str1_length>str2_length:\n",
    "    print(\"str-1 is larger\")\n",
    "else:\n",
    "    print(\"str-2 is larger\")"
   ]
  },
  {
   "cell_type": "raw",
   "metadata": {},
   "source": [
    "10.Python Program to Count Number of Lowercase Characters in a String"
   ]
  },
  {
   "cell_type": "code",
   "execution_count": 27,
   "metadata": {},
   "outputs": [
    {
     "name": "stdin",
     "output_type": "stream",
     "text": [
      "enter string-1 SushMa\n"
     ]
    },
    {
     "name": "stdout",
     "output_type": "stream",
     "text": [
      "total lowercase characters in string is: 4\n"
     ]
    }
   ],
   "source": [
    "str1=input(\"enter string-1\")\n",
    "count=0\n",
    "for i in str1:\n",
    "      if(i.islower()):\n",
    "            count=count+1\n",
    "print(\"total lowercase characters in string is:\",count)\n"
   ]
  },
  {
   "cell_type": "raw",
   "metadata": {},
   "source": [
    "11.Python Program to Check if a String is a Palindrome or Not"
   ]
  },
  {
   "cell_type": "code",
   "execution_count": 28,
   "metadata": {},
   "outputs": [
    {
     "name": "stdin",
     "output_type": "stream",
     "text": [
      "Enter a string:  abccba\n"
     ]
    },
    {
     "name": "stdout",
     "output_type": "stream",
     "text": [
      "The string is a palindrome.\n"
     ]
    }
   ],
   "source": [
    "def is_palindrome(s):\n",
    "    s = s.lower().replace(\" \", \"\")\n",
    "    reversed_s = s[::-1]\n",
    "    return s == reversed_s\n",
    "input_str = input(\"Enter a string: \")\n",
    "if is_palindrome(input_str):\n",
    "    print(\"The string is a palindrome.\")\n",
    "else:\n",
    "    print(\"The string is not a palindrome.\")\n",
    "\n"
   ]
  },
  {
   "cell_type": "raw",
   "metadata": {},
   "source": [
    "12.Python Program to Calculate the Number of Upper Case Letters and Lower Case Letters in a String"
   ]
  },
  {
   "cell_type": "code",
   "execution_count": 34,
   "metadata": {},
   "outputs": [
    {
     "name": "stdin",
     "output_type": "stream",
     "text": [
      "enter string-1 SushmA\n"
     ]
    },
    {
     "name": "stdout",
     "output_type": "stream",
     "text": [
      "total lowercase characters in string is: 4\n",
      "total lowercase characters in string is: 2\n"
     ]
    }
   ],
   "source": [
    "str1=input(\"enter string-1\")\n",
    "lower_count=0\n",
    "upper_count=0\n",
    "for i in str1:\n",
    "      if(i.islower()):\n",
    "          lower_count=lower_count+1\n",
    "      elif(i.isupper()):\n",
    "          upper_count=upper_count+1\n",
    "print(\"total lowercase characters in string is:\",lower_count)\n",
    "print(\"total lowercase characters in string is:\",upper_count)\n",
    "          "
   ]
  },
  {
   "cell_type": "raw",
   "metadata": {},
   "source": [
    "13.Python Program to Calculate the Number of Digits and Letters in a String"
   ]
  },
  {
   "cell_type": "code",
   "execution_count": 35,
   "metadata": {},
   "outputs": [
    {
     "name": "stdin",
     "output_type": "stream",
     "text": [
      "enter string-1 Sushma121999\n"
     ]
    },
    {
     "name": "stdout",
     "output_type": "stream",
     "text": [
      "total number of digits in a string 6\n"
     ]
    }
   ],
   "source": [
    "str1=input(\"enter string-1\")\n",
    "digits_count=0\n",
    "for i in str1:\n",
    "      if(i.isdigit()):\n",
    "          digits_count=digits_count+1\n",
    "print(\"total number of digits in a string\", digits_count)"
   ]
  },
  {
   "cell_type": "raw",
   "metadata": {},
   "source": [
    "14.Python Program to Form a New String Made of the First 2 and Last 2 characters From a Given String"
   ]
  },
  {
   "cell_type": "code",
   "execution_count": 37,
   "metadata": {},
   "outputs": [
    {
     "name": "stdin",
     "output_type": "stream",
     "text": [
      "enter string-1 sushma\n"
     ]
    },
    {
     "name": "stdout",
     "output_type": "stream",
     "text": [
      "suma\n"
     ]
    }
   ],
   "source": [
    "str1=input(\"enter string-1\")\n",
    "str2=str1[:2]+str1[-2:]\n",
    "print(str2)"
   ]
  },
  {
   "cell_type": "raw",
   "metadata": {},
   "source": [
    "15.Python Program to Count the Occurrences of Each Word in a Given String Sentence\n",
    "\n",
    "\"Everybody is selfish , the ratio diferrs , time to time , person to to person\"\n",
    "\n",
    "count the occurance of \"time\""
   ]
  },
  {
   "cell_type": "code",
   "execution_count": 38,
   "metadata": {},
   "outputs": [
    {
     "name": "stdout",
     "output_type": "stream",
     "text": [
      "Word occurrences:\n",
      "everybody: 1\n",
      "is: 1\n",
      "selfish: 1\n",
      "the: 1\n",
      "ratio: 1\n",
      "diferrs: 1\n",
      "time: 2\n",
      "to: 3\n",
      "person: 2\n",
      "\n",
      "Occurrence of \"time\": 2\n"
     ]
    }
   ],
   "source": [
    "sentence=\"Everybody is selfish , the ratio diferrs , time to time , person to to person\"\n",
    "sentence_clean=sentence.lower().replace(\",\", \"\")\n",
    "words=sentence_clean.split()\n",
    "word_count = {}\n",
    "for word in words:\n",
    "    if word in word_count:\n",
    "        word_count[word]+=1\n",
    "    else:\n",
    "        word_count[word]=1\n",
    "print(\"Word occurrences:\")\n",
    "for word, count in word_count.items():\n",
    "    print(f\"{word}: {count}\")\n",
    "print('\\nOccurrence of \"time\":', word_count.get(\"time\", 0))"
   ]
  },
  {
   "cell_type": "code",
   "execution_count": null,
   "metadata": {},
   "outputs": [],
   "source": []
  }
 ],
 "metadata": {
  "kernelspec": {
   "display_name": "Python 3 (ipykernel)",
   "language": "python",
   "name": "python3"
  },
  "language_info": {
   "codemirror_mode": {
    "name": "ipython",
    "version": 3
   },
   "file_extension": ".py",
   "mimetype": "text/x-python",
   "name": "python",
   "nbconvert_exporter": "python",
   "pygments_lexer": "ipython3",
   "version": "3.13.5"
  }
 },
 "nbformat": 4,
 "nbformat_minor": 4
}
