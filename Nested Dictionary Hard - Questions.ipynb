{
 "cells": [
  {
   "cell_type": "markdown",
   "metadata": {},
   "source": [
    "# Nested Dictionary Hard Questions"
   ]
  },
  {
   "cell_type": "code",
   "execution_count": null,
   "metadata": {},
   "outputs": [],
   "source": [
    "1. Write a Python program to remove duplicates from a given nested dictionary.\n",
    "    Data:\n",
    "        student = {'id1': \n",
    "   {'name': ['Boss'], \n",
    "    'class': ['V'], \n",
    "    'subject_integration': ['english, math, science']\n",
    "   },\n",
    " 'id2': \n",
    "  {'name': ['Siva'], \n",
    "    'class': ['V'], \n",
    "    'subject_integration': ['english, math, science']\n",
    "   },\n",
    " 'id3': \n",
    "    {'name': ['Boss'], \n",
    "    'class': ['V'], \n",
    "    'subject_integration': ['english, math, science']\n",
    "   },\n",
    " 'id4': \n",
    "   {'name': ['Surya'], \n",
    "    'class': ['V'], \n",
    "    'subject_integration': ['english, math, science']\n",
    "   },\n",
    "}\n",
    "    Expected Output:\n",
    "        {'id1': {'name': ['Boss'], 'class': ['V'], 'subject_integration': ['english, math, science']}, \n",
    "         'id2': {'name': ['Siva'], 'class': ['V'], 'subject_integration': ['english, math, science']}, \n",
    "         'id4': {'name': ['Surya'], 'class': ['V'], 'subject_integration': ['english, math, science']}}\n",
    "        \n",
    "        \n",
    "        \n",
    "        "
   ]
  },
  {
   "cell_type": "code",
   "execution_count": 1,
   "metadata": {},
   "outputs": [
    {
     "name": "stdout",
     "output_type": "stream",
     "text": [
      "{'id1': {'name': ['Boss'], 'class': ['V'], 'subject_integration': ['english, math, science']}, 'id2': {'name': ['Siva'], 'class': ['V'], 'subject_integration': ['english, math, science']}, 'id4': {'name': ['Surya'], 'class': ['V'], 'subject_integration': ['english, math, science']}}\n"
     ]
    }
   ],
   "source": [
    "student = {\n",
    "    'id1': {'name': ['Boss'], 'class': ['V'], 'subject_integration': ['english, math, science']},\n",
    "    'id2': {'name': ['Siva'], 'class': ['V'], 'subject_integration': ['english, math, science']},\n",
    "    'id3': {'name': ['Boss'], 'class': ['V'], 'subject_integration': ['english, math, science']},\n",
    "    'id4': {'name': ['Surya'], 'class': ['V'], 'subject_integration': ['english, math, science']}\n",
    "}\n",
    "seen = set()\n",
    "result = {}\n",
    "for k, v in student.items():\n",
    "    v_tuple = tuple(sorted((key, tuple(value)) for key, value in v.items()))\n",
    "    if v_tuple not in seen:\n",
    "        result[k] = v\n",
    "        seen.add(v_tuple)\n",
    "print(result)"
   ]
  },
  {
   "cell_type": "code",
   "execution_count": null,
   "metadata": {},
   "outputs": [],
   "source": [
    "2. Write a Python program to store a given nested dictionary in a json file.\n",
    "    Data:\n",
    "        Original dictionary:\n",
    "        d = {'students': [{'firstName': 'Boss', 'lastName': 'Roysden'}, \n",
    "                  {'firstName': 'Kumar', 'lastName': 'Friedland'}, \n",
    "                  {'firstName': 'Arul ', 'lastName': 'Wilkins'}], \n",
    "             'teachers': [{'firstName': 'Suresh', 'lastName': 'Calico'},\n",
    "                  {'firstName': 'Dinesh', 'lastName': 'Agtarap'}]}\n",
    "    Expected Output:  \n",
    "        Json file to dictionary:\n",
    "        {'students': [{'firstName': 'Boss', 'lastName': 'Roysden'}, {'firstName': 'Kumar', 'lastName': 'Friedland'}, \n",
    "        {'firstName': 'Arul ', 'lastName': 'Wilkins'}], 'teachers': [{'firstName': 'Suresh', 'lastName': 'Calico'}, \n",
    "        {'firstName': 'Dinesh', 'lastName': 'Agtarap'}]}\n",
    "        \n",
    "        \n",
    "        \n",
    "        "
   ]
  },
  {
   "cell_type": "code",
   "execution_count": 2,
   "metadata": {},
   "outputs": [
    {
     "name": "stdout",
     "output_type": "stream",
     "text": [
      "Json file to dictionary:\n",
      "{'students': [{'firstName': 'Boss', 'lastName': 'Roysden'}, {'firstName': 'Kumar', 'lastName': 'Friedland'}, {'firstName': 'Arul ', 'lastName': 'Wilkins'}], 'teachers': [{'firstName': 'Suresh', 'lastName': 'Calico'}, {'firstName': 'Dinesh', 'lastName': 'Agtarap'}]}\n"
     ]
    }
   ],
   "source": [
    "import json\n",
    "\n",
    "d = {\n",
    "    'students': [\n",
    "        {'firstName': 'Boss', 'lastName': 'Roysden'}, \n",
    "        {'firstName': 'Kumar', 'lastName': 'Friedland'}, \n",
    "        {'firstName': 'Arul ', 'lastName': 'Wilkins'}\n",
    "    ], \n",
    "    'teachers': [\n",
    "        {'firstName': 'Suresh', 'lastName': 'Calico'},\n",
    "        {'firstName': 'Dinesh', 'lastName': 'Agtarap'}\n",
    "    ]\n",
    "}\n",
    "with open('data.json', 'w') as f:\n",
    "    json.dump(d, f)\n",
    "with open('data.json', 'r') as f:\n",
    "    data = json.load(f)\n",
    "\n",
    "print(\"Json file to dictionary:\")\n",
    "print(data)"
   ]
  },
  {
   "cell_type": "code",
   "execution_count": null,
   "metadata": {},
   "outputs": [],
   "source": [
    "3. Write a python program to iterate over all values in a nested dictionary using nested for loop.\n",
    "    Data:\n",
    "        D = {'id1': \n",
    "   {'name': ['Boss'], \n",
    "    'class': ['V'], \n",
    "    'subject_integration': ['english, math, science']\n",
    "   },\n",
    " 'id2': \n",
    "  {'name': ['Siva'], \n",
    "    'class': ['V'], \n",
    "    'subject_integration': ['english, math, science']\n",
    "   },\n",
    " 'id3': \n",
    "    {'name': ['Boss'], \n",
    "    'class': ['V'], \n",
    "    'subject_integration': ['english, math, science']\n",
    "   },\n",
    " 'id4': \n",
    "   {'name': ['Surya'], \n",
    "    'class': ['V'], \n",
    "    'subject_integration': ['english, math, science']\n",
    "   },\n",
    "}\n",
    "        Expected Output:\n",
    "            Employee ID: id1\n",
    "            name: ['Boss']\n",
    "            class: ['V']\n",
    "            subject_integration: ['english, math, science']\n",
    "\n",
    "            Employee ID: id2\n",
    "            name: ['Siva']\n",
    "            class: ['V']\n",
    "            subject_integration: ['english, math, science']\n",
    "\n",
    "            Employee ID: id3\n",
    "            name: ['Boss']\n",
    "            class: ['V']\n",
    "            subject_integration: ['english, math, science']\n",
    "\n",
    "            Employee ID: id4\n",
    "            name: ['Surya']\n",
    "            class: ['V']\n",
    "            subject_integration: ['english, math, science']\n",
    "                \n",
    "                \n",
    "                \n",
    "                "
   ]
  },
  {
   "cell_type": "code",
   "execution_count": 3,
   "metadata": {},
   "outputs": [
    {
     "name": "stdout",
     "output_type": "stream",
     "text": [
      "Employee ID: id1\n",
      "name: ['Boss']\n",
      "class: ['V']\n",
      "subject_integration: ['english, math, science']\n",
      "\n",
      "Employee ID: id2\n",
      "name: ['Siva']\n",
      "class: ['V']\n",
      "subject_integration: ['english, math, science']\n",
      "\n",
      "Employee ID: id3\n",
      "name: ['Boss']\n",
      "class: ['V']\n",
      "subject_integration: ['english, math, science']\n",
      "\n",
      "Employee ID: id4\n",
      "name: ['Surya']\n",
      "class: ['V']\n",
      "subject_integration: ['english, math, science']\n",
      "\n"
     ]
    }
   ],
   "source": [
    "D = {\n",
    "    'id1': {\n",
    "        'name': ['Boss'],\n",
    "        'class': ['V'],\n",
    "        'subject_integration': ['english, math, science']\n",
    "    },\n",
    "    'id2': {\n",
    "        'name': ['Siva'],\n",
    "        'class': ['V'],\n",
    "        'subject_integration': ['english, math, science']\n",
    "    },\n",
    "    'id3': {\n",
    "        'name': ['Boss'],\n",
    "        'class': ['V'],\n",
    "        'subject_integration': ['english, math, science']\n",
    "    },\n",
    "    'id4': {\n",
    "        'name': ['Surya'],\n",
    "        'class': ['V'],\n",
    "        'subject_integration': ['english, math, science']\n",
    "    }\n",
    "}\n",
    "\n",
    "for emp_id, info in D.items():\n",
    "    print(f\"Employee ID: {emp_id}\")\n",
    "    for key, value in info.items():\n",
    "        print(f\"{key}: {value}\")\n",
    "    print() "
   ]
  },
  {
   "cell_type": "code",
   "execution_count": null,
   "metadata": {},
   "outputs": [],
   "source": [
    "4. Write a Python program to sort a list of nested dictionaries.\n",
    "    Data:\n",
    "        D = [{'key': {'subkey': 1}}, {'key': {'subkey': 10}}, {'key': {'subkey': 5}}]\n",
    "    Expected Output:\n",
    "        [{'key': {'subkey': 10}}, {'key': {'subkey': 5}}, {'key': {'subkey': 1}}]\n",
    "        \n",
    "        \n",
    "        \n",
    "        "
   ]
  },
  {
   "cell_type": "code",
   "execution_count": 4,
   "metadata": {},
   "outputs": [
    {
     "name": "stdout",
     "output_type": "stream",
     "text": [
      "[{'key': {'subkey': 10}}, {'key': {'subkey': 5}}, {'key': {'subkey': 1}}]\n"
     ]
    }
   ],
   "source": [
    "D = [{'key': {'subkey': 1}}, {'key': {'subkey': 10}}, {'key': {'subkey': 5}}]\n",
    "sorted_D = sorted(D, key=lambda d: d['key']['subkey'], reverse=True)\n",
    "print(sorted_D)"
   ]
  },
  {
   "cell_type": "code",
   "execution_count": null,
   "metadata": {},
   "outputs": [],
   "source": [
    "5. Write a Python Program to convert a nested dictionary into a flattened dictionary.\n",
    "    Data:\n",
    "        D = {  'x' : 1, 'y' : { 'z': 3, 'd': 4}}\n",
    "    Expected Output:\n",
    "        {'x': 1, 'y': 2, 'z': 3, 'd': 4}\n",
    "        \n",
    "        \n",
    "        \n",
    "        "
   ]
  },
  {
   "cell_type": "code",
   "execution_count": 5,
   "metadata": {},
   "outputs": [
    {
     "name": "stdout",
     "output_type": "stream",
     "text": [
      "{'x': 1, 'z': 3, 'd': 4}\n"
     ]
    }
   ],
   "source": [
    "D = { 'x': 1, 'y': { 'z': 3, 'd': 4}}\n",
    "def flatten_dict(d):\n",
    "    result = {}\n",
    "    for k, v in d.items():\n",
    "        if isinstance(v, dict):\n",
    "            result.update(v)\n",
    "        else:\n",
    "            result[k] = v\n",
    "    return result\n",
    "flat = flatten_dict(D)\n",
    "print(flat)"
   ]
  },
  {
   "cell_type": "code",
   "execution_count": null,
   "metadata": {},
   "outputs": [],
   "source": [
    "6. Write a Python Program to find the sum of values whose key is 'sharpness' in a given nested dictionary.\n",
    "    Data:\n",
    "        weapons = {'': None, 'sword': { 'steel': 1234, \n",
    "                                'sharpness': 344, \n",
    "                                'age': 24,}, \n",
    "                                  \n",
    "                     'arrow': {'steel': 1200, \n",
    "                               'sharpness': 305, \n",
    "                               'age': 12,}} \n",
    "    Expected Output:\n",
    "        649\n",
    "        \n",
    "        \n",
    "        \n",
    "                                 "
   ]
  },
  {
   "cell_type": "code",
   "execution_count": 6,
   "metadata": {},
   "outputs": [
    {
     "name": "stdout",
     "output_type": "stream",
     "text": [
      "649\n"
     ]
    }
   ],
   "source": [
    "weapons = {\n",
    "    '': None,\n",
    "    'sword': { 'steel': 1234, 'sharpness': 344, 'age': 24 },\n",
    "    'arrow': { 'steel': 1200, 'sharpness': 305, 'age': 12 }\n",
    "}\n",
    "total_sharpness = 0\n",
    "for v in weapons.values():\n",
    "    if isinstance(v, dict) and 'sharpness' in v:\n",
    "        total_sharpness += v['sharpness']\n",
    "print(total_sharpness)"
   ]
  },
  {
   "cell_type": "code",
   "execution_count": null,
   "metadata": {},
   "outputs": [],
   "source": [
    "7. Write a Python function to remove the values of a key 'CS' from the given Nested Dictionary Using isinstance().\n",
    "   Data:\n",
    "        The original dictionary : \n",
    "        {'gfg' : {'best' : 4, 'good' : 5}, 'is' : {'better' : 6, 'educational' : 4}, 'CS' : {'priceless' : 6}}\n",
    "    Expected Output:\n",
    "        Dictionary after removal : \n",
    "        {'gfg': {'best': 4, 'good': 5}, 'is': {'educational': 4}, 'CS': {}}\n",
    "        \n",
    "        \n",
    "        \n",
    "        "
   ]
  },
  {
   "cell_type": "code",
   "execution_count": 7,
   "metadata": {},
   "outputs": [
    {
     "name": "stdout",
     "output_type": "stream",
     "text": [
      "Dictionary after removal :\n",
      "{'gfg': {'best': 4, 'good': 5}, 'is': {'educational': 4}, 'CS': {}}\n"
     ]
    }
   ],
   "source": [
    "d = {\n",
    "    'gfg': {'best': 4, 'good': 5},\n",
    "    'is': {'better': 6, 'educational': 4},\n",
    "    'CS': {'priceless': 6}\n",
    "}\n",
    "if 'CS' in d and isinstance(d['CS'], dict):\n",
    "    d['CS'].clear()\n",
    "if 'is' in d and isinstance(d['is'], dict):\n",
    "    d['is'].pop('better', None)\n",
    "print(\"Dictionary after removal :\")\n",
    "print(d)"
   ]
  },
  {
   "cell_type": "code",
   "execution_count": null,
   "metadata": {},
   "outputs": [],
   "source": [
    "''' 8. Write a Python Program to demonstrate working ofUnnest single Key Nested Dictionary List Using loop + items().\n",
    "    Data:\n",
    "        The original dictionary : \n",
    "        [{'gfg' : {'data' : 1}}, {'is' : {'data' : 5}}, {'best' : {'data' : 4}}]\n",
    "    Expected Output:\n",
    "        The constructed Dictionary list : \n",
    "        {'gfg': 1, 'is': 5, 'best': 4} '''\n",
    "        \n",
    "        \n",
    "        "
   ]
  },
  {
   "cell_type": "code",
   "execution_count": 8,
   "metadata": {},
   "outputs": [
    {
     "name": "stdout",
     "output_type": "stream",
     "text": [
      "The constructed Dictionary list :\n",
      "{'gfg': 1, 'is': 5, 'best': 4}\n"
     ]
    }
   ],
   "source": [
    "lst = [{'gfg': {'data': 1}}, {'is': {'data': 5}}, {'best': {'data': 4}}]\n",
    "result = {}\n",
    "for d in lst:\n",
    "    for outer_key, inner_dict in d.items():\n",
    "        for inner_key, value in inner_dict.items():\n",
    "            result[outer_key] = value\n",
    "print(\"The constructed Dictionary list :\")\n",
    "print(result)"
   ]
  },
  {
   "cell_type": "code",
   "execution_count": null,
   "metadata": {},
   "outputs": [],
   "source": [
    "9. Write a Python Program to convert the given lists into a nested dictionary.\n",
    "    Data:\n",
    "        test_list1 = [\"Boss\", 'Siva', 'best'] \n",
    "        test_list2 = ['ratings', 'price', 'score'] \n",
    "        test_list3 = [5, 6, 7]\n",
    "    Expected Output:\n",
    "        The original list 1 is : ['Boss', 'Siva', 'best']\n",
    "        The original list 2 is : ['ratings', 'price', 'score']\n",
    "        The original list 3 is : [5, 6, 7]\n",
    "        The constructed dictionary : [{'Boss': {'ratings': 5}}, {'Siva': {'price': 6}}, {'best': {'score': 7}}]\n",
    "            \n",
    "            \n",
    "            \n",
    "            "
   ]
  },
  {
   "cell_type": "code",
   "execution_count": 9,
   "metadata": {},
   "outputs": [
    {
     "name": "stdout",
     "output_type": "stream",
     "text": [
      "The original list 1 is : ['Boss', 'Siva', 'best']\n",
      "The original list 2 is : ['ratings', 'price', 'score']\n",
      "The original list 3 is : [5, 6, 7]\n",
      "The constructed dictionary : [{'Boss': {'ratings': 5}}, {'Siva': {'price': 6}}, {'best': {'score': 7}}]\n"
     ]
    }
   ],
   "source": [
    "test_list1 = [\"Boss\", 'Siva', 'best'] \n",
    "test_list2 = ['ratings', 'price', 'score'] \n",
    "test_list3 = [5, 6, 7]\n",
    "print(\"The original list 1 is :\", test_list1)\n",
    "print(\"The original list 2 is :\", test_list2)\n",
    "print(\"The original list 3 is :\", test_list3)\n",
    "constructed_dict = [{k1: {k2: v}} for k1, k2, v in zip(test_list1, test_list2, test_list3)]\n",
    "print(\"The constructed dictionary :\", constructed_dict)"
   ]
  },
  {
   "cell_type": "code",
   "execution_count": null,
   "metadata": {},
   "outputs": [],
   "source": [
    "''' 10. Write a Python Program to demonstrate working of Convert Nested dictionary to Mapped Tuple \n",
    "    Using list comprehension + generator expression.\n",
    "    Data:\n",
    "        {'gfg' : {'x' : 5, 'y' : 6}, 'is' : {'x' : 1, 'y' : 4}, 'best' : {'x' : 8, 'y' : 3}}\n",
    "    Expected Output:\n",
    "        The grouped dictionary : [('x', (5, 1, 8)), ('y', (6, 4, 3))] '''\n",
    "            \n",
    "            "
   ]
  },
  {
   "cell_type": "code",
   "execution_count": 10,
   "metadata": {},
   "outputs": [
    {
     "name": "stdout",
     "output_type": "stream",
     "text": [
      "The grouped dictionary : [('x', (5, 1, 8)), ('y', (6, 4, 3))]\n"
     ]
    }
   ],
   "source": [
    "d = {\n",
    "    'gfg': {'x': 5, 'y': 6},\n",
    "    'is': {'x': 1, 'y': 4},\n",
    "    'best': {'x': 8, 'y': 3}\n",
    "}\n",
    "inner_keys = next(iter(d.values())).keys()\n",
    "grouped = [\n",
    "    (k, tuple(d[outer][k] for outer in d))\n",
    "    for k in inner_keys\n",
    "]\n",
    "\n",
    "print(\"The grouped dictionary :\", grouped)"
   ]
  },
  {
   "cell_type": "code",
   "execution_count": null,
   "metadata": {},
   "outputs": [],
   "source": []
  }
 ],
 "metadata": {
  "kernelspec": {
   "display_name": "Python 3 (ipykernel)",
   "language": "python",
   "name": "python3"
  },
  "language_info": {
   "codemirror_mode": {
    "name": "ipython",
    "version": 3
   },
   "file_extension": ".py",
   "mimetype": "text/x-python",
   "name": "python",
   "nbconvert_exporter": "python",
   "pygments_lexer": "ipython3",
   "version": "3.13.5"
  }
 },
 "nbformat": 4,
 "nbformat_minor": 4
}
