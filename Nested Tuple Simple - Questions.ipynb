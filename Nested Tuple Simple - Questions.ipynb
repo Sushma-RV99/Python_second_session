{
 "cells": [
  {
   "cell_type": "markdown",
   "metadata": {},
   "source": [
    "# Nested Tuple Simple Questions"
   ]
  },
  {
   "cell_type": "code",
   "execution_count": null,
   "metadata": {},
   "outputs": [],
   "source": [
    "1. Write a Python program to create a simple nested tuple.\n",
    "    Data:\n",
    "        x = (\"Boss\", [8, 4, 6], (1, 2, 3)) \n",
    "    Expected Output:\n",
    "        ('Boss', [8, 4, 6], (1, 2, 3))\n",
    "        \n",
    "        \n",
    "        \n",
    "        "
   ]
  },
  {
   "cell_type": "code",
   "execution_count": 1,
   "metadata": {},
   "outputs": [
    {
     "name": "stdout",
     "output_type": "stream",
     "text": [
      "('Boss', [8, 4, 6], (1, 2, 3))\n"
     ]
    }
   ],
   "source": [
    "x = (\"Boss\", [8, 4, 6], (1, 2, 3)) \n",
    "print(x)"
   ]
  },
  {
   "cell_type": "code",
   "execution_count": null,
   "metadata": {},
   "outputs": [],
   "source": [
    "2. Write a Python program to convert a nested tuple into a dictionary.\n",
    "    Data:\n",
    "        x = ((2, \"w\"),(3, \"r\"))\n",
    "    Expected Output:\n",
    "        {'w': 2, 'r': 3}\n",
    "        \n",
    "        \n",
    "        \n",
    "        \n",
    "        "
   ]
  },
  {
   "cell_type": "code",
   "execution_count": 2,
   "metadata": {},
   "outputs": [
    {
     "name": "stdout",
     "output_type": "stream",
     "text": [
      "{2: 'w', 3: 'r'}\n"
     ]
    }
   ],
   "source": [
    "x = ((2, \"w\"),(3, \"r\"))\n",
    "print(dict(x))"
   ]
  },
  {
   "cell_type": "code",
   "execution_count": null,
   "metadata": {},
   "outputs": [],
   "source": [
    "3. Write a Python program to update the element in a given nested tuple.\n",
    "    Data:\n",
    "        x = ((1), [9, 8, 7], (\"boss\"))\n",
    "    Expected Output:\n",
    "        (1, [9, 8, 77], 'boss')\n",
    "        \n",
    "        \n",
    "        \n",
    "        "
   ]
  },
  {
   "cell_type": "code",
   "execution_count": 3,
   "metadata": {},
   "outputs": [
    {
     "name": "stdout",
     "output_type": "stream",
     "text": [
      "(1, [9, 8, 77], 'boss')\n"
     ]
    }
   ],
   "source": [
    "x = ((1), [9, 8, 7], (\"boss\"))\n",
    "x[1][2]=77\n",
    "print(x)"
   ]
  },
  {
   "cell_type": "code",
   "execution_count": null,
   "metadata": {},
   "outputs": [],
   "source": [
    "4. Write a Python program to find the length of the given nested tuple.\n",
    "    Data:\n",
    "        L = (\"a\",(\"b\",\"c\"),\"d\",(\"e\",\"f\"))\n",
    "    Expected Output:\n",
    "        ('a', ('b', 'c'), 'd', ('e', 'f'))\n",
    "        4\n"
   ]
  },
  {
   "cell_type": "code",
   "execution_count": 4,
   "metadata": {},
   "outputs": [
    {
     "name": "stdout",
     "output_type": "stream",
     "text": [
      "4\n"
     ]
    }
   ],
   "source": [
    "L = (\"a\",(\"b\",\"c\"),\"d\",(\"e\",\"f\"))\n",
    "print(len(L))"
   ]
  },
  {
   "cell_type": "code",
   "execution_count": null,
   "metadata": {},
   "outputs": [],
   "source": [
    "5. Write a Python program to create a nested tuple by using the given tuples.\n",
    "    Data:\n",
    "        t1 = (1,2)\n",
    "        t2 = ('a','a')\n",
    "        t3 = ('A','B')\n",
    "    Expected Output:\n",
    "        Create/print nested tuple\n",
    "        ('A', (1, 2), 'B', ('a', 'b'))\n",
    "        Length of nested tuple is:\n",
    "        4"
   ]
  },
  {
   "cell_type": "code",
   "execution_count": 10,
   "metadata": {},
   "outputs": [
    {
     "name": "stdout",
     "output_type": "stream",
     "text": [
      "('A', (1, 2), 'B', ('a', 'a'))\n",
      "Length of nested tuple is: 4\n"
     ]
    }
   ],
   "source": [
    "t1 = (1,2)\n",
    "t2 = ('a','a')\n",
    "t3 = ('A','B')\n",
    "t=(t3[0],t1,t3[1],t2)\n",
    "print(t)\n",
    "print(\"Length of nested tuple is:\", len(t))"
   ]
  },
  {
   "cell_type": "code",
   "execution_count": null,
   "metadata": {},
   "outputs": [],
   "source": [
    "''' 6. Write a Python script that illustrates the use of multiple square-bracket indexing to access and display an item in a \n",
    "   nested tuple.\n",
    "    Data:\n",
    "        t1 = (\"a\",)\n",
    "        t2 = (t1*2)\n",
    "    Expected Output:\n",
    "        ('a', 'a')\n",
    "        Contains a '''\n",
    "        \n",
    "#didnt understand the question      \n",
    "        \n",
    "        "
   ]
  },
  {
   "cell_type": "code",
   "execution_count": 11,
   "metadata": {},
   "outputs": [
    {
     "name": "stdout",
     "output_type": "stream",
     "text": [
      "('a', 'a')\n"
     ]
    }
   ],
   "source": [
    "t1 = (\"a\",)\n",
    "t2=(t1*2)\n",
    "print(t2)"
   ]
  },
  {
   "cell_type": "code",
   "execution_count": null,
   "metadata": {},
   "outputs": [],
   "source": [
    "7. Write a python program to find the length of the given nested tuple including the elements inside the tuple of tuples.\n",
    "    Data:\n",
    "        t1 =(1,(4,(7,8,9),6),3)\n",
    "    Expected Output:\n",
    "        9\n",
    "        \n",
    "        \n",
    "        \n",
    "        "
   ]
  },
  {
   "cell_type": "code",
   "execution_count": 18,
   "metadata": {},
   "outputs": [
    {
     "name": "stdout",
     "output_type": "stream",
     "text": [
      "7\n"
     ]
    }
   ],
   "source": [
    "def nested_tuple_length(t1):\n",
    "    count = 0\n",
    "    for item in t1:\n",
    "        if isinstance(item, tuple):\n",
    "            count += nested_tuple_length(item)\n",
    "        else:\n",
    "            count += 1\n",
    "    return count\n",
    "t1 =(1,(4,(7,8,9),6),3)\n",
    "print(nested_tuple_length(t1))"
   ]
  },
  {
   "cell_type": "code",
   "execution_count": null,
   "metadata": {},
   "outputs": [],
   "source": []
  },
  {
   "cell_type": "code",
   "execution_count": null,
   "metadata": {},
   "outputs": [],
   "source": [
    "9. Write a Python program to unzip a list of nested tuples into individual lists.\n",
    "    Data:\n",
    "        l = [('Sara', 1), ('Shar', 2), ('Sid', 3), ('Shwe', 4)]\n",
    "    Expected Output:\n",
    "        Original list is : [('Sara', 1), ('Shar', 2), ('Sid', 3), ('Shwe', 4)]\n",
    "        Modified list is : [['Sara', 'Shar', 'Sid', 'Shwe'], [1, 2, 3, 4]]\n",
    "        \n",
    "        \n",
    "        \n",
    "        "
   ]
  },
  {
   "cell_type": "code",
   "execution_count": 21,
   "metadata": {},
   "outputs": [
    {
     "name": "stdout",
     "output_type": "stream",
     "text": [
      "['Sara', 'Shar', 'Sid', 'Shwe']\n",
      "[1, 2, 3, 4]\n"
     ]
    }
   ],
   "source": [
    "l = [('Sara', 1), ('Shar', 2), ('Sid', 3), ('Shwe', 4)]\n",
    "names,numbers = zip(*l)\n",
    "names_list=list(names)\n",
    "numbers_list=list(numbers)\n",
    "print(names_list)\n",
    "print(numbers_list)\n"
   ]
  },
  {
   "cell_type": "code",
   "execution_count": null,
   "metadata": {},
   "outputs": [],
   "source": [
    "10. Write a Python program to replace the last value of each tuples in a nested tuple. \n",
    "    Data:\n",
    "        ((10, 20, 40), (40, 50, 60), (70, 80, 90))\n",
    "    Expected Output:\n",
    "        [(10, 20, 100), (40, 50, 100), (70, 80, 100)]\n",
    "        \n",
    "        \n",
    "        \n",
    "        "
   ]
  },
  {
   "cell_type": "code",
   "execution_count": 30,
   "metadata": {},
   "outputs": [
    {
     "name": "stdout",
     "output_type": "stream",
     "text": [
      "[(10, 20, 100), (40, 50, 100), (70, 80, 100)]\n"
     ]
    }
   ],
   "source": [
    "data=((10, 20, 40), (40, 50, 60), (70, 80, 90))\n",
    "new_value=100\n",
    "result=tuple(data1[:-1]+(new_value,) for data1 in data)\n",
    "print(list(result))"
   ]
  },
  {
   "cell_type": "code",
   "execution_count": null,
   "metadata": {},
   "outputs": [],
   "source": []
  }
 ],
 "metadata": {
  "kernelspec": {
   "display_name": "Python 3 (ipykernel)",
   "language": "python",
   "name": "python3"
  },
  "language_info": {
   "codemirror_mode": {
    "name": "ipython",
    "version": 3
   },
   "file_extension": ".py",
   "mimetype": "text/x-python",
   "name": "python",
   "nbconvert_exporter": "python",
   "pygments_lexer": "ipython3",
   "version": "3.13.5"
  }
 },
 "nbformat": 4,
 "nbformat_minor": 4
}
