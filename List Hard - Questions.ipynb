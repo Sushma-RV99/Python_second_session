{
 "cells": [
  {
   "cell_type": "markdown",
   "metadata": {},
   "source": [
    "# List Hard Questions"
   ]
  },
  {
   "cell_type": "code",
   "execution_count": null,
   "metadata": {},
   "outputs": [],
   "source": [
    "''' 1. Write a Python program to rotate a given list by specified number of items to the right or left direction.\n",
    "    Data:\n",
    "        [1, 2, 3, 4, 5, 6, 7, 8, 9, 10]\n",
    "    Expected Output:\n",
    "        Rotate the said list in left direction by 4:\n",
    "        [4, 5, 6, 7, 8, 9, 10, 1, 2, 3, 4]\n",
    "        Rotate the said list in left direction by 2:\n",
    "        [3, 4, 5, 6, 7, 8, 9, 10, 1, 2]\n",
    "        Rotate the said list in Right direction by 4:\n",
    "        [8, 9, 10, 1, 2, 3, 4, 5, 6]\n",
    "        Rotate the said list in Right direction by 2:\n",
    "        [9, 10, 1, 2, 3, 4, 5, 6, 7, 8]  '''\n",
    "        \n",
    "        \n",
    "        \n",
    "        "
   ]
  },
  {
   "cell_type": "code",
   "execution_count": 1,
   "metadata": {},
   "outputs": [
    {
     "name": "stdout",
     "output_type": "stream",
     "text": [
      "Rotate the said list in left direction by 4:\n",
      "[5, 6, 7, 8, 9, 10, 1, 2, 3, 4]\n",
      "Rotate the said list in left direction by 2:\n",
      "[3, 4, 5, 6, 7, 8, 9, 10, 1, 2]\n",
      "Rotate the said list in Right direction by 4:\n",
      "[7, 8, 9, 10, 1, 2, 3, 4, 5, 6]\n",
      "Rotate the said list in Right direction by 2:\n",
      "[9, 10, 1, 2, 3, 4, 5, 6, 7, 8]\n"
     ]
    }
   ],
   "source": [
    "def rotate_left(lst, n):\n",
    "    n = n % len(lst)\n",
    "    return lst[n:] + lst[:n]\n",
    "def rotate_right(lst, n):\n",
    "    n = n % len(lst)\n",
    "    return lst[-n:] + lst[:-n]\n",
    "lst = [1, 2, 3, 4, 5, 6, 7, 8, 9, 10]\n",
    "print(\"Rotate the said list in left direction by 4:\")\n",
    "print(rotate_left(lst, 4))\n",
    "print(\"Rotate the said list in left direction by 2:\")\n",
    "print(rotate_left(lst, 2))\n",
    "print(\"Rotate the said list in Right direction by 4:\")\n",
    "print(rotate_right(lst, 4))\n",
    "print(\"Rotate the said list in Right direction by 2:\")\n",
    "print(rotate_right(lst, 2))"
   ]
  },
  {
   "cell_type": "code",
   "execution_count": null,
   "metadata": {},
   "outputs": [],
   "source": [
    "''' 2. Write a Python program to find an element which has maximum occurrences in a given list. \n",
    "    Data:\n",
    "        [2,3,8,4,7,9,9,2,6,5,1,6,1,3,3,4,6,9,1,2]\n",
    "    Expected Output:\n",
    "        Item with maximum occurrences of the said list:\n",
    "            2 '''\n",
    "            \n",
    "            \n",
    "            \n",
    "            "
   ]
  },
  {
   "cell_type": "code",
   "execution_count": 2,
   "metadata": {},
   "outputs": [
    {
     "name": "stdout",
     "output_type": "stream",
     "text": [
      "Item with maximum occurrences of the said list: 2\n"
     ]
    }
   ],
   "source": [
    "from collections import Counter\n",
    "data = [2,3,8,4,7,9,9,2,6,5,1,6,1,3,3,4,6,9,1,2]\n",
    "counts=Counter(data)\n",
    "max_item=counts.most_common(1)[0][0]\n",
    "print(\"Item with maximum occurrences of the said list:\",max_item)"
   ]
  },
  {
   "cell_type": "code",
   "execution_count": null,
   "metadata": {},
   "outputs": [],
   "source": [
    "''' 3. Write a Python program to access multiple elements of specified index from a given list. \n",
    "    Data:\n",
    "        [2,3,8,4,7,9,7,2,6,5,1,5,1,2,3,4,6,9,3,2]\n",
    "    Expected Output:\n",
    "        Index list:\n",
    "        [0, 3, 5, 7, 10]\n",
    "\n",
    "        Items with specified index of the said list:\n",
    "        [2, 4, 9, 2, 1] '''\n",
    "        \n",
    "        \n",
    "        \n",
    "        "
   ]
  },
  {
   "cell_type": "code",
   "execution_count": 7,
   "metadata": {},
   "outputs": [
    {
     "name": "stdout",
     "output_type": "stream",
     "text": [
      "Index list:\n",
      "[0, 3, 5, 7, 10]\n",
      "\n",
      "Items with specified index of the said list:\n",
      "[2, 4, 9, 2, 1]\n"
     ]
    }
   ],
   "source": [
    "lst = [2,3,8,4,7,9,7,2,6,5,1,5,1,2,3,4,6,9,3,2]\n",
    "index_list = [0, 3, 5, 7, 10]\n",
    "print(\"Index list:\")\n",
    "print(index_list)\n",
    "items = [lst[i] for i in index_list]\n",
    "print(\"\\nItems with specified index of the said list:\")\n",
    "print(items)"
   ]
  },
  {
   "cell_type": "code",
   "execution_count": 1,
   "metadata": {},
   "outputs": [],
   "source": [
    "''' 4. Write a Python program to check whether the given list is sorted or not. Return True if yes, false if not.\n",
    "    Data:\n",
    "        Original list:\n",
    "        [1, 2, 4, 6, 8, 10, 12, 14, 16, 17]\n",
    "        [2, 3, 8, 4, 7, 9, 8, 2, 6, 5, 1, 6, 1, 2, 3, 4, 6, 9, 1, 2]\n",
    "    Expected Output:\n",
    "        Is the said list is sorted!\n",
    "        True\n",
    "        Is the said list is sorted!\n",
    "        False '''\n",
    "        \n",
    "        \n",
    "        \n",
    "        "
   ]
  },
  {
   "cell_type": "code",
   "execution_count": 8,
   "metadata": {},
   "outputs": [
    {
     "name": "stdout",
     "output_type": "stream",
     "text": [
      "Is the said list is sorted!\n",
      "True\n",
      "Is the said list is sorted!\n",
      "False\n"
     ]
    }
   ],
   "source": [
    "def is_sorted(lst):\n",
    "    return all(lst[i] <= lst[i+1] for i in range(len(lst)-1))\n",
    "lst1 = [1, 2, 4, 6, 8, 10, 12, 14, 16, 17]\n",
    "lst2 = [2, 3, 8, 4, 7, 9, 8, 2, 6, 5, 1, 6, 1, 2, 3, 4, 6, 9, 1, 2]\n",
    "print(\"Is the said list is sorted!\")\n",
    "print(is_sorted(lst1)) \n",
    "print(\"Is the said list is sorted!\")\n",
    "print(is_sorted(lst2))"
   ]
  },
  {
   "cell_type": "code",
   "execution_count": null,
   "metadata": {},
   "outputs": [],
   "source": [
    "''' 5. Write a Python program to remove duplicate dictionary from a given list. \n",
    "    Data:\n",
    "        l = [{'Black': 'Cotton'}, {'Red': 'Pulses'}, {'Laterite': 'Cashews'}, {'Black': 'Cotton'}, {'Alluvial': 'Rice'}]\n",
    "    Expected Output:\n",
    "        After removing duplicate dictionary of the said list:\n",
    "        [{'Black': 'Cotton'}, {'Red': 'Pulses'}, {'Laterite': 'Cashews'}, {'Alluvial': 'Rice'}] '''\n",
    "        \n",
    "        \n",
    "        \n",
    "        "
   ]
  },
  {
   "cell_type": "code",
   "execution_count": 9,
   "metadata": {},
   "outputs": [
    {
     "name": "stdout",
     "output_type": "stream",
     "text": [
      "After removing duplicate dictionary of the said list: [{'Black': 'Cotton'}, {'Red': 'Pulses'}, {'Laterite': 'Cashews'}, {'Alluvial': 'Rice'}]\n"
     ]
    }
   ],
   "source": [
    "l=[{'Black': 'Cotton'},{'Red': 'Pulses'},{'Laterite': 'Cashews'},{'Black': 'Cotton'},{'Alluvial': 'Rice'}]\n",
    "seen = set()\n",
    "unique_dicts=[]\n",
    "for d in l:\n",
    "    t = tuple(sorted(d.items()))\n",
    "    if t not in seen:\n",
    "        seen.add(t)\n",
    "        unique_dicts.append(d)\n",
    "print(\"After removing duplicate dictionary of the said list:\",unique_dicts)"
   ]
  },
  {
   "cell_type": "code",
   "execution_count": null,
   "metadata": {},
   "outputs": [],
   "source": [
    "''' 6. Write a Python program to extract the nth element from a given list of tuples. \n",
    "    Data:\n",
    "        [('boss', 98, 99), ('kumar', 97, 96), ('karthi', 91, 94), ('siva', 94, 98)]\n",
    "    Expected Output:\n",
    "        Extract nth element ( n = 0 ) from the said list of tuples:\n",
    "        ['boss', 'kumar', 'karthi', 'siva']\n",
    "\n",
    "        Extract nth element ( n = 2 ) from the said list of tuples:\n",
    "        [99, 96, 94, 98] '''\n",
    "        \n",
    "        \n",
    "        \n",
    "        "
   ]
  },
  {
   "cell_type": "code",
   "execution_count": 10,
   "metadata": {},
   "outputs": [
    {
     "name": "stdout",
     "output_type": "stream",
     "text": [
      "Extract nth element ( n = 0 ) from the said list of tuples:\n",
      "['boss', 'kumar', 'karthi', 'siva']\n",
      "\n",
      "Extract nth element ( n = 2 ) from the said list of tuples:\n",
      "[99, 96, 94, 98]\n"
     ]
    }
   ],
   "source": [
    "data=[('boss', 98, 99), ('kumar', 97, 96), ('karthi', 91, 94), ('siva', 94, 98)]\n",
    "def extract_nth(data, n):\n",
    "    return [t[n] for t in data]\n",
    "print(\"Extract nth element ( n = 0 ) from the said list of tuples:\")\n",
    "print(extract_nth(data, 0))\n",
    "print(\"\\nExtract nth element ( n = 2 ) from the said list of tuples:\")\n",
    "print(extract_nth(data, 2))"
   ]
  },
  {
   "cell_type": "code",
   "execution_count": null,
   "metadata": {},
   "outputs": [],
   "source": [
    "''' 7. Write a Python program to check whether the elements of a given list are unique or not.\n",
    "    Data:\n",
    "        [3, 7, 4, 6, 8, 2, 1, 4, 10, 11, 14, 12, 16, 17]\n",
    "        [2, 4, 6, 8, 10, 12, 14]\n",
    "    Expected Output:\n",
    "        Is the said list contains all unique elements!\n",
    "        False\n",
    "        Is the said list contains all unique elements!\n",
    "        True '''\n",
    "        \n",
    "        \n",
    "        \n",
    "        "
   ]
  },
  {
   "cell_type": "code",
   "execution_count": 11,
   "metadata": {},
   "outputs": [
    {
     "name": "stdout",
     "output_type": "stream",
     "text": [
      "Is the said list contains all unique elements!\n",
      "False\n",
      "Is the said list contains all unique elements!\n",
      "True\n"
     ]
    }
   ],
   "source": [
    "def all_unique(lst):\n",
    "    return len(lst)==len(set(lst))\n",
    "lst1 = [3, 7, 4, 6, 8, 2, 1, 4, 10, 11, 14, 12, 16, 17]\n",
    "lst2 = [2, 4, 6, 8, 10, 12, 14]\n",
    "print(\"Is the said list contains all unique elements!\")\n",
    "print(all_unique(lst1))\n",
    "print(\"Is the said list contains all unique elements!\")\n",
    "print(all_unique(lst2))"
   ]
  },
  {
   "cell_type": "code",
   "execution_count": null,
   "metadata": {},
   "outputs": [],
   "source": [
    "''' 8. Write a Python program to sort a list of lists by a given index of the inner list. \n",
    "    Data:\n",
    "        [('siva', 98, 99), ('bala', 97, 96), ('kumar', 91, 94), ('boss', 94, 98)]\n",
    "    Expected Output:\n",
    "        Sort the said list of lists by a given index ( Index =  0 ) of the inner list\n",
    "        [('bala', 97, 96), ('boss', 94, 98), ('kumar', 91, 94), ('siva', 98, 99)]\n",
    "\n",
    "        Sort the said list of lists by a given index ( Index =  2 ) of the inner list\n",
    "        [('kumar', 91, 94), ('bala', 97, 96), ('boss', 94, 98), ('siva', 98, 99)] '''\n",
    "        \n",
    "        \n",
    "        \n",
    "        "
   ]
  },
  {
   "cell_type": "code",
   "execution_count": 12,
   "metadata": {},
   "outputs": [
    {
     "name": "stdout",
     "output_type": "stream",
     "text": [
      "Sort the said list of lists by a given index ( Index =  0 ) of the inner list\n",
      "[('bala', 97, 96), ('boss', 94, 98), ('kumar', 91, 94), ('siva', 98, 99)]\n",
      "\n",
      "Sort the said list of lists by a given index ( Index =  2 ) of the inner list\n",
      "[('kumar', 91, 94), ('bala', 97, 96), ('boss', 94, 98), ('siva', 98, 99)]\n"
     ]
    }
   ],
   "source": [
    "data=[('siva', 98, 99), ('bala', 97, 96), ('kumar', 91, 94), ('boss', 94, 98)]\n",
    "def sort_by_index(lst, idx):\n",
    "    return sorted(lst, key=lambda x: x[idx])\n",
    "print(\"Sort the said list of lists by a given index ( Index =  0 ) of the inner list\")\n",
    "print(sort_by_index(data, 0))\n",
    "print(\"\\nSort the said list of lists by a given index ( Index =  2 ) of the inner list\")\n",
    "print(sort_by_index(data, 2))"
   ]
  },
  {
   "cell_type": "code",
   "execution_count": null,
   "metadata": {},
   "outputs": [],
   "source": [
    "''' 9. Write a Python program to remove those elements from a given list that are present in the another list. \n",
    "    Data:\n",
    "        x: [1, 2, 3, 4, 5, 6, 7, 8, 9, 10]\n",
    "        y: [5, 4, 7, 9]\n",
    "    Expected Output:\n",
    "        Remove all elements from 'x' present in 'y:\n",
    "        [1, 2, 3, 6, 8, 10] '''\n",
    "        \n",
    "        \n",
    "        \n",
    "        "
   ]
  },
  {
   "cell_type": "code",
   "execution_count": 13,
   "metadata": {},
   "outputs": [
    {
     "name": "stdout",
     "output_type": "stream",
     "text": [
      "Remove all elements from 'x' present in 'y': [1, 2, 3, 6, 8, 10]\n"
     ]
    }
   ],
   "source": [
    "x=[1, 2, 3, 4, 5, 6, 7, 8, 9, 10]\n",
    "y=[5, 4, 7, 9]\n",
    "y_set=set(y)\n",
    "result=[item for item in x if item not in y_set]\n",
    "print(\"Remove all elements from 'x' present in 'y':\",result)"
   ]
  },
  {
   "cell_type": "code",
   "execution_count": null,
   "metadata": {},
   "outputs": [],
   "source": [
    "''' 10. Write a Python program to find the difference between elements (n+1th - nth) from a given list. \n",
    "    Data:\n",
    "        x1 = [3, 6, 2, 7, 9, 23, 6, 12, 24]\n",
    "    Expected Output:\n",
    "        Difference between elements (n+1th – nth) of the said list :\n",
    "        [3, -4, 5, 2, 14, -17, 6, 12] '''\n",
    "        \n",
    "        \n",
    "        \n",
    "        "
   ]
  },
  {
   "cell_type": "code",
   "execution_count": 14,
   "metadata": {},
   "outputs": [
    {
     "name": "stdout",
     "output_type": "stream",
     "text": [
      "Difference between elements (n+1th – nth) of the said list : [3, -4, 5, 2, 14, -17, 6, 12]\n"
     ]
    }
   ],
   "source": [
    "x1=[3, 6, 2, 7, 9, 23, 6, 12, 24]\n",
    "x2=[x1[i+1] - x1[i] for i in range(len(x1)-1)]\n",
    "print(\"Difference between elements (n+1th – nth) of the said list :\",x2)"
   ]
  },
  {
   "cell_type": "code",
   "execution_count": null,
   "metadata": {},
   "outputs": [],
   "source": [
    "''' 11. Write a Python program to check whether a substring presents in the given list. \n",
    "    Data:\n",
    "        ['Kannada', 'Telugu', 'Hindi', 'Tamizh', 'Odia']\n",
    "    Expected Output:\n",
    "        Substring to search: ugu\n",
    "        Check if a substring presents in the said list of string values: True\n",
    "        \n",
    "        Substring to search: alaya\n",
    "        Check if a substring presents in the said list of string values: False '''\n",
    "        \n",
    "        \n",
    "        \n",
    "        "
   ]
  },
  {
   "cell_type": "code",
   "execution_count": 15,
   "metadata": {},
   "outputs": [
    {
     "name": "stdout",
     "output_type": "stream",
     "text": [
      "Substring to search: ugu\n",
      "Check if a substring presents in the said list of string values: True\n",
      "\n",
      "Substring to search: alaya\n",
      "Check if a substring presents in the said list of string values: False\n"
     ]
    }
   ],
   "source": [
    "def substring_in_list(lst, substring):\n",
    "    return any(substring in s for s in lst)\n",
    "data = ['Kannada', 'Telugu', 'Hindi', 'Tamizh', 'Odia']\n",
    "substr1='ugu'\n",
    "print(\"Substring to search:\", substr1)\n",
    "print(\"Check if a substring presents in the said list of string values:\", substring_in_list(data, substr1))\n",
    "substr2='alaya'\n",
    "print(\"\\nSubstring to search:\", substr2)\n",
    "print(\"Check if a substring presents in the said list of string values:\", substring_in_list(data, substr2))"
   ]
  },
  {
   "cell_type": "code",
   "execution_count": null,
   "metadata": {},
   "outputs": [],
   "source": [
    "''' 12. Write a Python program to create a new list by taking alternate elements from a given list.\n",
    "    Data:\n",
    "        ['Soverign', 'Socialist', 'Secular', 'Democratic', 'Republic']\n",
    "    Expected Output:\n",
    "        ['Soverign', 'Secular', 'Republic'] '''\n",
    "        \n",
    "        \n",
    "        \n",
    "        "
   ]
  },
  {
   "cell_type": "code",
   "execution_count": 16,
   "metadata": {},
   "outputs": [
    {
     "name": "stdout",
     "output_type": "stream",
     "text": [
      "['Soverign', 'Secular', 'Republic']\n"
     ]
    }
   ],
   "source": [
    "data=['Soverign', 'Socialist', 'Secular', 'Democratic', 'Republic']\n",
    "new_data=data[::2]\n",
    "print(new_data)"
   ]
  },
  {
   "cell_type": "code",
   "execution_count": null,
   "metadata": {},
   "outputs": [],
   "source": [
    "''' 13. Write a Python program to find the nested lists elements which are present in another list. \n",
    "    Data:\n",
    "        [1, 2, 3, 4, 5, 6, 7, 8, 9, 10, 11, 12, 13, 14]\n",
    "        [[11, 18, 23, 25, 42], [7, 11, 18, 24, 28], [1, 5, 8, 18, 15, 16]]\n",
    "    Expected Output:\n",
    "        Intersection of said nested lists:\n",
    "        [[11], [7, 11], [1, 5, 8]] '''\n",
    "        \n",
    "        \n",
    "        \n",
    "        "
   ]
  },
  {
   "cell_type": "code",
   "execution_count": 20,
   "metadata": {},
   "outputs": [
    {
     "name": "stdout",
     "output_type": "stream",
     "text": [
      "Intersection of said nested lists:\n",
      "[[11], [7, 11], [1, 5, 8]]\n"
     ]
    }
   ],
   "source": [
    "main_list = [1, 2, 3, 4, 5, 6, 7, 8, 9, 10, 11, 12, 13, 14]\n",
    "nested_lists = [[11, 18, 23, 25, 42], [7, 11, 18, 24, 28], [1, 5, 8, 18, 15, 16]]\n",
    "main_set = set(main_list)\n",
    "intersections = [[item for item in sublist if item in main_set] for sublist in nested_lists]\n",
    "print(\"Intersection of said nested lists:\")\n",
    "print(intersections)"
   ]
  },
  {
   "cell_type": "code",
   "execution_count": null,
   "metadata": {},
   "outputs": [],
   "source": [
    "''' 14. Write a Python program to find common element(s) from the given nested lists. \n",
    "    Data:\n",
    "        Original lists:\n",
    "        [[11, 18, 23, 25, 42], [7, 11, 18, 24, 28], [1, 5, 8, 18, 15, 16]]\n",
    "    Expected Output:\n",
    "        Common element(s) in nested lists:\n",
    "        [18] '''\n",
    "        \n",
    "        \n",
    "        \n"
   ]
  },
  {
   "cell_type": "code",
   "execution_count": 21,
   "metadata": {},
   "outputs": [
    {
     "name": "stdout",
     "output_type": "stream",
     "text": [
      "Common element(s) in nested lists:\n",
      "[18]\n"
     ]
    }
   ],
   "source": [
    "nested_lists = [[11, 18, 23, 25, 42],[7, 11, 18, 24, 28],[1, 5, 8, 18, 15, 16]]\n",
    "sets=[set(sublist) for sublist in nested_lists]\n",
    "common_elements = set.intersection(*sets)\n",
    "result = sorted(list(common_elements))\n",
    "print(\"Common element(s) in nested lists:\")\n",
    "print(result)"
   ]
  },
  {
   "cell_type": "code",
   "execution_count": null,
   "metadata": {},
   "outputs": [],
   "source": [
    "''' 15. Write a Python program to print reverse strings of strings that are present in the given list. \n",
    "    Data:\n",
    "        ['suresk', 'kumar', 'siva', 'boss', 'bala']\n",
    "    Expected Output:\n",
    "        Reverse strings of the said given list:\n",
    "        ['kserus', 'ramuk', 'avis', 'ssob', 'alab'] '''\n",
    "        \n",
    "        \n",
    "        \n",
    "        "
   ]
  },
  {
   "cell_type": "code",
   "execution_count": 22,
   "metadata": {},
   "outputs": [
    {
     "name": "stdout",
     "output_type": "stream",
     "text": [
      "Reverse strings of the said given list: ['kserus', 'ramuk', 'avis', 'ssob', 'alab']\n"
     ]
    }
   ],
   "source": [
    "data = ['suresk', 'kumar', 'siva', 'boss', 'bala']\n",
    "reversed_strings=[s[::-1] for s in data]\n",
    "print(\"Reverse strings of the said given list:\",reversed_strings)"
   ]
  },
  {
   "cell_type": "code",
   "execution_count": null,
   "metadata": {},
   "outputs": [],
   "source": [
    "''' 16. Write a Python program to find the maximum and minimum product from the pairs of tuple in a given list. \n",
    "    Data:\n",
    "        [(2, 7), (2, 6), (1, 8), (4, 9)]\n",
    "    Expected Output:\n",
    "        Maximum and minimum product from the pairs of the said tuple of list:\n",
    "        (36, 8) '''\n",
    "    \n",
    "    \n",
    "    \n",
    "    "
   ]
  },
  {
   "cell_type": "code",
   "execution_count": 23,
   "metadata": {},
   "outputs": [
    {
     "name": "stdout",
     "output_type": "stream",
     "text": [
      "Maximum and minimum product from the pairs of the said tuple of list:\n",
      "(36, 8)\n"
     ]
    }
   ],
   "source": [
    "data = [(2, 7), (2, 6), (1, 8), (4, 9)]\n",
    "products=[a * b for (a, b) in data]\n",
    "max_product=max(products)\n",
    "min_product=min(products)\n",
    "print(\"Maximum and minimum product from the pairs of the said tuple of list:\")\n",
    "print((max_product, min_product))"
   ]
  },
  {
   "cell_type": "code",
   "execution_count": null,
   "metadata": {},
   "outputs": [],
   "source": [
    "''' 17. Write a Python program to calculate the product of the unique numbers from the given list. \n",
    "    Data:\n",
    "        [10, 20, 30, 40, 30, 50, 50, 40]\n",
    "    Expected Output:\n",
    "        Product of the unique numbers of the said list:  12000000 '''\n",
    "            \n",
    "            \n",
    "            \n",
    "            "
   ]
  },
  {
   "cell_type": "code",
   "execution_count": 24,
   "metadata": {},
   "outputs": [
    {
     "name": "stdout",
     "output_type": "stream",
     "text": [
      "Product of the unique numbers of the said list:  12000000\n"
     ]
    }
   ],
   "source": [
    "from functools import reduce\n",
    "import operator\n",
    "data = [10, 20, 30, 40, 30, 50, 50, 40]\n",
    "unique_numbers = set(data)\n",
    "product = reduce(operator.mul, unique_numbers, 1)\n",
    "print(\"Product of the unique numbers of the said list: \", product)"
   ]
  },
  {
   "cell_type": "code",
   "execution_count": null,
   "metadata": {},
   "outputs": [],
   "source": [
    "''' 18. Write a Python program to interleave multiple lists of same length. \n",
    "    Data:\n",
    "        x: [1, 2, 3, 4, 5, 6, 7]\n",
    "        y: [10, 20, 30, 40, 50, 60, 70]\n",
    "        z: [100, 200, 300, 400, 500, 600, 700]\n",
    "    Expected Output:\n",
    "        Interleave multiple lists:\n",
    "        [1, 10, 100, 2, 20, 200, 3, 30, 300, 4, 40, 400, 5, 50, 500, 6, 60, 600, 7, 70, 700] '''\n",
    "        \n",
    "        \n",
    "        \n",
    "        "
   ]
  },
  {
   "cell_type": "code",
   "execution_count": 25,
   "metadata": {},
   "outputs": [
    {
     "name": "stdout",
     "output_type": "stream",
     "text": [
      "Interleave multiple lists: [1, 10, 100, 2, 20, 200, 3, 30, 300, 4, 40, 400, 5, 50, 500, 6, 60, 600, 7, 70, 700]\n"
     ]
    }
   ],
   "source": [
    "x=[1, 2, 3, 4, 5, 6, 7]\n",
    "y=[10, 20, 30, 40, 50, 60, 70]\n",
    "z=[100, 200, 300, 400, 500, 600, 700]\n",
    "l=[item for group in zip(x, y, z) for item in group]\n",
    "print(\"Interleave multiple lists:\",l)"
   ]
  },
  {
   "cell_type": "code",
   "execution_count": null,
   "metadata": {},
   "outputs": [],
   "source": [
    "''' 19. Write a Python program to remove those words from the given list which contains a special character or a specified string. \n",
    "    Data:\n",
    "        ['suresk', 'kumar#', 'siva', 'boss@', 'bala']\n",
    "    Expected Output:\n",
    "        Character list:\n",
    "        ['#', 'color', '@']\n",
    "\n",
    "        New list:\n",
    "        ['suresk', '', 'siva', '', 'bala'] '''\n",
    "        \n",
    "        \n",
    "        \n",
    "        "
   ]
  },
  {
   "cell_type": "code",
   "execution_count": 27,
   "metadata": {},
   "outputs": [
    {
     "name": "stdout",
     "output_type": "stream",
     "text": [
      "Character list: ['#', 'color', '@']\n",
      "\n",
      "New list: ['suresk', '', 'siva', '', 'bala']\n"
     ]
    }
   ],
   "source": [
    "words=['suresk', 'kumar#', 'siva', 'boss@', 'bala']\n",
    "char=['#', 'color', '@']\n",
    "print(\"Character list:\",char)\n",
    "l=[word if not any(s in word for s in char) else '' for word in words]\n",
    "print(\"\\nNew list:\",l)"
   ]
  },
  {
   "cell_type": "code",
   "execution_count": null,
   "metadata": {},
   "outputs": [],
   "source": [
    "''' 20. Write a Python program to calculate the sum of the numbers in a list between the indices of a specified range. \n",
    "    Data:\n",
    "        [4, 1, 9, 6, 8, 3, 1, 9, 10, 11, 8, 12]\n",
    "    Expected Output:\n",
    "        Range: 8 , 10\n",
    "        Sum of the specified range:\n",
    "        29 '''\n",
    "        \n",
    "        \n",
    "        \n",
    "        "
   ]
  },
  {
   "cell_type": "code",
   "execution_count": 28,
   "metadata": {},
   "outputs": [
    {
     "name": "stdout",
     "output_type": "stream",
     "text": [
      "Range: 8 , 10\n",
      "Sum of the specified range: 29\n"
     ]
    }
   ],
   "source": [
    "data = [4, 1, 9, 6, 8, 3, 1, 9, 10, 11, 8, 12]\n",
    "start=8\n",
    "end=10\n",
    "print(\"Range:\",start,\",\",end)\n",
    "range_sum=sum(data[start:end+1])\n",
    "print(\"Sum of the specified range:\",range_sum)"
   ]
  },
  {
   "cell_type": "code",
   "execution_count": null,
   "metadata": {},
   "outputs": [],
   "source": []
  }
 ],
 "metadata": {
  "kernelspec": {
   "display_name": "Python 3 (ipykernel)",
   "language": "python",
   "name": "python3"
  },
  "language_info": {
   "codemirror_mode": {
    "name": "ipython",
    "version": 3
   },
   "file_extension": ".py",
   "mimetype": "text/x-python",
   "name": "python",
   "nbconvert_exporter": "python",
   "pygments_lexer": "ipython3",
   "version": "3.13.5"
  }
 },
 "nbformat": 4,
 "nbformat_minor": 4
}
