{
 "cells": [
  {
   "cell_type": "markdown",
   "metadata": {},
   "source": [
    "# Nested Tuple Intermediate Questions"
   ]
  },
  {
   "cell_type": "code",
   "execution_count": null,
   "metadata": {},
   "outputs": [],
   "source": [
    "1. Write a Python program to sort a nested tuple by its float element. \n",
    "    Data: \n",
    "        [('tuple1', '12.20'), ('tuple2', '15.10'), ('tuple3', '24.5')]\n",
    "    Expected Output: \n",
    "        [('tuple3', '24.5'), ('tuple2', '15.10'), ('tuple1', '12.20')]\n",
    "        \n",
    "        \n",
    "        \n",
    "        "
   ]
  },
  {
   "cell_type": "code",
   "execution_count": 1,
   "metadata": {},
   "outputs": [
    {
     "name": "stdout",
     "output_type": "stream",
     "text": [
      "[('tuple3', '24.5'), ('tuple2', '15.10'), ('tuple1', '12.20')]\n"
     ]
    }
   ],
   "source": [
    "x = [('tuple1', '12.20'), ('tuple2', '15.10'), ('tuple3', '24.5')]\n",
    "result = sorted(x, key=lambda item: float(item[1]), reverse=True)\n",
    "print(result)"
   ]
  },
  {
   "cell_type": "code",
   "execution_count": null,
   "metadata": {},
   "outputs": [],
   "source": [
    "2. Write a Python program to remove an empty tuple(s) from a list of nested tuples. \n",
    "    Data: \n",
    "        [(), (), ('',), ('a', 'b'), ('a', 'b', 'c'), ('d')]\n",
    "    Expected output: \n",
    "        [('',), ('a', 'b'), ('a', 'b', 'c'), 'd']\n",
    "\n",
    "        \n",
    "        \n",
    "        \n",
    "        "
   ]
  },
  {
   "cell_type": "code",
   "execution_count": 2,
   "metadata": {},
   "outputs": [
    {
     "name": "stdout",
     "output_type": "stream",
     "text": [
      "[('',), ('a', 'b'), ('a', 'b', 'c'), 'd']\n"
     ]
    }
   ],
   "source": [
    "lst = [(), (), ('',), ('a', 'b'), ('a', 'b', 'c'), ('d')]\n",
    "result = [item for item in lst if item != ()]\n",
    "print(result)"
   ]
  },
  {
   "cell_type": "code",
   "execution_count": null,
   "metadata": {},
   "outputs": [],
   "source": [
    "3. Write a Python program to count the elements in a list until an element is a tuple.\n",
    "    Data:\n",
    "        [10,20,30,(10,20),40]\n",
    "    Expected output:\n",
    "        3\n",
    "        \n",
    "        \n",
    "        \n",
    "        "
   ]
  },
  {
   "cell_type": "code",
   "execution_count": 3,
   "metadata": {},
   "outputs": [
    {
     "name": "stdout",
     "output_type": "stream",
     "text": [
      "3\n"
     ]
    }
   ],
   "source": [
    "lst = [10, 20, 30, (10, 20), 40]\n",
    "count = 0\n",
    "for item in lst:\n",
    "    if isinstance(item, tuple):\n",
    "        break\n",
    "    count += 1\n",
    "print(count)"
   ]
  },
  {
   "cell_type": "code",
   "execution_count": null,
   "metadata": {},
   "outputs": [],
   "source": [
    "4. Write a Python program to convert a nested tuple of string values into a nested tuple of integer values.\n",
    "    Data:\n",
    "        (('333', '33'), ('1416', '55'))\n",
    "    Expected output:\n",
    "        ((333, 33), (1416, 55))\n",
    "        \n",
    "        \n",
    "        \n",
    "        "
   ]
  },
  {
   "cell_type": "code",
   "execution_count": 5,
   "metadata": {},
   "outputs": [
    {
     "name": "stdout",
     "output_type": "stream",
     "text": [
      "((333, 33), (1416, 55))\n"
     ]
    }
   ],
   "source": [
    "t = (('333', '33'), ('1416', '55'))\n",
    "result = tuple(tuple(int(num) for num in inner) for inner in t)\n",
    "print(result)"
   ]
  },
  {
   "cell_type": "code",
   "execution_count": null,
   "metadata": {},
   "outputs": [],
   "source": [
    "5. Write a Python program to concat the given two tuples into a nested tuple.\n",
    "    Data:\n",
    "        test1 = (1, 2), \n",
    "        test2 = (3, 4),\n",
    "    Expected output:\n",
    "        The original tuple 1 : ((1, 2),)\n",
    "        The original tuple 2 : ((3, 4),)\n",
    "        Tuples after Concatenating : ((1, 2), (3, 4))\n",
    "            \n",
    "            \n",
    "            \n",
    "            "
   ]
  },
  {
   "cell_type": "code",
   "execution_count": 6,
   "metadata": {},
   "outputs": [
    {
     "name": "stdout",
     "output_type": "stream",
     "text": [
      "The original tuple 1 : ((1, 2),)\n",
      "The original tuple 2 : ((3, 4),)\n",
      "Tuples after Concatenating : ((1, 2), (3, 4))\n"
     ]
    }
   ],
   "source": [
    "test1 = ((1, 2),)\n",
    "test2 = ((3, 4),)\n",
    "print(\"The original tuple 1 :\", test1)\n",
    "print(\"The original tuple 2 :\", test2)\n",
    "result = test1 + test2\n",
    "print(\"Tuples after Concatenating :\", result)"
   ]
  },
  {
   "cell_type": "code",
   "execution_count": null,
   "metadata": {},
   "outputs": [],
   "source": [
    "6. Write a Python program to remove duplicate tuples from the given list of tuples.\n",
    "    Data:\n",
    "        lst = [(1, 2), (5, 7), (3, 6), (1, 2)] \n",
    "    Expected output:\n",
    "        [(1, 2), (5, 7), (3, 6)]\n",
    "        \n",
    "        \n",
    "        \n",
    "        "
   ]
  },
  {
   "cell_type": "code",
   "execution_count": 7,
   "metadata": {},
   "outputs": [
    {
     "name": "stdout",
     "output_type": "stream",
     "text": [
      "[(1, 2), (5, 7), (3, 6)]\n"
     ]
    }
   ],
   "source": [
    "lst = [(1, 2), (5, 7), (3, 6), (1, 2)]\n",
    "seen = set()\n",
    "result = []\n",
    "for t in lst:\n",
    "    if t not in seen:\n",
    "        result.append(t)\n",
    "        seen.add(t)\n",
    "print(result)"
   ]
  },
  {
   "cell_type": "code",
   "execution_count": null,
   "metadata": {},
   "outputs": [],
   "source": [
    "7. Write a Python program to remove 'None' from the given list of tuples.\n",
    "    Data:\n",
    "        x = [(None, 2), (None, None), (3, 4), (12, 3), (None, )] \\\n",
    "    Expected output: \n",
    "        The original list is : [(None, 2), (None, None), (3, 4), (12, 3), (None,)]\n",
    "        Removed None Tuples : [(None, 2), (3, 4), (12, 3)]\n",
    "            \n",
    "            \n",
    "            \n",
    "            "
   ]
  },
  {
   "cell_type": "code",
   "execution_count": 8,
   "metadata": {},
   "outputs": [
    {
     "name": "stdout",
     "output_type": "stream",
     "text": [
      "The original list is : [(None, 2), (None, None), (3, 4), (12, 3), (None,)]\n",
      "Removed None Tuples : [(None, 2), (3, 4), (12, 3)]\n"
     ]
    }
   ],
   "source": [
    "x = [(None, 2), (None, None), (3, 4), (12, 3), (None, )]\n",
    "print(\"The original list is :\", x)\n",
    "result = [t for t in x if not all(item is None for item in t)]\n",
    "print(\"Removed None Tuples :\", result)"
   ]
  },
  {
   "cell_type": "code",
   "execution_count": null,
   "metadata": {},
   "outputs": [],
   "source": [
    "8. Write a Python program to find the tuples which contains the given element from a list of tuples.\n",
    "    Data:\n",
    "        [(14, 3),(23, 41),(33, 62),(1, 3),(3, 3)] \n",
    "    Expected output:\n",
    "        [(14, 3), (1, 3), (3, 3)]\n",
    "        \n",
    "        \n",
    "        \n",
    "        "
   ]
  },
  {
   "cell_type": "code",
   "execution_count": 9,
   "metadata": {},
   "outputs": [
    {
     "name": "stdout",
     "output_type": "stream",
     "text": [
      "[(14, 3), (1, 3), (3, 3)]\n"
     ]
    }
   ],
   "source": [
    "lst = [(14, 3), (23, 41), (33, 62), (1, 3), (3, 3)]\n",
    "element = 3\n",
    "result = [t for t in lst if element in t]\n",
    "print(result)"
   ]
  },
  {
   "cell_type": "code",
   "execution_count": null,
   "metadata": {},
   "outputs": [],
   "source": [
    "9. Write a Python program to convert string values from a given list into a list of tuples, using map() and eval() functions.\n",
    "    Data:\n",
    "        [\"('Boss', 3)\", \"('Suresh', 6)\", \"('Dinesh', 9)\"]\n",
    "    Expected output: \n",
    "        The original list is : [\"('Boss', 3)\", \"('Suresh', 6)\", \"('Dinesh', 9)\"]\n",
    "        The list tuple after conversion : [('Boss', 3), ('Suresh', 6), ('Dinesh', 9)]\n",
    "            \n",
    "            \n",
    "            \n",
    "            "
   ]
  },
  {
   "cell_type": "code",
   "execution_count": 10,
   "metadata": {},
   "outputs": [
    {
     "name": "stdout",
     "output_type": "stream",
     "text": [
      "The original list is : [\"('Boss', 3)\", \"('Suresh', 6)\", \"('Dinesh', 9)\"]\n",
      "The list tuple after conversion : [('Boss', 3), ('Suresh', 6), ('Dinesh', 9)]\n"
     ]
    }
   ],
   "source": [
    "lst = [\"('Boss', 3)\", \"('Suresh', 6)\", \"('Dinesh', 9)\"]\n",
    "print(\"The original list is :\", lst)\n",
    "tuple_list = list(map(eval, lst))\n",
    "print(\"The list tuple after conversion :\", tuple_list)"
   ]
  },
  {
   "cell_type": "code",
   "execution_count": null,
   "metadata": {},
   "outputs": [],
   "source": [
    "10. Write a Python program to print only those tuples which has all positive elements in it.\n",
    "    Data:\n",
    "        [(4, 5, 9), (-3, 2, 3), (-3, 5, 6), (4, 6)]\n",
    "    Expected output:\n",
    "        The original list is : [(4, 5, 9), (-3, 2, 3), (-3, 5, 6), (4, 6)]\n",
    "        Positive elements Tuples : [(4, 5, 9), (4, 6)]\n",
    "            \n",
    "            \n",
    "            \n",
    "            "
   ]
  },
  {
   "cell_type": "code",
   "execution_count": 11,
   "metadata": {},
   "outputs": [
    {
     "name": "stdout",
     "output_type": "stream",
     "text": [
      "The original list is : [(4, 5, 9), (-3, 2, 3), (-3, 5, 6), (4, 6)]\n",
      "Positive elements Tuples : [(4, 5, 9), (4, 6)]\n"
     ]
    }
   ],
   "source": [
    "lst = [(4, 5, 9), (-3, 2, 3), (-3, 5, 6), (4, 6)]\n",
    "print(\"The original list is :\", lst)\n",
    "positive_tuples = [t for t in lst if all(x > 0 for x in t)]\n",
    "print(\"Positive elements Tuples :\", positive_tuples)"
   ]
  },
  {
   "cell_type": "code",
   "execution_count": null,
   "metadata": {},
   "outputs": [],
   "source": []
  }
 ],
 "metadata": {
  "kernelspec": {
   "display_name": "Python 3 (ipykernel)",
   "language": "python",
   "name": "python3"
  },
  "language_info": {
   "codemirror_mode": {
    "name": "ipython",
    "version": 3
   },
   "file_extension": ".py",
   "mimetype": "text/x-python",
   "name": "python",
   "nbconvert_exporter": "python",
   "pygments_lexer": "ipython3",
   "version": "3.13.5"
  }
 },
 "nbformat": 4,
 "nbformat_minor": 4
}
