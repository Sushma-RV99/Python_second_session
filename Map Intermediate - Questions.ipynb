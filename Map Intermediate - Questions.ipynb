{
 "cells": [
  {
   "cell_type": "markdown",
   "metadata": {},
   "source": [
    "# Map Intermediate Questions"
   ]
  },
  {
   "cell_type": "code",
   "execution_count": null,
   "metadata": {},
   "outputs": [],
   "source": [
    "1. Write a Python program to triple all the numbers of a given list of integers using map().\n",
    "    Data:\n",
    "        Original list:  (1, 2, 3, 4, 5, 6, 7)\n",
    "    Expected Output:\n",
    "        Triple of said list numbers:\n",
    "        <map object at 0x0000014EA83550D0>\n",
    "        [3, 6, 9, 12, 15, 18, 21]\n",
    "            \n",
    "            \n",
    "            \n",
    "            "
   ]
  },
  {
   "cell_type": "code",
   "execution_count": 1,
   "metadata": {},
   "outputs": [
    {
     "name": "stdout",
     "output_type": "stream",
     "text": [
      "Original list:  (1, 2, 3, 4, 5, 6, 7)\n",
      "Triple of said list numbers:\n",
      "<map object at 0x00000249504DC430>\n",
      "[3, 6, 9, 12, 15, 18, 21]\n"
     ]
    }
   ],
   "source": [
    "nums=(1, 2, 3, 4, 5, 6, 7)\n",
    "print(\"Original list: \", nums)\n",
    "tripled = map(lambda x: x * 3, nums)\n",
    "print(\"Triple of said list numbers:\")\n",
    "print(tripled)           \n",
    "print(list(tripled))     "
   ]
  },
  {
   "cell_type": "code",
   "execution_count": null,
   "metadata": {},
   "outputs": [],
   "source": [
    "2. Write a Python program to add three given lists using map and lambda functions.\n",
    "    Data:\n",
    "        x = [1, 2, 3] \n",
    "        y = [4, 5, 6] \n",
    "        z = [7, 8, 9]\n",
    "    Expected Output:\n",
    "        New list after adding above three lists:\n",
    "        <map object at 0x0000014EA8396580>\n",
    "        [12, 15, 18]\n",
    "            \n",
    "            \n",
    "            \n",
    "            "
   ]
  },
  {
   "cell_type": "code",
   "execution_count": 2,
   "metadata": {},
   "outputs": [
    {
     "name": "stdout",
     "output_type": "stream",
     "text": [
      "New list after adding above three lists:\n",
      "<map object at 0x00000249504DCA30>\n",
      "[12, 15, 18]\n"
     ]
    }
   ],
   "source": [
    "x = [1, 2, 3]\n",
    "y = [4, 5, 6]\n",
    "z = [7, 8, 9]\n",
    "added = map(lambda a, b, c: a + b + c, x, y, z)\n",
    "print(\"New list after adding above three lists:\")\n",
    "print(added)           \n",
    "print(list(added))    "
   ]
  },
  {
   "cell_type": "code",
   "execution_count": null,
   "metadata": {},
   "outputs": [],
   "source": [
    "3. Write a Python program to print the given strings individually from the list using map().\n",
    "    Data:\n",
    "        Original list: ['Boss', 'Suresh', 'Siva', 'Balu', 'Dinesh']\n",
    "    Expected Output:\n",
    "        Original list: \n",
    "            ['Boss', 'Suresh', 'Siva', 'Balu', 'Dinesh']\n",
    "        Listing of strings individually : \n",
    "            <map object at 0x000002175B15CD60>\n",
    "            [['B', 'o', 's', 's'], ['S', 'u', 'r', 'e', 's', 'h'], ['S', 'i', 'v', 'a'], \n",
    "             ['B', 'a', 'l', 'u'], ['D', 'i', 'n', 'e', 's', 'h']]\n",
    "        \n",
    "        \n",
    "        \n",
    "        "
   ]
  },
  {
   "cell_type": "code",
   "execution_count": 3,
   "metadata": {},
   "outputs": [
    {
     "name": "stdout",
     "output_type": "stream",
     "text": [
      "Original list: \n",
      "['Boss', 'Suresh', 'Siva', 'Balu', 'Dinesh']\n",
      "Listing of strings individually : \n",
      "<map object at 0x00000249504DC190>\n",
      "[['B', 'o', 's', 's'], ['S', 'u', 'r', 'e', 's', 'h'], ['S', 'i', 'v', 'a'], ['B', 'a', 'l', 'u'], ['D', 'i', 'n', 'e', 's', 'h']]\n"
     ]
    }
   ],
   "source": [
    "lst = ['Boss', 'Suresh', 'Siva', 'Balu', 'Dinesh']\n",
    "print(\"Original list: \")\n",
    "print(lst)\n",
    "result = map(list, lst)\n",
    "print(\"Listing of strings individually : \")\n",
    "print(result)           \n",
    "print(list(result))    "
   ]
  },
  {
   "cell_type": "code",
   "execution_count": null,
   "metadata": {},
   "outputs": [],
   "source": [
    "4. Write a Python program to create a list, containing the power of numbers in the given list [num] and \n",
    "            bases raised to the corresponding number from the list [index] using map().\n",
    "    Data:\n",
    "        num = [10, 20, 30, 40, 50, 60, 70, 80, 90, 100]\n",
    "        index = [1, 2, 3, 4, 5, 6, 7, 8, 9, 10]\n",
    "    Expected Output:\n",
    "        Power of said number in bases raised to the corresponding number in the index:\n",
    "        <map object at 0x0000014EA833C9A0>\n",
    "        [10, 400, 27000, 2560000, 312500000, 46656000000, 8235430000000, 1677721600000000, 387420489000000000, \n",
    "         100000000000000000000]\n",
    "        \n",
    "        \n",
    "        \n",
    "        "
   ]
  },
  {
   "cell_type": "code",
   "execution_count": 4,
   "metadata": {},
   "outputs": [
    {
     "name": "stdout",
     "output_type": "stream",
     "text": [
      "Power of said number in bases raised to the corresponding number in the index:\n",
      "<map object at 0x00000249504DD300>\n",
      "[10, 400, 27000, 2560000, 312500000, 46656000000, 8235430000000, 1677721600000000, 387420489000000000, 100000000000000000000]\n"
     ]
    }
   ],
   "source": [
    "num = [10, 20, 30, 40, 50, 60, 70, 80, 90, 100]\n",
    "index = [1, 2, 3, 4, 5, 6, 7, 8, 9, 10]\n",
    "result = map(lambda a, b: a ** b, num, index)\n",
    "print(\"Power of said number in bases raised to the corresponding number in the index:\")\n",
    "print(result)          \n",
    "print(list(result))     "
   ]
  },
  {
   "cell_type": "code",
   "execution_count": null,
   "metadata": {},
   "outputs": [],
   "source": [
    "5. Write a Python program to square the elements of a list using map() function.\n",
    "    Data:\n",
    "        Original List:  [4, 5, 6, 7]\n",
    "    Expected Output:\n",
    "        Square the elements of the said list using map():\n",
    "        [16, 25, 36, 49]\n",
    "        \n",
    "        \n",
    "        \n",
    "        "
   ]
  },
  {
   "cell_type": "code",
   "execution_count": 5,
   "metadata": {},
   "outputs": [
    {
     "name": "stdout",
     "output_type": "stream",
     "text": [
      "Square the elements of the said list using map():\n",
      "[16, 25, 36, 49]\n"
     ]
    }
   ],
   "source": [
    "lst = [4, 5, 6, 7]\n",
    "squared = list(map(lambda x: x ** 2, lst))\n",
    "print(\"Square the elements of the said list using map():\")\n",
    "print(squared)"
   ]
  },
  {
   "cell_type": "code",
   "execution_count": null,
   "metadata": {},
   "outputs": [],
   "source": [
    "6. Write a Python program to convert all the characters in uppercase and lowercase and \n",
    "            eliminate duplicate letters from a given sequence. Use map() function.\n",
    "    Data:\n",
    "        Original Characters: {'U', 'f', 'c', 'i', 'E', 'a', 'b', 'o'}\n",
    "    Expected Output:\n",
    "        After converting above characters in upper and lower casesand eliminating duplicate letters:\n",
    "        {('C', 'c'), ('I', 'i'), ('A', 'a'), ('F', 'f'), ('B', 'b'), ('O', 'o'), ('E', 'e'), ('U', 'u')}\n",
    "        \n",
    "        \n",
    "        \n",
    "        "
   ]
  },
  {
   "cell_type": "code",
   "execution_count": 6,
   "metadata": {},
   "outputs": [
    {
     "name": "stdout",
     "output_type": "stream",
     "text": [
      "After converting above characters in upper and lower cases and eliminating duplicate letters:\n",
      "{('U', 'u'), ('O', 'o'), ('I', 'i'), ('E', 'e'), ('C', 'c'), ('B', 'b'), ('F', 'f'), ('A', 'a')}\n"
     ]
    }
   ],
   "source": [
    "chars = {'U', 'f', 'c', 'i', 'E', 'a', 'b', 'o'}\n",
    "result = set(map(lambda ch: (ch.upper(), ch.lower()), chars))\n",
    "print(\"After converting above characters in upper and lower cases and eliminating duplicate letters:\")\n",
    "print(result)"
   ]
  },
  {
   "cell_type": "code",
   "execution_count": null,
   "metadata": {},
   "outputs": [],
   "source": [
    "7. Write a Python program to add two given lists and find the difference between lists.\n",
    "        Print the results in another list using map() function.\n",
    "    Data:\n",
    "        nums1 = [4, 5, 6, 7]\n",
    "        nums2 = [0, 1, 2, 3]\n",
    "    Expected Output:\n",
    "        [(4, 4), (6, 4), (8, 4), (10, 4)]\n",
    "        \n",
    "        \n",
    "        \n",
    "        "
   ]
  },
  {
   "cell_type": "code",
   "execution_count": 7,
   "metadata": {},
   "outputs": [
    {
     "name": "stdout",
     "output_type": "stream",
     "text": [
      "[(4, 4), (6, 4), (8, 4), (10, 4)]\n"
     ]
    }
   ],
   "source": [
    "nums1 = [4, 5, 6, 7]\n",
    "nums2 = [0, 1, 2, 3]\n",
    "result = list(map(lambda a, b: (a + b, a - b), nums1, nums2))\n",
    "print(result)"
   ]
  },
  {
   "cell_type": "code",
   "execution_count": null,
   "metadata": {},
   "outputs": [],
   "source": [
    "8. Write a Python program to convert a given list of integers and a given tuple of integers into lists of strings.\n",
    "    Data:\n",
    "        lists = [1,2,3,4]\n",
    "        tuples = (0, 1, 2, 3) \n",
    "    Expected Output:\n",
    "        List of strings: ['1', '2', '3', '4']\n",
    "        Tuple of strings: ('0', '1', '2', '3')\n",
    "            \n",
    "            \n",
    "            \n",
    "            "
   ]
  },
  {
   "cell_type": "code",
   "execution_count": 8,
   "metadata": {},
   "outputs": [
    {
     "name": "stdout",
     "output_type": "stream",
     "text": [
      "List of strings: ['1', '2', '3', '4']\n",
      "Tuple of strings: ('0', '1', '2', '3')\n"
     ]
    }
   ],
   "source": [
    "lists = [1, 2, 3, 4]\n",
    "tuples = (0, 1, 2, 3)\n",
    "list_of_strings = list(map(str, lists))\n",
    "tuple_of_strings = tuple(map(str, tuples))\n",
    "print(\"List of strings:\", list_of_strings)\n",
    "print(\"Tuple of strings:\", tuple_of_strings)"
   ]
  },
  {
   "cell_type": "code",
   "execution_count": null,
   "metadata": {},
   "outputs": [],
   "source": [
    "9. Write a Python program to create a new list by taking the weights of each student from a given tuple and \n",
    "            convert the string value into an integer using map().\n",
    "    Data:\n",
    "        student = [('Baskar','15/05/2002','35kg'), ('Suresh','17/05/2002','37kg'), ('Siva','16/02/1999', '39kg'), \n",
    "                 ('Dinesh','25/09/1998', '35kg')]\n",
    "    Expected Output:\n",
    "        Student weight: [35, 37, 39, 35]\n",
    "            \n",
    "            \n",
    "            \n",
    "            "
   ]
  },
  {
   "cell_type": "code",
   "execution_count": 9,
   "metadata": {},
   "outputs": [
    {
     "name": "stdout",
     "output_type": "stream",
     "text": [
      "Student weight: [35, 37, 39, 35]\n"
     ]
    }
   ],
   "source": [
    "student = [('Baskar','15/05/2002','35kg'),('Suresh','17/05/2002','37kg'),('Siva','16/02/1999', '39kg'),('Dinesh','25/09/1998', '35kg')]\n",
    "weights = list(map(lambda s: int(s[2].replace('kg', '')), student))\n",
    "print(\"Student weight:\", weights)"
   ]
  },
  {
   "cell_type": "code",
   "execution_count": null,
   "metadata": {},
   "outputs": [],
   "source": [
    "10. Write a Python program to print the first 10 fibonacci series and map() the squares of each numbers in a series into a list.\n",
    "    Expected Output:\n",
    "        First 10 Fibonacci numbers: [0, 1, 1, 2, 3, 5, 8, 13, 21, 34]\n",
    "        After squaring said numbers of the list: [0, 1, 1, 4, 9, 25, 64, 169, 441, 1156]\n",
    "            \n",
    "            \n",
    "            \n",
    "            "
   ]
  },
  {
   "cell_type": "code",
   "execution_count": 10,
   "metadata": {},
   "outputs": [
    {
     "name": "stdout",
     "output_type": "stream",
     "text": [
      "First 10 Fibonacci numbers: [0, 1, 1, 2, 3, 5, 8, 13, 21, 34]\n",
      "After squaring said numbers of the list: [0, 1, 1, 4, 9, 25, 64, 169, 441, 1156]\n"
     ]
    }
   ],
   "source": [
    "fib = [0, 1]\n",
    "for _ in range(8):\n",
    "    fib.append(fib[-1] + fib[-2])\n",
    "print(\"First 10 Fibonacci numbers:\", fib)\n",
    "squares = list(map(lambda x: x**2, fib))\n",
    "print(\"After squaring said numbers of the list:\", squares)"
   ]
  },
  {
   "cell_type": "code",
   "execution_count": null,
   "metadata": {},
   "outputs": [],
   "source": []
  }
 ],
 "metadata": {
  "kernelspec": {
   "display_name": "Python 3 (ipykernel)",
   "language": "python",
   "name": "python3"
  },
  "language_info": {
   "codemirror_mode": {
    "name": "ipython",
    "version": 3
   },
   "file_extension": ".py",
   "mimetype": "text/x-python",
   "name": "python",
   "nbconvert_exporter": "python",
   "pygments_lexer": "ipython3",
   "version": "3.13.5"
  }
 },
 "nbformat": 4,
 "nbformat_minor": 4
}
