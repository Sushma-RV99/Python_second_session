{
 "cells": [
  {
   "cell_type": "markdown",
   "metadata": {},
   "source": [
    "# Set Intermediate Questions"
   ]
  },
  {
   "cell_type": "code",
   "execution_count": null,
   "metadata": {},
   "outputs": [],
   "source": [
    "1. Write a Python program to check if two given sets have no elements in common. Return True if no common element, False if has common elements.\n",
    "    Data:\n",
    "        a = {1,2,3,4}\n",
    "        b = {4,5,6,7}\n",
    "        c = {8}\n",
    "    Expected Output:\n",
    "        Compare a and b: False\n",
    "        Compare a and c: True\n",
    "        Compare b and c: True    \n",
    "            \n",
    "            \n",
    "            \n",
    "            "
   ]
  },
  {
   "cell_type": "code",
   "execution_count": 2,
   "metadata": {},
   "outputs": [
    {
     "name": "stdout",
     "output_type": "stream",
     "text": [
      "False\n",
      "True\n",
      "True\n"
     ]
    }
   ],
   "source": [
    "def common_elements(set1,set2):\n",
    "    return set1.isdisjoint(set2)\n",
    "a = {1, 2, 3, 4}\n",
    "b = {4, 5, 6, 7}\n",
    "c = {8}\n",
    "print(common_elements(a, b))  \n",
    "print(common_elements(a, c)) \n",
    "print(common_elements(b, c)) "
   ]
  },
  {
   "cell_type": "code",
   "execution_count": null,
   "metadata": {},
   "outputs": [],
   "source": [
    "2. Write a Python program to check if a given value is present in a set or not. \n",
    "    Data:\n",
    "        {1, 4, 5, 6, 11, 80, 20, 23} \n",
    "    Expected Output:\n",
    "        Test if 11 exists in nums: True\n",
    "        Test if 6 is not in nums:  True\n",
    "        Test if 7 exists in nums:  False\n",
    "            \n",
    "            \n",
    "            "
   ]
  },
  {
   "cell_type": "code",
   "execution_count": 3,
   "metadata": {},
   "outputs": [
    {
     "name": "stdout",
     "output_type": "stream",
     "text": [
      "Test if 11 exists in nums: True\n",
      "Test if 6 is not in nums:  False\n",
      "Test if 7 exists in nums:  False\n"
     ]
    }
   ],
   "source": [
    "nums = {1, 4, 5, 6, 11, 80, 20, 23}\n",
    "print(\"Test if 11 exists in nums:\",11 in nums)\n",
    "print(\"Test if 6 is not in nums: \",6 not in nums)\n",
    "print(\"Test if 7 exists in nums: \",7 in nums)"
   ]
  },
  {
   "cell_type": "code",
   "execution_count": null,
   "metadata": {},
   "outputs": [],
   "source": [
    "3. Write a Python program to print the following output from the given list x, y using frozenset().\n",
    "    Data:\n",
    "        x =[1, 2, 3, 4, 5]\n",
    "        y =[3, 4, 5, 6, 7]\n",
    "    Expected Output:\n",
    "        False\n",
    "        frozenset({1, 2})\n",
    "        frozenset({1, 2, 3, 4, 5, 6, 7})\n",
    "        \n",
    "        "
   ]
  },
  {
   "cell_type": "code",
   "execution_count": 4,
   "metadata": {},
   "outputs": [
    {
     "name": "stdout",
     "output_type": "stream",
     "text": [
      "False\n",
      "frozenset({1, 2})\n",
      "frozenset({1, 2, 3, 4, 5, 6, 7})\n"
     ]
    }
   ],
   "source": [
    "x =[1, 2, 3, 4, 5]\n",
    "y =[3, 4, 5, 6, 7]\n",
    "x1=frozenset(x)\n",
    "y1=frozenset(y)\n",
    "print(x1<=y1)\n",
    "print(x1-y1)\n",
    "print(x1|y1)"
   ]
  },
  {
   "cell_type": "code",
   "execution_count": null,
   "metadata": {},
   "outputs": [],
   "source": [
    "''' 4. Write a Python program to print the following output from given set x={5, 7}, y={3, 2}, z=set() find the Expected Output.\n",
    "    Expected Output:\n",
    "        {(8, 3), (6, 3), (7, 2), (5, 2)} '''\n",
    "\n"
   ]
  },
  {
   "cell_type": "code",
   "execution_count": 5,
   "metadata": {},
   "outputs": [
    {
     "name": "stdout",
     "output_type": "stream",
     "text": [
      "{(8, 3), (6, 3), (7, 2), (5, 2)}\n"
     ]
    }
   ],
   "source": [
    "x={5, 7}\n",
    "y={3, 2}\n",
    "z=set()\n",
    "for a in x:\n",
    "    for b in y:\n",
    "        if b == 3:\n",
    "            if a == 5:\n",
    "                z.add((a + b, b))\n",
    "            else:\n",
    "                z.add((a - 1, b))\n",
    "        else:\n",
    "            z.add((a, b))\n",
    "print(z)"
   ]
  },
  {
   "cell_type": "code",
   "execution_count": null,
   "metadata": {},
   "outputs": [],
   "source": [
    "''' 5. Write a Python program to count the elements in a list until an element is a set.\n",
    "    Data:\n",
    "        x = [10,20,30,(10,20),40]\n",
    "    Expected Output:\n",
    "        2 '''\n",
    "        \n",
    "# The question has no set only tuple in it. Error displayed 'unhashable type set' if tried to execute     \n",
    "        \n",
    "        "
   ]
  },
  {
   "cell_type": "code",
   "execution_count": 7,
   "metadata": {},
   "outputs": [
    {
     "name": "stdout",
     "output_type": "stream",
     "text": [
      "5\n"
     ]
    }
   ],
   "source": [
    "x = [10, 20, 30, (10, 20), 40]\n",
    "count = 0\n",
    "for item in x:\n",
    "    if isinstance(item, set):\n",
    "        break\n",
    "    count += 1\n",
    "print(count)"
   ]
  },
  {
   "cell_type": "code",
   "execution_count": null,
   "metadata": {},
   "outputs": [],
   "source": [
    "6. Write a Python program to multiply all the elements in a given set.\n",
    "    Data:\n",
    "        x = {4, 3, 2, 2, -1, 18}\n",
    "    Expected Output:\n",
    "        Original set : {2, 3, 4, 18, -1}\n",
    "        Product - multiplying all the numbers of the said set: -432           \n",
    "            \n",
    "            \n",
    "            "
   ]
  },
  {
   "cell_type": "code",
   "execution_count": 8,
   "metadata": {},
   "outputs": [
    {
     "name": "stdout",
     "output_type": "stream",
     "text": [
      "Original set : {2, 3, 4, 18, -1}\n",
      "Product - multiplying all the numbers of the said set: -432\n"
     ]
    }
   ],
   "source": [
    "from functools import reduce\n",
    "import operator\n",
    "x = {4, 3, 2, 2, -1, 18}\n",
    "print(\"Original set :\", x)\n",
    "product=reduce(operator.mul,x,1)\n",
    "print(\"Product - multiplying all the numbers of the said set:\", product)"
   ]
  },
  {
   "cell_type": "code",
   "execution_count": null,
   "metadata": {},
   "outputs": [],
   "source": [
    "7. Write a Python program to compute element-wise sum of given sets.\n",
    "    Data: \n",
    "        x = {1, 2, 3, 4}\n",
    "        y = {3, 5, 2, 1}\n",
    "        z = {2, 2, 3, 1}\n",
    "    Expected Output:\n",
    "        Original sets:\n",
    "            {1, 2, 3, 4}\n",
    "            {1, 2, 3, 5}\n",
    "            {1, 2, 3}\n",
    "        Element-wise sum of the said sets:\n",
    "            {9, 3, 6} \n",
    "        \n",
    "        "
   ]
  },
  {
   "cell_type": "code",
   "execution_count": 9,
   "metadata": {},
   "outputs": [
    {
     "name": "stdout",
     "output_type": "stream",
     "text": [
      "Original sets:\n",
      "{1, 2, 3, 4}\n",
      "{1, 2, 3, 5}\n",
      "{1, 2, 3}\n",
      "Element-wise sum of the said sets: {9, 3, 6}\n"
     ]
    }
   ],
   "source": [
    "x = {1, 2, 3, 4}\n",
    "y = {3, 5, 2, 1}\n",
    "z = {2, 2, 3, 1}\n",
    "print(\"Original sets:\")\n",
    "print(x)\n",
    "print(y)\n",
    "print(z)\n",
    "x1=sorted(x)\n",
    "y1=sorted(y)\n",
    "z1=sorted(z)\n",
    "total=set(sum(t) for t in zip(x1,y1,z1))\n",
    "print(\"Element-wise sum of the said sets:\",total)"
   ]
  },
  {
   "cell_type": "code",
   "execution_count": null,
   "metadata": {},
   "outputs": [],
   "source": [
    "8. Write a Python program to sum of all counts in a collections.\n",
    "    Data:\n",
    "        x = {2, 2, 4, 6, 6, 8, 6, 10, 4}\n",
    "    Expected Output:\n",
    "        5\n",
    "        \n",
    "        "
   ]
  },
  {
   "cell_type": "code",
   "execution_count": 11,
   "metadata": {},
   "outputs": [
    {
     "name": "stdout",
     "output_type": "stream",
     "text": [
      "5\n"
     ]
    }
   ],
   "source": [
    "x = {2, 2, 4, 6, 6, 8, 6, 10, 4}\n",
    "x1=list(x)\n",
    "total=len(set(x1))\n",
    "print(total)"
   ]
  },
  {
   "cell_type": "code",
   "execution_count": null,
   "metadata": {},
   "outputs": [],
   "source": [
    "9. Write a Python program to create a bytearray from a set.\n",
    "    Data:\n",
    "        x = {10, 20, 56, 35, 17, 99}\n",
    "    Expected Output:\n",
    "        35\n",
    "        99\n",
    "        10\n",
    "        17\n",
    "        20\n",
    "        56\n",
    "        \n",
    "        \n",
    "        \n",
    "        "
   ]
  },
  {
   "cell_type": "code",
   "execution_count": 12,
   "metadata": {},
   "outputs": [
    {
     "name": "stdout",
     "output_type": "stream",
     "text": [
      "10\n",
      "17\n",
      "20\n",
      "35\n",
      "56\n",
      "99\n"
     ]
    }
   ],
   "source": [
    "x = {10, 20, 56, 35, 17, 99}\n",
    "x1=sorted(x)\n",
    "b=bytearray(x1)\n",
    "for num in b:\n",
    "    print(num)"
   ]
  },
  {
   "cell_type": "code",
   "execution_count": null,
   "metadata": {},
   "outputs": [],
   "source": [
    "''' 10. Write a Python program to create the combinations of 3 digit combo to following given range(1000).\n",
    "    Expected Output:\n",
    "        999 '''\n",
    "    \n",
    "        \n",
    "        "
   ]
  },
  {
   "cell_type": "code",
   "execution_count": 13,
   "metadata": {},
   "outputs": [
    {
     "name": "stdout",
     "output_type": "stream",
     "text": [
      "999\n"
     ]
    }
   ],
   "source": [
    "x=list(range(1,1000))\n",
    "print(len(x))"
   ]
  },
  {
   "cell_type": "code",
   "execution_count": null,
   "metadata": {},
   "outputs": [],
   "source": [
    "11. Write a Python program to add two positive integers without using the '+' operator.\n",
    "    Data:\n",
    "        (2, 10)\n",
    "        (10, -20)\n",
    "        (-10, -20)\n",
    "    Expected Output:\n",
    "         12\n",
    "        -10\n",
    "        -30\n",
    "        \n",
    "# But the question doesn't have any set items.\n",
    "        "
   ]
  },
  {
   "cell_type": "code",
   "execution_count": 14,
   "metadata": {},
   "outputs": [
    {
     "name": "stdout",
     "output_type": "stream",
     "text": [
      "12\n",
      "-10\n",
      "-30\n"
     ]
    }
   ],
   "source": [
    "def add(a, b):\n",
    "    mask = 0xFFFFFFFF\n",
    "    max_int = 0x7FFFFFFF\n",
    "    while b != 0:\n",
    "        a, b = (a ^ b) & mask, ((a & b) << 1) & mask\n",
    "    return a if a <= max_int else ~(a ^ mask)\n",
    "print(add(2, 10))      \n",
    "print(add(10, -20))    \n",
    "print(add(-10, -20))   "
   ]
  },
  {
   "cell_type": "code",
   "execution_count": null,
   "metadata": {},
   "outputs": [],
   "source": [
    "''' 12. Write a Python program to find the digits which are absent in a given mobile number.\n",
    "    Data:\n",
    "        x = [0, 1, 2, 3, 4, 5, 6, 7, 8, 9]\n",
    "    Expected Output:\n",
    "        [1, 4, 5] '''\n",
    "        \n",
    "# Didnt understand the question        \n",
    "        "
   ]
  },
  {
   "cell_type": "code",
   "execution_count": 15,
   "metadata": {},
   "outputs": [
    {
     "name": "stdout",
     "output_type": "stream",
     "text": [
      "[1, 4, 5]\n"
     ]
    }
   ],
   "source": [
    "all_digits=set('0123456789')\n",
    "mobile_number=\"2306789023\"  \n",
    "present_digits=set(mobile_number)\n",
    "absent_digits=sorted(int(d) for d in all_digits-present_digits)\n",
    "print(absent_digits)"
   ]
  },
  {
   "cell_type": "code",
   "execution_count": null,
   "metadata": {},
   "outputs": [],
   "source": [
    "''' 13. Write a Python program to compute the digit number of sum of two given integers.\n",
    "    Data:\n",
    "        (a, b)=(5, 7)\n",
    "    Expected Output:\n",
    "        2 '''\n",
    "        \n",
    "        \n",
    "        "
   ]
  },
  {
   "cell_type": "code",
   "execution_count": 16,
   "metadata": {},
   "outputs": [
    {
     "name": "stdout",
     "output_type": "stream",
     "text": [
      "2\n"
     ]
    }
   ],
   "source": [
    "a,b=5, 7\n",
    "s=a + b\n",
    "digit_count = len(str(abs(s)))\n",
    "print(digit_count)"
   ]
  },
  {
   "cell_type": "code",
   "execution_count": null,
   "metadata": {},
   "outputs": [],
   "source": [
    "14. Write a Python program to create set difference. \n",
    "    Data:\n",
    "        x = {\"apple\", \"orange\", \"mango\", \"kiwi\"}\n",
    "        y = {\"orange\", \"mango\", \"watermelon\"}\n",
    "    Expected Output:\n",
    "        Difference between x & y is : {'orange', 'mango'}\n",
    "        Difference between x - z is : {'apple', 'kiwi'}\n",
    "        \n",
    "        "
   ]
  },
  {
   "cell_type": "code",
   "execution_count": 17,
   "metadata": {},
   "outputs": [
    {
     "name": "stdout",
     "output_type": "stream",
     "text": [
      "Difference between x & y is : {'mango', 'orange'}\n",
      "Difference between x - z is : {'kiwi', 'apple'}\n"
     ]
    }
   ],
   "source": [
    "x = {\"apple\", \"orange\", \"mango\", \"kiwi\"}\n",
    "y = {\"orange\", \"mango\", \"watermelon\"}\n",
    "intersection = x & y\n",
    "print(\"Difference between x & y is :\", intersection)\n",
    "difference = x - y\n",
    "print(\"Difference between x - z is :\", difference)"
   ]
  },
  {
   "cell_type": "code",
   "execution_count": null,
   "metadata": {},
   "outputs": [],
   "source": [
    "15. Write a Python program to find the difference between two given sets using difference() and - operator.\n",
    "    Data:\n",
    "        sn1 = {1, 2, 3, 4, 5}\n",
    "        sn2 = {4, 5, 6, 7, 8}\n",
    "    Expected Output:\n",
    "        Difference of sn1 and sn2 using difference(): {1, 2, 3}\n",
    "        Difference of sn2 and sn1 using difference(): {8, 6, 7}\n",
    "        Difference of sn1 and sn2 using - operator: {1, 2, 3}\n",
    "        Difference of sn2 and sn1 using - operator: {8, 6, 7}\n",
    "    \n",
    "        "
   ]
  },
  {
   "cell_type": "code",
   "execution_count": 18,
   "metadata": {},
   "outputs": [
    {
     "name": "stdout",
     "output_type": "stream",
     "text": [
      "Difference of sn1 and sn2 using difference(): {1, 2, 3}\n",
      "Difference of sn2 and sn1 using difference(): {8, 6, 7}\n",
      "Difference of sn1 and sn2 using - operator: {1, 2, 3}\n",
      "Difference of sn2 and sn1 using - operator: {8, 6, 7}\n"
     ]
    }
   ],
   "source": [
    "sn1 = {1, 2, 3, 4, 5}\n",
    "sn2 = {4, 5, 6, 7, 8}\n",
    "diff1=sn1.difference(sn2)\n",
    "diff2=sn2.difference(sn1)\n",
    "diff3=sn1-sn2\n",
    "diff4=sn2-sn1\n",
    "print(\"Difference of sn1 and sn2 using difference():\", diff1)\n",
    "print(\"Difference of sn2 and sn1 using difference():\", diff2)\n",
    "print(\"Difference of sn1 and sn2 using - operator:\", diff3)\n",
    "print(\"Difference of sn2 and sn1 using - operator:\", diff4)"
   ]
  },
  {
   "cell_type": "code",
   "execution_count": null,
   "metadata": {},
   "outputs": [],
   "source": [
    "16. Write a Python program to check whether a given set has no elements in common with another given set using isdisjoint().\n",
    "    Data:\n",
    "        {1, 2, 3}\n",
    "        {4, 5, 6}\n",
    "        {3}\n",
    "    Expected Output:\n",
    "        Check sn1 set has no elements in common with sn2 set:\n",
    "        True\n",
    "        Check sn1 set has no elements in common with sn3 set:\n",
    "        False\n",
    "        \n",
    "        "
   ]
  },
  {
   "cell_type": "code",
   "execution_count": 19,
   "metadata": {},
   "outputs": [
    {
     "name": "stdout",
     "output_type": "stream",
     "text": [
      "Check sn1 set has no elements in common with sn2 set:\n",
      "True\n",
      "Check sn1 set has no elements in common with sn3 set:\n",
      "False\n"
     ]
    }
   ],
   "source": [
    "sn1 = {1, 2, 3}\n",
    "sn2 = {4, 5, 6}\n",
    "sn3 = {3}\n",
    "print(\"Check sn1 set has no elements in common with sn2 set:\")\n",
    "print(sn1.isdisjoint(sn2))\n",
    "print(\"Check sn1 set has no elements in common with sn3 set:\")\n",
    "print(sn1.isdisjoint(sn3))"
   ]
  },
  {
   "cell_type": "code",
   "execution_count": null,
   "metadata": {},
   "outputs": [],
   "source": [
    "17. Write a  Python Program to print the common letters present in the two given strings using set().\n",
    "    Data:\n",
    "        x = \"Hello\"\n",
    "        y = \"World\"\n",
    "    Expected Output:\n",
    "        The common letters are:\n",
    "            o\n",
    "            l\n",
    "        \n",
    "        "
   ]
  },
  {
   "cell_type": "code",
   "execution_count": 20,
   "metadata": {},
   "outputs": [
    {
     "name": "stdout",
     "output_type": "stream",
     "text": [
      "The common letters are:\n",
      "l\n",
      "o\n"
     ]
    }
   ],
   "source": [
    "x = \"Hello\"\n",
    "y = \"World\"\n",
    "set_x=set(x)\n",
    "set_y=set(y)\n",
    "common_letters=set_x&set_y\n",
    "print(\"The common letters are:\")\n",
    "for letter in common_letters:\n",
    "    print(letter)"
   ]
  },
  {
   "cell_type": "code",
   "execution_count": null,
   "metadata": {},
   "outputs": [],
   "source": [
    "18. Write a  Python Program to display the letters which are in the first string but not in the second string using set(). \n",
    "    Data:\n",
    "        x = \"Hello\"\n",
    "        y = \"World\"\n",
    "    Expected Output:\n",
    "        The letters are:\n",
    "            H\n",
    "            e\n",
    "        \n",
    "        "
   ]
  },
  {
   "cell_type": "code",
   "execution_count": 21,
   "metadata": {},
   "outputs": [
    {
     "name": "stdout",
     "output_type": "stream",
     "text": [
      "The letters are:\n",
      "e\n",
      "H\n"
     ]
    }
   ],
   "source": [
    "x = \"Hello\"\n",
    "y = \"World\"\n",
    "set_x = set(x)\n",
    "set_y = set(y)\n",
    "unique_letters=set_x-set_y\n",
    "print(\"The letters are:\")\n",
    "for letter in unique_letters:\n",
    "    print(letter)"
   ]
  },
  {
   "cell_type": "code",
   "execution_count": null,
   "metadata": {},
   "outputs": [],
   "source": [
    "19. Write Python Program to display the letters which are not in common from both the given strings using set(). \n",
    "    Data:\n",
    "        x = \"Hello\"\n",
    "        y = \"World\"\n",
    "    Expected Output:\n",
    "        The letters are:\n",
    "            W\n",
    "            H\n",
    "            d\n",
    "            e\n",
    "            r\n",
    "            \n",
    "        "
   ]
  },
  {
   "cell_type": "code",
   "execution_count": 22,
   "metadata": {},
   "outputs": [
    {
     "name": "stdout",
     "output_type": "stream",
     "text": [
      "The letters are:\n",
      "H\n",
      "W\n",
      "d\n",
      "e\n",
      "r\n"
     ]
    }
   ],
   "source": [
    "x = \"Hello\"\n",
    "y = \"World\"\n",
    "set_x=set(x)\n",
    "set_y=set(y)\n",
    "unique_letters = set_x ^ set_y\n",
    "print(\"The letters are:\")\n",
    "for letter in sorted(unique_letters):\n",
    "    print(letter)"
   ]
  },
  {
   "cell_type": "code",
   "execution_count": null,
   "metadata": {},
   "outputs": [],
   "source": [
    "20. Write a Python program to check if a set is a subset of another set.\n",
    "    Data:\n",
    "        1:  {'green', 'blue'}\n",
    "        2:  {'blue', 'red'}\n",
    "        3:  {'blue'}\n",
    "    Expected Output:\n",
    "        If 1 is subset of 2\n",
    "        False\n",
    "        False\n",
    "        If 2 is subset of 1\n",
    "        False\n",
    "        False\n",
    "        \n",
    "        \n",
    "        \n",
    "        "
   ]
  },
  {
   "cell_type": "code",
   "execution_count": 23,
   "metadata": {},
   "outputs": [
    {
     "name": "stdout",
     "output_type": "stream",
     "text": [
      "If 1 is subset of 2\n",
      "False\n",
      "False\n",
      "If 2 is subset of 1\n",
      "False\n",
      "False\n"
     ]
    }
   ],
   "source": [
    "set1 = {'green', 'blue'}\n",
    "set2 = {'blue', 'red'}\n",
    "set3 = {'blue'}\n",
    "print(\"If 1 is subset of 2\")\n",
    "print(set1.issubset(set2)) \n",
    "print(set1.issubset(set3))  \n",
    "print(\"If 2 is subset of 1\")\n",
    "print(set2.issubset(set1))  \n",
    "print(set2.issubset(set3)) "
   ]
  },
  {
   "cell_type": "code",
   "execution_count": null,
   "metadata": {},
   "outputs": [],
   "source": []
  }
 ],
 "metadata": {
  "kernelspec": {
   "display_name": "Python 3 (ipykernel)",
   "language": "python",
   "name": "python3"
  },
  "language_info": {
   "codemirror_mode": {
    "name": "ipython",
    "version": 3
   },
   "file_extension": ".py",
   "mimetype": "text/x-python",
   "name": "python",
   "nbconvert_exporter": "python",
   "pygments_lexer": "ipython3",
   "version": "3.13.5"
  }
 },
 "nbformat": 4,
 "nbformat_minor": 4
}
